{
 "cells": [
  {
   "cell_type": "markdown",
   "metadata": {},
   "source": [
    "# Collaborative Review Task 4"
   ]
  },
  {
   "cell_type": "markdown",
   "metadata": {},
   "source": [
    "## Case Study\n",
    "\n",
    "In this assignment, you are going to be required to price a European put option using the three different techniques introduced in this module. The parameters are as follows:\n",
    "\n",
    "- Risk-free continuously-compounded interest rate, r, of 10%\n",
    "- Strike price, $ K $, of $1000\n",
    "\n",
    "- Initial stock price, $ S_0 $, of $120\n",
    "\n",
    "- Time to maturity, $ T $, of 2 years\n",
    "- Stock volatility, $ \\sigma $, of 25%"
   ]
  },
  {
   "cell_type": "markdown",
   "metadata": {},
   "source": [
    "You may make all the assumptions of the standard Black-Scholes model.\n",
    "\n",
    "1. Initialize the relevant parameters.\n",
    "\n",
    "2. Calculate the analytical price for the put option using the closed-form solution.\n",
    "\n",
    "3. Calculate the estimate for the put price using the characteristic function and technique described in note set 1. Use a maximum integral bound of 40 and $ N = 200 $ rectangles to approximate your integral. \n",
    "\n",
    "4. Observe that the payoff of a put option for the variable $ S_T = \\log(\\frac{S_T}{K})$ is $ p(s) = K(1-e^s)_{s<=0} $. This means that our $ v_n $ co-efficients in the COS method become:\n",
    "\n",
    "    $ v_n = \\frac{2}{b_2-b_1} \\int_{b_1}^0 K(1-e^s) \\cos(n \\pi \\frac{s-a}{b-a}) \n",
    "    = \\frac{2}{b_2-b_1} K(\\psi_n(b_1,0)-\\theta_n(b_1,0)))$\n",
    "    \n",
    "    Using this information, use the COS method to price an European put option using the given parameters. Calculate put prices for increasing upper limits on the COS method sum. Plot your results against the analytical put price.\n",
    "\n",
    "5. Use the fast Fourier transform (FFT) to price an European put option with the given parameters. You will have to price your put option for a range of strikes. Note that the only difference when applying the FFT to a put, when compared to a call, is that your value for $ \\alpha $ must be less than -1. Use a sequence length for your $ x_n $ of $ N = 2^10 $, and use $ \\delta_u = 0.25 $. Plot the estimated put prices against the analytical put prices (across the range of strikes)."
   ]
  },
  {
   "cell_type": "markdown",
   "metadata": {},
   "source": [
    "## Answer"
   ]
  },
  {
   "cell_type": "markdown",
   "metadata": {},
   "source": [
    "### Import Python library"
   ]
  },
  {
   "cell_type": "code",
   "execution_count": 1,
   "metadata": {},
   "outputs": [],
   "source": [
    "import numpy as np\n",
    "from scipy.stats import norm, uniform\n",
    "import matplotlib.pyplot as plt\n",
    "import math\n",
    "import random\n",
    "%matplotlib inline"
   ]
  },
  {
   "cell_type": "markdown",
   "metadata": {},
   "source": [
    "#### 1. Initialize the relevant parameters."
   ]
  },
  {
   "cell_type": "code",
   "execution_count": 2,
   "metadata": {},
   "outputs": [],
   "source": [
    "# Share specfic information\n",
    "r = 0.1\n",
    "S0 = 120\n",
    "sigma = 0.25\n",
    "\n",
    "# Put Option Specific Information\n",
    "K = 1000\n",
    "T = 2\n",
    "k_log = np.log(K)"
   ]
  },
  {
   "cell_type": "markdown",
   "metadata": {},
   "source": [
    "#### 2. Calculate the analytical price for the put option using the closed form solution"
   ]
  },
  {
   "cell_type": "code",
   "execution_count": 3,
   "metadata": {},
   "outputs": [],
   "source": [
    "# 3 functions to calculate d_1,d_2, and analytical put price\n",
    "\n",
    "def d_1_calculate(S_0,K,r,sigma,T):\n",
    "    \"\"\"Function for d_1 calculation\"\"\"\n",
    "    a = math.log(S_0/K)\n",
    "    b = (r + (sigma**2 / 2)) * T\n",
    "    c = sigma * math.sqrt(T)\n",
    "    result = (a + b) / c\n",
    "    return result\n",
    "\n",
    "def d_2_calculate(d_1,sigma,T):\n",
    "    a = sigma * math.sqrt(T)\n",
    "    result = d_1 - a\n",
    "    return result\n",
    "\n",
    "# Function for Analytical Solution\n",
    "def analytic_putprice_calculate(S_0,d_1,d_2,K,r,T):\n",
    "    a = -S_0 * norm.cdf(-d_1)\n",
    "    b = norm.cdf(-d_2) * K * math.exp(-r * T)\n",
    "    result = a + b\n",
    "    return result"
   ]
  },
  {
   "cell_type": "code",
   "execution_count": 4,
   "metadata": {},
   "outputs": [
    {
     "name": "stdout",
     "output_type": "stream",
     "text": [
      "The Analytical price for the Put Option is: 698.7307536073846\n"
     ]
    }
   ],
   "source": [
    "d_1 = d_1_calculate(S0,K,r,sigma,T)\n",
    "d_2 = d_2_calculate(d_1,sigma,T)\n",
    "\n",
    "analytic_putprice = analytic_putprice_calculate(S0,d_1,d_2,K,r,T)\n",
    "print(\"The Analytical price for the Put Option is: {}\".format(analytic_putprice))"
   ]
  },
  {
   "cell_type": "markdown",
   "metadata": {},
   "source": [
    "#### 3. Calculate the estimate for the put price using the characteristic function"
   ]
  },
  {
   "cell_type": "code",
   "execution_count": 5,
   "metadata": {},
   "outputs": [],
   "source": [
    "# Characteristic functions\n",
    "def c_M1(t):\n",
    "    #a = np.log(S0) + (r - sigma**2/2)*T\n",
    "    #b = (1/2) * (sigma**2) * T * (t**2)\n",
    "    #result = np.exp(1j*a - b)\n",
    "    #return result\n",
    "    return np.exp(1j*t*(np.log(S0)+(r-sigma**2/2)*T)-1/2*(sigma**2)*T*(t**2))\n",
    "\n",
    "\n",
    "\n",
    "def c_M2(t):\n",
    "    #a = 1j * sigma**2 * T\n",
    "    #result = np.exp(a) * c_M1(t)\n",
    "    #return result\n",
    "    return np.exp(1j*t*(sigma**2)*T)*c_M1(t)"
   ]
  },
  {
   "cell_type": "code",
   "execution_count": 6,
   "metadata": {},
   "outputs": [],
   "source": [
    "# Choosing t_max and N\n",
    "t_max = 20\n",
    "N = 200\n",
    "\n",
    "# Calculating delta and constructing t_n\n",
    "delta_t = t_max/N\n",
    "from_1_to_N = np.linspace(1,N,N)\n",
    "t_n = (from_1_to_N-1/2)*delta_t"
   ]
  },
  {
   "cell_type": "code",
   "execution_count": 7,
   "metadata": {},
   "outputs": [],
   "source": [
    "# Appriximate integral estimates\n",
    "\n",
    "# Function calculate integral\n",
    "#def degree_integral(t_n,k_log,c_M_degree_diff,delta_t):\n",
    "    #a = np.exp(-1j*t_n*k_log)\n",
    "    #b = (a * c_M_degree_diff).imag\n",
    "    #c = b/t_n * delta_t\n",
    "    #result = sum(c)\n",
    "    #return result\n",
    "    #result = sum(((( np.exp(-1j*t_n*k_log)*c_M_degree_diff(t_n)).imag)/t_n)*delta_t)\n",
    "    #return result\n",
    "\n",
    "first_integral = sum((((np.exp(-1j*t_n*k_log)*c_M2(t_n)).imag)/t_n)*delta_t)\n",
    "second_integral = sum((((np.exp(-1j*t_n*k_log)*c_M1(t_n)).imag)/t_n)*delta_t)"
   ]
  },
  {
   "cell_type": "code",
   "execution_count": 8,
   "metadata": {},
   "outputs": [
    {
     "data": {
      "text/plain": [
       "5.293757733766616e-07"
      ]
     },
     "execution_count": 8,
     "metadata": {},
     "output_type": "execute_result"
    }
   ],
   "source": [
    "# Calculate Fourier call price\n",
    "def Fourier_call_price(S0, first_integral,r,T,K,second_integral):\n",
    "    a = S0*(1/2 + first_integral/np.pi)\n",
    "    b = np.exp(-r*T) * K\n",
    "    c = b * (1/2 + (second_integral)/np.pi)\n",
    "    result = a - c\n",
    "    return result\n",
    "\n",
    "fourier_call_val = Fourier_call_price(S0,first_integral,r,T,K,second_integral)\n",
    "fourier_call_val"
   ]
  },
  {
   "cell_type": "code",
   "execution_count": 9,
   "metadata": {},
   "outputs": [
    {
     "name": "stdout",
     "output_type": "stream",
     "text": [
      "The Fourier Estimation for the Put Option is: 698.7307536073577\n"
     ]
    }
   ],
   "source": [
    "# Calculate Fourier put price\n",
    "def Fourier_put_price(S0, fourier_call_val,K,r,T):\n",
    "    a = K * np.exp(-r*T)\n",
    "    result = a + fourier_call_val - S0\n",
    "    return result\n",
    "fourier_put_val = Fourier_put_price(S0,fourier_call_val,K,r,T)\n",
    "print('The Fourier Estimation for the Put Option is: {}'.format(fourier_put_val))"
   ]
  },
  {
   "cell_type": "markdown",
   "metadata": {},
   "source": [
    "#### 4. Use the COS method to price an European put option using the given parameters. Calculate put prices for increasing upper limits on the COS method sum. Plot your results against the analytical put price. "
   ]
  },
  {
   "cell_type": "markdown",
   "metadata": {},
   "source": [
    "Using the Fourier-Cosine Method:"
   ]
  },
  {
   "cell_type": "code",
   "execution_count": 10,
   "metadata": {},
   "outputs": [],
   "source": [
    "# General functions for valuations:\n",
    "def upsilon_n(b1,b2,d,c,n):\n",
    "        npi_d = np.pi*n*(d-b1) / (b2-b1)\n",
    "        npi_c = np.pi*n*(c-b1) / (b2-b1)\n",
    "        val_one = (np.cos(npi_d)*np.exp(d) - np.cos(npi_c)*np.exp(c))\n",
    "        val_two = (n*np.pi*(np.sin(npi_d)*np.exp(d) - np.sin(npi_c)*np.exp(c))/ (b2-b1))\n",
    "        return (val_one + val_two ) / ( 1+(n*np.pi/(b2-b1))**2)\n",
    "\n",
    "def psi_n(b1,b2,d,c,n):\n",
    "    if n == 0:\n",
    "        return d-c \n",
    "    else:\n",
    "        return (b2-b1)*(np.sin(n*np.pi*(d-b1)/(b2-b1)) - np.sin(n*np.pi*(c-b1)/(b2-b1)))/(n*np.pi)"
   ]
  },
  {
   "cell_type": "code",
   "execution_count": 11,
   "metadata": {},
   "outputs": [],
   "source": [
    "# Functions for put valuation (similar to call function)\n",
    "def v_n(K,b1,b2,n):\n",
    "    return 2*K*(upsilon_n(b2,b1,b2,0,n) -  psi_n(b2,b1,b2,0,n))/(b1-b2)\n",
    "\n",
    "def logchar_func(u,S0,r,sigma,K,T):\n",
    "    return np.exp(1j*u*(np.log(S0/K)+(r-sigma**2/2)*T) - (sigma**2)*T*(u**2)/2)\n",
    "\n",
    "def put_price(N,S0,sigma,r,K,T,b2,b1):\n",
    "    price = v_n(K,b2,b1,0)*logchar_func(0,S0,r,sigma,K,T)/2\n",
    "    for n in range(1,N):\n",
    "        price = price + logchar_func(n*np.pi/(b2-b1),S0,r,sigma,K,T)*np.exp(-1j*n*np.pi*b1/(b2-b1))*v_n(K,b2,b1,n)\n",
    "    return price.real*np.exp(-r*T)"
   ]
  },
  {
   "cell_type": "code",
   "execution_count": 12,
   "metadata": {},
   "outputs": [],
   "source": [
    "#b1, b2 for call\n",
    "c1 = r\n",
    "c2 = T*sigma**2\n",
    "c4 = 0\n",
    "L = 10\n",
    "\n",
    "b1 = c1 - L*np.sqrt(c2-np.sqrt(c4))\n",
    "b2 = c1 + L*np.sqrt(c2-np.sqrt(c4))"
   ]
  },
  {
   "cell_type": "code",
   "execution_count": 13,
   "metadata": {},
   "outputs": [
    {
     "name": "stdout",
     "output_type": "stream",
     "text": [
      "The fourier estimation of Put Option using COS is: 698.7306714474088\n"
     ]
    }
   ],
   "source": [
    "# Calculating COS for various N\n",
    "COS_putprice = [None]*50\n",
    "\n",
    "for i in range(1,51):\n",
    "    COS_putprice[i-1] = put_price(i,S0,sigma,r,K,T,b2,b1)\n",
    "\n",
    "print('The fourier estimation of Put Option using COS is: {}'.format(COS_putprice[-1]))"
   ]
  },
  {
   "cell_type": "code",
   "execution_count": 14,
   "metadata": {},
   "outputs": [
    {
     "data": {
      "image/png": "[encoded data removed]",
      "text/plain": [
       "<Figure size 432x288 with 1 Axes>"
      ]
     },
     "metadata": {
      "needs_background": "light"
     },
     "output_type": "display_data"
    }
   ],
   "source": [
    "# Plotting the results\n",
    "plt.plot(COS_putprice)\n",
    "plt.plot([analytic_putprice]*50)\n",
    "plt.xlabel(\"N\")\n",
    "plt.ylabel(\"Put Price\")\n",
    "plt.show()"
   ]
  },
  {
   "cell_type": "markdown",
   "metadata": {},
   "source": [
    "#### 5. Use the fast Fourier transform (FFT) to price an European put option with the given parameters"
   ]
  },
  {
   "cell_type": "code",
   "execution_count": 31,
   "metadata": {},
   "outputs": [],
   "source": [
    "# Algorith info\n",
    "N = 2**10\n",
    "delta = 0.25\n",
    "alpha = -5"
   ]
  },
  {
   "cell_type": "code",
   "execution_count": 39,
   "metadata": {},
   "outputs": [],
   "source": [
    "def log_char(u):\n",
    "    return np.exp(1j*u*(np.log(S0)+(r-sigma**2/2)*T)-sigma**2*T*u**2/2)\n",
    "\n",
    "def c_func(v):\n",
    "    val1 = np.exp(-r*T)*log_char(v-(alpha+1)*1j)\n",
    "    val2 = alpha**2+alpha-v**2+1j*(2*alpha+1)*v\n",
    "    return val1/val2"
   ]
  },
  {
   "cell_type": "code",
   "execution_count": 40,
   "metadata": {},
   "outputs": [],
   "source": [
    "n = np.array(range(N))\n",
    "delta_k = 2*np.pi/(N*delta)\n",
    "b = delta_k*(N-1)/2\n",
    "\n",
    "log_strike = np.linspace(-b,b,N)"
   ]
  },
  {
   "cell_type": "code",
   "execution_count": 41,
   "metadata": {},
   "outputs": [
    {
     "data": {
      "text/plain": [
       "231603.0420958179"
      ]
     },
     "execution_count": 41,
     "metadata": {},
     "output_type": "execute_result"
    }
   ],
   "source": [
    "x = np.exp(1j*b*n*delta)*c_func(n*delta)*delta\n",
    "x[0] = x[0]*0.5\n",
    "x[-1] = x[-1]*0.5\n",
    "\n",
    "xhat = np.fft.fft(x).real\n",
    "\n",
    "fft_put = np.exp(-alpha*log_strike)*xhat/np.pi\n",
    "fft_put[-1]"
   ]
  },
  {
   "cell_type": "code",
   "execution_count": 42,
   "metadata": {},
   "outputs": [
    {
     "data": {
      "text/plain": [
       "1024"
      ]
     },
     "execution_count": 42,
     "metadata": {},
     "output_type": "execute_result"
    }
   ],
   "source": [
    "len(fft_put)"
   ]
  },
  {
   "cell_type": "code",
   "execution_count": 47,
   "metadata": {},
   "outputs": [],
   "source": [
    "analytic_putprice = -S0*norm.cdf(-d_1)+np.exp(log_strike)*np.exp(-r*T)*norm.cdf(-d_2)"
   ]
  },
  {
   "cell_type": "code",
   "execution_count": 48,
   "metadata": {},
   "outputs": [
    {
     "data": {
      "text/plain": [
       "1024"
      ]
     },
     "execution_count": 48,
     "metadata": {},
     "output_type": "execute_result"
    }
   ],
   "source": [
    "len(analytic_putprice)"
   ]
  },
  {
   "cell_type": "code",
   "execution_count": 49,
   "metadata": {},
   "outputs": [
    {
     "data": {
      "image/png": "[encoded data removed]",
      "text/plain": [
       "<Figure size 432x288 with 1 Axes>"
      ]
     },
     "metadata": {
      "needs_background": "light"
     },
     "output_type": "display_data"
    }
   ],
   "source": [
    "plt.plot(np.exp(log_strike), analytic_putprice,'g.') \n",
    "plt.plot(np.exp(log_strike), fft_put,'r--') \n",
    "plt.xlabel(\"Strike\")\n",
    "plt.ylabel(\"Put Price\")\n",
    "plt.show()"
   ]
  }
 ],
 "metadata": {
  "kernelspec": {
   "display_name": "Python 3",
   "language": "python",
   "name": "python3"
  },
  "language_info": {
   "codemirror_mode": {
    "name": "ipython",
    "version": 3
   },
   "file_extension": ".py",
   "mimetype": "text/x-python",
   "name": "python",
   "nbconvert_exporter": "python",
   "pygments_lexer": "ipython3",
   "version": "3.6.10"
  }
 },
 "nbformat": 4,
 "nbformat_minor": 4
}
