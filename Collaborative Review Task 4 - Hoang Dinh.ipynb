{
 "cells": [
  {
   "cell_type": "code",
   "execution_count": 3,
   "metadata": {},
   "outputs": [],
   "source": [
    "import numpy as np\n",
    "from scipy.stats import norm\n",
    "from scipy.stats import uniform\n",
    "import matplotlib.pyplot as plt\n",
    "import math\n",
    "import random"
   ]
  },
  {
   "cell_type": "markdown",
   "metadata": {},
   "source": [
    "### 1. Initialize the relevant parameters"
   ]
  },
  {
   "cell_type": "code",
   "execution_count": 4,
   "metadata": {},
   "outputs": [],
   "source": [
    "#Share information\n",
    "\n",
    "sigma = 0.25\n",
    "r = 0.1\n",
    "S0 = 120\n",
    "\n",
    "#Option information\n",
    "T = 2\n",
    "K = 1000\n",
    "k_log = np.log(K)\n"
   ]
  },
  {
   "cell_type": "markdown",
   "metadata": {},
   "source": [
    "### 2. Calculate the analytics price for the put option in the close-form"
   ]
  },
  {
   "cell_type": "code",
   "execution_count": 5,
   "metadata": {},
   "outputs": [
    {
     "name": "stdout",
     "output_type": "stream",
     "text": [
      "The fourier estimation using Black-Scholes function is 698.7307536073846\n"
     ]
    }
   ],
   "source": [
    "#Determining the analytical solution\n",
    "\n",
    "def put_analytical_price(S0,K,r,T):\n",
    "    d_1 = (np.log(S0/K)+(r + sigma**2/2)*T)/(sigma*np.sqrt(T))\n",
    "    d_2 = d_1 - sigma*np.sqrt(T)\n",
    "    mput_analytic = K*math.exp(-r*T)*norm.cdf(-d_2) - S0*norm.cdf(-d_1)\n",
    "    return mput_analytic\n",
    "\n",
    "\n",
    "mput_analytic = put_analytical_price(S0,K,r,T)\n",
    "\n",
    "print('The fourier estimation using Black-Scholes function is {}'.format(mput_analytic))"
   ]
  },
  {
   "cell_type": "markdown",
   "metadata": {},
   "source": [
    "### 3. Calculate the analytics price using characteristic function\n"
   ]
  },
  {
   "cell_type": "code",
   "execution_count": 6,
   "metadata": {},
   "outputs": [
    {
     "name": "stdout",
     "output_type": "stream",
     "text": [
      "The fourier estimation using characteristic function is 698.7307536073577\n"
     ]
    }
   ],
   "source": [
    "#Choosing t_max and N\n",
    "\n",
    "t_max = 20\n",
    "N = 200\n",
    "\n",
    "\n",
    "#Characteristic functions\n",
    "\n",
    "def char_function(S_0, r, sigma, T, t_max,N):\n",
    "    \n",
    "    k_log = np.log(K)\n",
    "    \n",
    "    def c_M1(t):\n",
    "        return np.exp(1j*t*(np.log(S0) + (r-sigma**2/2)*T) - ( sigma**2)*T*(t**2)/2)\n",
    "\n",
    "    def c_M2(t):\n",
    "        return np.exp(1j*t*sigma**2*T)*c_M1(t)\n",
    "\n",
    "    #Calculating delta and contructing t_n\n",
    "    delta_t = t_max / N\n",
    "    from_1_to_N = np.linspace(1,N,N)\n",
    "    t_n = (from_1_to_N - 1/2)*delta_t\n",
    "\n",
    "    #Approximate integral estimates\n",
    "\n",
    "    first_integral  = sum(((( np.exp(-1j*t_n*k_log)*c_M2(t_n)).imag)/t_n)*delta_t)\n",
    "    second_integral = sum(((( np.exp(-1j*t_n*k_log)*c_M1(t_n)).imag)/t_n)*delta_t)\n",
    "\n",
    "    \n",
    "    #Fourier put price\n",
    "\n",
    "    fourier_call_val =  S0*(1/2 + first_integral/np.pi) - np.exp(-r*T)*K*(1/2 + second_integral / np.pi)\n",
    "    \n",
    "    fourier_put_val = K*np.exp(-r*T)+ fourier_call_val - S0\n",
    "    \n",
    "    return fourier_put_val\n",
    "    \n",
    "fourier_put_char = char_function(S0,r,sigma,T,t_max,N)\n",
    "\n",
    "print('The fourier estimation using characteristic function is {}'.format(fourier_put_char))"
   ]
  },
  {
   "cell_type": "markdown",
   "metadata": {},
   "source": [
    "### 4. Calculate the put option using COS method"
   ]
  },
  {
   "cell_type": "code",
   "execution_count": 7,
   "metadata": {
    "scrolled": true
   },
   "outputs": [
    {
     "name": "stdout",
     "output_type": "stream",
     "text": [
      "The fourier estimation using characteristic function is 698.7306714474088\n"
     ]
    },
    {
     "data": {
      "text/plain": [
       "[]"
      ]
     },
     "execution_count": 7,
     "metadata": {},
     "output_type": "execute_result"
    },
    {
     "data": {
      "image/png": "[encoded data removed]",
      "text/plain": [
       "<Figure size 432x288 with 1 Axes>"
      ]
     },
     "metadata": {
      "needs_background": "light"
     },
     "output_type": "display_data"
    }
   ],
   "source": [
    "def upsilon_n(b1,b2,d,c,n):\n",
    "        npi_d = np.pi*n*(d-b1) / (b2-b1)\n",
    "        npi_c = np.pi*n*(c-b1) / (b2-b1)\n",
    "        val_one = (np.cos(npi_d)*np.exp(d) - np.cos(npi_c)*np.exp(c))\n",
    "        val_two = (n*np.pi*(np.sin(npi_d)*np.exp(d) - np.sin(npi_c)*np.exp(c))/ (b2-b1))\n",
    "        return (val_one + val_two ) / ( 1+(n*np.pi/(b2-b1))**2)\n",
    "\n",
    "def psi_n(b1,b2,d,c,n):\n",
    "    if n == 0:\n",
    "        return d-c \n",
    "    else:\n",
    "        return (b2-b1)*(np.sin(n*np.pi*(d-b1)/(b2-b1)) - np.sin(n*np.pi*(c-b1)/(b2-b1)))/(n*np.pi)\n",
    "\n",
    "def v_n(K,b1,b2,n):\n",
    "    return 2*K*(upsilon_n(b2,b1,b2,0,n) -  psi_n(b2,b1,b2,0,n))/(b1-b2)\n",
    "\n",
    "def logchar_func(u,S0,r,sigma,K,T):\n",
    "    return np.exp(1j*u*(np.log(S0/K)+(r-sigma**2/2)*T) - (sigma**2)*T*(u**2)/2)\n",
    "\n",
    "def put_price(N,S0,sigma,r,K,T,b2,b1):\n",
    "    price = v_n(K,b2,b1,0)*logchar_func(0,S0,r,sigma,K,T)/2\n",
    "    for n in range(1,N):\n",
    "        price = price + logchar_func(n*np.pi/(b2-b1),S0,r,sigma,K,T)*np.exp(-1j*n*np.pi*b1/(b2-b1))*v_n(K,b2,b1,n)\n",
    "    return price.real*np.exp(-r*T)\n",
    "\n",
    "# b1,b2 for call\n",
    "\n",
    "c1 = r\n",
    "c2 = T*sigma**2\n",
    "c4 = 0\n",
    "L = 10\n",
    "\n",
    "b1 = c1 - L*np.sqrt(c2-np.sqrt(c4))\n",
    "b2 = c1 + L*np.sqrt(c2-np.sqrt(c4))\n",
    "  \n",
    "# Calculating COS for various N\n",
    "\n",
    "COS_putprice =[None]*50\n",
    "\n",
    "for i in range(1,51):\n",
    "    COS_putprice[i-1] = put_price(i,S0,sigma,r,K,T,b2,b1)\n",
    "\n",
    "print('The fourier estimation using characteristic function is {}'.format(COS_putprice[-1]))   \n",
    "    \n",
    "#Plotting the graph\n",
    "plt.plot([mput_analytic]*50)\n",
    "plt.plot(COS_putprice,'r')\n",
    "plt.xlabel(\"N\")\n",
    "plt.ylabel(\"Put Price\")\n",
    "plt.plot()\n"
   ]
  },
  {
   "cell_type": "markdown",
   "metadata": {},
   "source": [
    "### 5.  Use the fast fourier transform (FFT)"
   ]
  },
  {
   "cell_type": "code",
   "execution_count": 6,
   "metadata": {},
   "outputs": [],
   "source": [
    "N = 2**10\n",
    "delta = 0.25\n",
    "alpha = -2"
   ]
  },
  {
   "cell_type": "code",
   "execution_count": 7,
   "metadata": {},
   "outputs": [
    {
     "data": {
      "text/plain": [
       "[]"
      ]
     },
     "execution_count": 7,
     "metadata": {},
     "output_type": "execute_result"
    },
    {
     "data": {
      "image/png": "[encoded data removed]",
      "text/plain": [
       "<Figure size 432x288 with 1 Axes>"
      ]
     },
     "metadata": {
      "needs_background": "light"
     },
     "output_type": "display_data"
    }
   ],
   "source": [
    "def log_char(u):\n",
    "    return np.exp(1j*u*(np.log(S0))+  (r-sigma**2/2)*T - sigma**2*T*u**2/2)\n",
    "\n",
    "def c_func(v):\n",
    "    val1 = np.exp(-r*T)*log_char(v-(alpha+1)*1j)\n",
    "    val2 = alpha**2 + alpha - v**2 +1j*(2*alpha+1)*v\n",
    "    return val1/val2\n",
    "\n",
    "n = np.array(range(N))\n",
    "delta_k = 2*np.pi/(N*delta)\n",
    "b = delta_k*(N-1/2)\n",
    "\n",
    "log_strike = np.linspace(-b,b,N)\n",
    "\n",
    "x = np.exp(1j*b*n*delta)*c_func(n*delta)*delta\n",
    "x[0] = x[0]*0.5\n",
    "x[-1] = x[-1]*0.5\n",
    "\n",
    "xhat = np.fft.fft(x).real\n",
    "\n",
    "fff_call =np.exp(-alpha*log_strike)*xhat/np.pi\n",
    "\n",
    "#Plotting the graph\n",
    "plt.plot([mput_analytic]*50)\n",
    "plt.plot(fff_call,'r')\n",
    "plt.xlabel(\"Strike\")\n",
    "plt.ylabel(\"Put Price\")\n",
    "plt.plot()"
   ]
  },
  {
   "cell_type": "code",
   "execution_count": null,
   "metadata": {},
   "outputs": [],
   "source": []
  }
 ],
 "metadata": {
  "kernelspec": {
   "display_name": "Python 3",
   "language": "python",
   "name": "python3"
  },
  "language_info": {
   "codemirror_mode": {
    "name": "ipython",
    "version": 3
   },
   "file_extension": ".py",
   "mimetype": "text/x-python",
   "name": "python",
   "nbconvert_exporter": "python",
   "pygments_lexer": "ipython3",
   "version": "3.6.10"
  }
 },
 "nbformat": 4,
 "nbformat_minor": 4
}
