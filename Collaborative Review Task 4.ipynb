{
 "cells": [
  {
   "cell_type": "markdown",
   "metadata": {},
   "source": [
    "# Collaborative Review Task 4"
   ]
  },
  {
   "cell_type": "markdown",
   "metadata": {},
   "source": [
    "## Case Study\n",
    "\n",
    "In this assignment, you are going to be required to price a European put option using the three different techniques introduced in this module. The parameters are as follows:\n",
    "\n",
    "- Risk-free continuously-compounded interest rate, r, of 10%\n",
    "- Strike price, $ K $, of $1000\n",
    "\n",
    "- Initial stock price, $ S_0 $, of $120\n",
    "\n",
    "- Time to maturity, $ T $, of 2 years\n",
    "- Stock volatility, $ \\sigma $, of 25%"
   ]
  },
  {
   "cell_type": "markdown",
   "metadata": {},
   "source": [
    "You may make all the assumptions of the standard Black-Scholes model.\n",
    "\n",
    "1. Initialize the relevant parameters.\n",
    "\n",
    "2. Calculate the analytical price for the put option using the closed-form solution.\n",
    "\n",
    "3. Calculate the estimate for the put price using the characteristic function and technique described in note set 1. Use a maximum integral bound of 40 and $ N = 200 $ rectangles to approximate your integral. \n",
    "\n",
    "4. Observe that the payoff of a put option for the variable $ S_T = \\log(\\frac{S_T}{K})$ is $ p(s) = K(1-e^s)_{s<=0} $. This means that our $ v_n $ co-efficients in the COS method become:\n",
    "\n",
    "    $ v_n = \\frac{2}{b_2-b_1} \\int_{b_1}^0 K(1-e^s) \\cos(n \\pi \\frac{s-a}{b-a}) \n",
    "    = \\frac{2}{b_2-b_1} K(\\psi_n(b_1,0)-\\theta_n(b_1,0)))$\n",
    "    \n",
    "Using this information, use the COS method to price an European put option using the given parameters. Calculate put prices for increasing upper limits on the COS method sum. Plot your results against the analytical put price.\n",
    "\n",
    "5. Use the fast Fourier transform (FFT) to price an European put option with the given parameters. You will have to price your put option for a range of strikes. Note that the only difference when applying the FFT to a put, when compared to a call, is that your value for $ \\alpha $ must be less than -1. Use a sequence length for your $ x_n $ of $ N = 2^10 $, and use $ \\delta_u = 0.25 $. Plot the estimated put prices against the analytical put prices (across the range of strikes)."
   ]
  },
  {
   "cell_type": "markdown",
   "metadata": {},
   "source": [
    "## Answer"
   ]
  },
  {
   "cell_type": "markdown",
   "metadata": {},
   "source": [
    "### Import Python library"
   ]
  },
  {
   "cell_type": "code",
   "execution_count": 9,
   "metadata": {},
   "outputs": [],
   "source": [
    "import numpy as np\n",
    "from scipy.stats import norm, uniform\n",
    "import matplotlib.pyplot as plt\n",
    "import math\n",
    "import random\n",
    "%matplotlib inline"
   ]
  },
  {
   "cell_type": "markdown",
   "metadata": {},
   "source": [
    "#### 1. Initialize the relevant parameters."
   ]
  },
  {
   "cell_type": "code",
   "execution_count": 10,
   "metadata": {},
   "outputs": [],
   "source": [
    "# Share specfic information\n",
    "r = 0.1\n",
    "S0 = 120\n",
    "sigma = 0.25\n",
    "\n",
    "# Put Option Specific Information\n",
    "K = 1000\n",
    "T = 2\n",
    "k_log = np.log(K)"
   ]
  },
  {
   "cell_type": "markdown",
   "metadata": {},
   "source": [
    "#### 2. Calculate the analytical price for the put option using the closed form solution"
   ]
  },
  {
   "cell_type": "code",
   "execution_count": 11,
   "metadata": {},
   "outputs": [],
   "source": [
    "# 3 functions to calculate d_1,d_2, and analytical put price\n",
    "\n",
    "def d_1_calculate(S_0,K,r,sigma,T):\n",
    "    \"\"\"Function for d_1 calculation\"\"\"\n",
    "    a = math.log(S_0/K)\n",
    "    b = (r + (sigma**2 / 2)) * T\n",
    "    c = sigma * math.sqrt(T)\n",
    "    result = (a + b) / c\n",
    "    return result\n",
    "\n",
    "def d_2_calculate(d_1,sigma,T):\n",
    "    a = sigma * math.sqrt(T)\n",
    "    result = d_1 - a\n",
    "    return result\n",
    "\n",
    "# Function for Analytical Solution\n",
    "def analytic_putprice_calculate(S_0,d_1,d_2,K,r,T):\n",
    "    a = -S_0 * norm.cdf(-d_1)\n",
    "    b = norm.cdf(-d_2) * K * math.exp(-r * T)\n",
    "    result = a + b\n",
    "    return result"
   ]
  },
  {
   "cell_type": "code",
   "execution_count": 12,
   "metadata": {},
   "outputs": [
    {
     "name": "stdout",
     "output_type": "stream",
     "text": [
      "The Analytical price for the Put Option using the Closed-Form Solution is: 698.7307536073846\n"
     ]
    }
   ],
   "source": [
    "d_1 = d_1_calculate(S0,K,r,sigma,T)\n",
    "d_2 = d_2_calculate(d_1,sigma,T)\n",
    "\n",
    "analytic_putprice = analytic_putprice_calculate(S0,d_1,d_2,K,r,T)\n",
    "print(\"The Analytical price for the Put Option using the Closed-Form Solution is: {}\".format(analytic_putprice))"
   ]
  },
  {
   "cell_type": "markdown",
   "metadata": {},
   "source": [
    "#### 3. Calculate the estimate for the put price using the characteristic function"
   ]
  },
  {
   "cell_type": "code",
   "execution_count": 13,
   "metadata": {},
   "outputs": [],
   "source": [
    "# Characteristic functions\n",
    "def c_M1(t):\n",
    "    a = np.log(S0) + (r - sigma**2/2)*T\n",
    "    b = (1/2) * (sigma**2) * T * (t**2)\n",
    "    result = np.exp(1j*a - b)\n",
    "    return result\n",
    "\n",
    "def c_M2(t):\n",
    "    a = 1j * sigma**2 * T\n",
    "    result = np.exp(a) * c_M1(t)\n",
    "    return result"
   ]
  },
  {
   "cell_type": "code",
   "execution_count": 14,
   "metadata": {},
   "outputs": [],
   "source": [
    "# Choosing t_max and N\n",
    "t_max = 20\n",
    "N = 200\n",
    "\n",
    "# Calculating delta and constructing t_n\n",
    "delta_t = t_max/N\n",
    "from_1_to_N = np.linspace(1,N,N)\n",
    "t_n = (from_1_to_N-1/2)*delta_t"
   ]
  },
  {
   "cell_type": "code",
   "execution_count": 17,
   "metadata": {},
   "outputs": [
    {
     "ename": "TypeError",
     "evalue": "unsupported operand type(s) for *: 'complex' and 'function'",
     "output_type": "error",
     "traceback": [
      "\u001b[0;31m---------------------------------------------------------------------------\u001b[0m",
      "\u001b[0;31mTypeError\u001b[0m                                 Traceback (most recent call last)",
      "\u001b[0;32m<ipython-input-17-ceacbd178a20>\u001b[0m in \u001b[0;36m<module>\u001b[0;34m\u001b[0m\n\u001b[1;32m      9\u001b[0m     \u001b[0;32mreturn\u001b[0m \u001b[0mresult\u001b[0m\u001b[0;34m\u001b[0m\u001b[0;34m\u001b[0m\u001b[0m\n\u001b[1;32m     10\u001b[0m \u001b[0;34m\u001b[0m\u001b[0m\n\u001b[0;32m---> 11\u001b[0;31m \u001b[0mfirst_integral\u001b[0m \u001b[0;34m=\u001b[0m \u001b[0mdegree_integral\u001b[0m\u001b[0;34m(\u001b[0m\u001b[0mt_n\u001b[0m\u001b[0;34m,\u001b[0m\u001b[0mk_log\u001b[0m\u001b[0;34m,\u001b[0m\u001b[0mc_M2\u001b[0m\u001b[0;34m,\u001b[0m\u001b[0mdelta_t\u001b[0m\u001b[0;34m)\u001b[0m\u001b[0;34m\u001b[0m\u001b[0;34m\u001b[0m\u001b[0m\n\u001b[0m\u001b[1;32m     12\u001b[0m \u001b[0msecond_integral\u001b[0m \u001b[0;34m=\u001b[0m \u001b[0mdegree_integral\u001b[0m\u001b[0;34m(\u001b[0m\u001b[0mt_n\u001b[0m\u001b[0;34m,\u001b[0m\u001b[0mk_log\u001b[0m\u001b[0;34m,\u001b[0m\u001b[0mc_M1\u001b[0m\u001b[0;34m,\u001b[0m\u001b[0mdelta_t\u001b[0m\u001b[0;34m)\u001b[0m\u001b[0;34m\u001b[0m\u001b[0;34m\u001b[0m\u001b[0m\n",
      "\u001b[0;32m<ipython-input-17-ceacbd178a20>\u001b[0m in \u001b[0;36mdegree_integral\u001b[0;34m(t_n, k_log, c_M_degree_diff, delta_t)\u001b[0m\n\u001b[1;32m      4\u001b[0m \u001b[0;32mdef\u001b[0m \u001b[0mdegree_integral\u001b[0m\u001b[0;34m(\u001b[0m\u001b[0mt_n\u001b[0m\u001b[0;34m,\u001b[0m\u001b[0mk_log\u001b[0m\u001b[0;34m,\u001b[0m\u001b[0mc_M_degree_diff\u001b[0m\u001b[0;34m,\u001b[0m\u001b[0mdelta_t\u001b[0m\u001b[0;34m)\u001b[0m\u001b[0;34m:\u001b[0m\u001b[0;34m\u001b[0m\u001b[0;34m\u001b[0m\u001b[0m\n\u001b[1;32m      5\u001b[0m     \u001b[0ma\u001b[0m \u001b[0;34m=\u001b[0m \u001b[0mnp\u001b[0m\u001b[0;34m.\u001b[0m\u001b[0mexp\u001b[0m\u001b[0;34m(\u001b[0m\u001b[0;34m-\u001b[0m\u001b[0;36m1j\u001b[0m\u001b[0;34m*\u001b[0m\u001b[0mt_n\u001b[0m\u001b[0;34m*\u001b[0m\u001b[0mk_log\u001b[0m\u001b[0;34m)\u001b[0m\u001b[0;34m\u001b[0m\u001b[0;34m\u001b[0m\u001b[0m\n\u001b[0;32m----> 6\u001b[0;31m     \u001b[0mb\u001b[0m \u001b[0;34m=\u001b[0m \u001b[0;34m(\u001b[0m\u001b[0ma\u001b[0m \u001b[0;34m*\u001b[0m \u001b[0mc_M_degree_diff\u001b[0m\u001b[0;34m)\u001b[0m\u001b[0;34m.\u001b[0m\u001b[0mimag\u001b[0m\u001b[0;34m\u001b[0m\u001b[0;34m\u001b[0m\u001b[0m\n\u001b[0m\u001b[1;32m      7\u001b[0m     \u001b[0mc\u001b[0m \u001b[0;34m=\u001b[0m \u001b[0mb\u001b[0m\u001b[0;34m/\u001b[0m\u001b[0mt_n\u001b[0m \u001b[0;34m*\u001b[0m \u001b[0mdelta_t\u001b[0m\u001b[0;34m\u001b[0m\u001b[0;34m\u001b[0m\u001b[0m\n\u001b[1;32m      8\u001b[0m     \u001b[0mresult\u001b[0m \u001b[0;34m=\u001b[0m \u001b[0msum\u001b[0m\u001b[0;34m(\u001b[0m\u001b[0mc\u001b[0m\u001b[0;34m)\u001b[0m\u001b[0;34m\u001b[0m\u001b[0;34m\u001b[0m\u001b[0m\n",
      "\u001b[0;31mTypeError\u001b[0m: unsupported operand type(s) for *: 'complex' and 'function'"
     ]
    }
   ],
   "source": [
    "# Appriximate integral estimates\n",
    "\n",
    "# Function calculate integral\n",
    "def degree_integral(t_n,k_log,c_M_degree_diff,delta_t):\n",
    "    a = np.exp(-1j*t_n*k_log)\n",
    "    b = (a * c_M_degree_diff).imag\n",
    "    c = b/t_n * delta_t\n",
    "    result = sum(c)\n",
    "    return result\n",
    "\n",
    "first_integral = degree_integral(t_n,k_log,c_M2,delta_t)\n",
    "second_integral = degree_integral(t_n,k_log,c_M1,delta_t)"
   ]
  },
  {
   "cell_type": "code",
   "execution_count": null,
   "metadata": {},
   "outputs": [],
   "source": []
  },
  {
   "cell_type": "code",
   "execution_count": null,
   "metadata": {},
   "outputs": [],
   "source": []
  },
  {
   "cell_type": "code",
   "execution_count": null,
   "metadata": {},
   "outputs": [],
   "source": []
  },
  {
   "cell_type": "markdown",
   "metadata": {},
   "source": [
    "#### 4. Use the COS method to price an European put option using the given parameters. Calculate put prices for increasing upper limits on the COS method sum. Plot your results against the analytical put price. "
   ]
  },
  {
   "cell_type": "code",
   "execution_count": null,
   "metadata": {},
   "outputs": [],
   "source": []
  }
 ],
 "metadata": {
  "kernelspec": {
   "display_name": "Python 3",
   "language": "python",
   "name": "python3"
  },
  "language_info": {
   "codemirror_mode": {
    "name": "ipython",
    "version": 3
   },
   "file_extension": ".py",
   "mimetype": "text/x-python",
   "name": "python",
   "nbconvert_exporter": "python",
   "pygments_lexer": "ipython3",
   "version": "3.7.5"
  }
 },
 "nbformat": 4,
 "nbformat_minor": 4
}
