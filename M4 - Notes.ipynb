{
 "cells": [
  {
   "cell_type": "markdown",
   "metadata": {},
   "source": [
    "## -  Fourier Transformation"
   ]
  },
  {
   "cell_type": "code",
   "execution_count": 1,
   "metadata": {},
   "outputs": [],
   "source": [
    "# Importing Libraries\n",
    "import numpy as np\n",
    "from scipy.stats import norm\n",
    "import matplotlib.pyplot as plt"
   ]
  },
  {
   "cell_type": "code",
   "execution_count": 2,
   "metadata": {},
   "outputs": [],
   "source": [
    "# Share information\n",
    "r = 0.06\n",
    "S0 = 100\n",
    "sigma = 0.3"
   ]
  },
  {
   "cell_type": "code",
   "execution_count": 3,
   "metadata": {},
   "outputs": [],
   "source": [
    "# Call option information\n",
    "K = 110\n",
    "T = 1\n",
    "k_log = np.log(K)"
   ]
  },
  {
   "cell_type": "code",
   "execution_count": 4,
   "metadata": {},
   "outputs": [
    {
     "data": {
      "text/plain": [
       "10.424100458714285"
      ]
     },
     "execution_count": 4,
     "metadata": {},
     "output_type": "execute_result"
    }
   ],
   "source": [
    "# Analytical solution for Vanilla European Call\n",
    "d_1_stock = (np.log(S0/K)+(r+sigma**2/2)*T)/(sigma*np.sqrt(T))\n",
    "d_2_stock = d_1_stock - sigma*np.sqrt(T)\n",
    "\n",
    "analytic_callprice = S0*norm.cdf(d_1_stock)-K*np.exp(-r*T)*norm.cdf(d_2_stock)\n",
    "analytic_callprice"
   ]
  },
  {
   "cell_type": "markdown",
   "metadata": {},
   "source": [
    "##### Let's now apply the Fourier methods we've covered"
   ]
  },
  {
   "cell_type": "code",
   "execution_count": 5,
   "metadata": {},
   "outputs": [],
   "source": [
    "# Characteristic functions\n",
    "def c_M1(t):\n",
    "    return np.exp(1j*t*(np.log(S0)+(r-sigma**2/2)*T)-1/2*(sigma**2)*T*(t**2))\n",
    "\n",
    "def c_M2(t):\n",
    "    return np.exp(1j*t*(sigma**2)*T)*c_M1(t)"
   ]
  },
  {
   "cell_type": "markdown",
   "metadata": {},
   "source": [
    "##### Because we cannot solve analytically the integral for the call price, we will approximate the value of the integral through the Riemann sum."
   ]
  },
  {
   "cell_type": "code",
   "execution_count": 6,
   "metadata": {},
   "outputs": [],
   "source": [
    "# Choose t_max and N\n",
    "t_max = 20\n",
    "N = 100\n",
    "\n",
    "# Calculating delta and t_n\n",
    "delta_t = t_max/N\n",
    "from_1_to_N = np.linspace(1,N,N)\n",
    "t_n = (from_1_to_N-1/2)*delta_t"
   ]
  },
  {
   "cell_type": "code",
   "execution_count": 11,
   "metadata": {},
   "outputs": [
    {
     "data": {
      "text/plain": [
       "array([ 8.94752495e-01+4.45554013e-01j,  1.82953680e-01+9.79010045e-01j,\n",
       "       -6.66225166e-01+7.30681371e-01j, -9.74007090e-01-9.03795090e-02j,\n",
       "       -5.07455668e-01-8.19867392e-01j,  3.42273774e-01-8.82988538e-01j,\n",
       "        8.91450673e-01-2.53412874e-01j,  7.21025938e-01+5.44800954e-01j,\n",
       "       -2.70160826e-04+8.78051486e-01j, -6.78537522e-01+5.12041445e-01j,\n",
       "       -7.88612420e-01-2.24703613e-01j, -2.84411455e-01-7.35058830e-01j,\n",
       "        3.97662191e-01-6.41597698e-01j,  7.17286608e-01-6.61128810e-02j,\n",
       "        4.61163380e-01+5.06405746e-01j, -1.19596109e-01+6.37801247e-01j,\n",
       "       -5.48536230e-01+2.72729855e-01j, -5.15656307e-01-2.57174101e-01j,\n",
       "       -9.88827185e-02-5.30944079e-01j,  3.40053237e-01-3.72492184e-01j,\n",
       "        4.67295253e-01+4.36510434e-02j,  2.28792267e-01+3.70155515e-01j,\n",
       "       -1.45532143e-01+3.74755371e-01j, -3.56033501e-01+1.00972966e-01j,\n",
       "       -2.70699636e-01-2.04800104e-01j,  2.86354226e-04-3.10227175e-01j,\n",
       "        2.25609099e-01-1.70032499e-01j,  2.46484578e-01+7.03962084e-02j,\n",
       "        8.34986208e-02+2.16196652e-01j, -1.10100660e-01+1.77395163e-01j,\n",
       "       -1.86630741e-01+1.70860899e-02j, -1.12784197e-01-1.24002070e-01j,\n",
       "        2.76215554e-02-1.46805873e-01j,  1.18813977e-01-5.89826385e-02j,\n",
       "        1.04997163e-01+5.24461118e-02j,  1.88822942e-02+1.01734971e-01j,\n",
       "       -6.13242790e-02+6.70912702e-02j, -7.92100843e-02-7.44835365e-03j,\n",
       "       -3.64455074e-02-5.90452040e-02j,  2.18626596e-02-5.61953650e-02j,\n",
       "        5.02393782e-02-1.42147546e-02j,  3.59074212e-02+2.72008236e-02j,\n",
       "       -5.95761286e-05+3.87257245e-02j, -2.65032490e-02+1.99488713e-02j,\n",
       "       -2.72192236e-02-7.79195294e-03j, -8.66104459e-03-2.24665124e-02j,\n",
       "        1.07702299e-02-1.73292810e-02j,  1.71566897e-02-1.56005361e-03j,\n",
       "        9.74543765e-03+1.07280050e-02j, -2.25389884e-03+1.19388185e-02j,\n",
       "       -9.09263095e-03+4.50686863e-03j, -7.55361097e-03-3.77884048e-03j,\n",
       "       -1.27392601e-03-6.88734129e-03j,  3.90730802e-03-4.26947606e-03j,\n",
       "        4.74383349e-03+4.49021572e-04j,  2.05119092e-03+3.32770505e-03j,\n",
       "       -1.16039495e-03+2.97723392e-03j, -2.50471024e-03+7.07019545e-04j,\n",
       "       -1.68283108e-03-1.27641972e-03j,  3.67858006e-06-1.70796561e-03j,\n",
       "        1.10002204e-03-8.26921503e-04j,  1.06199276e-03+3.04720185e-04j,\n",
       "        3.17409555e-04+8.24863695e-04j, -3.72236930e-04+5.98107306e-04j,\n",
       "       -5.57241773e-04+5.03241361e-05j, -2.97518585e-04-3.27920613e-04j,\n",
       "        6.49794384e-05-3.43035540e-04j,  2.45850679e-04-1.21670359e-04j,\n",
       "        1.91995689e-04+9.61973309e-05j,  3.03660777e-05+1.64737621e-04j,\n",
       "       -8.79594505e-05+9.59937306e-05j, -1.00377934e-04-9.56347273e-06j,\n",
       "       -4.07875476e-05-6.62620423e-05j,  2.17604285e-05-5.57295137e-05j,\n",
       "        4.41194986e-05-1.24245671e-05j,  2.78648425e-05+2.11623810e-05j,\n",
       "       -7.36995009e-08+2.66145145e-05j, -1.61310790e-05+1.21107157e-05j,\n",
       "       -1.46395331e-05-4.21030915e-06j, -4.10987360e-06-1.07001176e-05j,\n",
       "        4.54541324e-06-7.29352479e-06j,  6.39460452e-06-5.73525621e-07j,\n",
       "        3.20912409e-06+3.54142615e-06j, -6.61870096e-07+3.48238462e-06j,\n",
       "       -2.34862173e-06+1.16052330e-06j, -1.72420204e-06-8.65220273e-07j,\n",
       "       -2.55733846e-07-1.39217500e-06j,  6.99595531e-07-7.62554478e-07j,\n",
       "        7.50424362e-07+7.19624234e-08j,  2.86555352e-07+4.66170303e-07j,\n",
       "       -1.44174294e-07+3.68567790e-07j, -2.74576579e-07+7.71416450e-08j,\n",
       "       -1.63016823e-07-1.23963869e-07j,  4.95923346e-10-1.46527058e-07j,\n",
       "        8.35766994e-08-6.26664214e-08j,  7.13005265e-08+2.05534445e-08j,\n",
       "        1.88016375e-08+4.90404835e-08j, -1.96104121e-08+3.14235764e-08j,\n",
       "       -2.59264808e-08+2.30923819e-09j, -1.22297781e-08-1.35128633e-08j])"
      ]
     },
     "execution_count": 11,
     "metadata": {},
     "output_type": "execute_result"
    }
   ],
   "source": [
    "c_M1(t_n)"
   ]
  },
  {
   "cell_type": "code",
   "execution_count": 7,
   "metadata": {},
   "outputs": [],
   "source": [
    "# Approximate integral estimates\n",
    "first_integral = sum((((np.exp(-1j*t_n*k_log)*c_M2(t_n)).imag)/t_n)*delta_t)\n",
    "second_integral = sum((((np.exp(-1j*t_n*k_log)*c_M1(t_n)).imag)/t_n)*delta_t)"
   ]
  },
  {
   "cell_type": "code",
   "execution_count": 8,
   "metadata": {},
   "outputs": [
    {
     "data": {
      "text/plain": [
       "0.04047425779280077"
      ]
     },
     "execution_count": 8,
     "metadata": {},
     "output_type": "execute_result"
    }
   ],
   "source": [
    "first_integral"
   ]
  },
  {
   "cell_type": "code",
   "execution_count": 9,
   "metadata": {},
   "outputs": [
    {
     "data": {
      "text/plain": [
       "-0.33154831262580875"
      ]
     },
     "execution_count": 9,
     "metadata": {},
     "output_type": "execute_result"
    }
   ],
   "source": [
    "second_integral"
   ]
  },
  {
   "cell_type": "code",
   "execution_count": 13,
   "metadata": {},
   "outputs": [
    {
     "data": {
      "text/plain": [
       "10.424100443080057"
      ]
     },
     "execution_count": 13,
     "metadata": {},
     "output_type": "execute_result"
    }
   ],
   "source": [
    "# Finnaly, the Fourier price for the Call option\n",
    "fourier_call_val = S0*(1/2+first_integral/np.pi)-np.exp(-r*T)*K*(1/2+second_integral/np.pi)\n",
    "fourier_call_val"
   ]
  },
  {
   "cell_type": "markdown",
   "metadata": {},
   "source": [
    "## - Fourier-Cosine Expansion"
   ]
  },
  {
   "cell_type": "markdown",
   "metadata": {},
   "source": [
    "##### Code for calculating the two functions: \n",
    "$\\upsilon_n$, $\\psi_n$"
   ]
  },
  {
   "cell_type": "code",
   "execution_count": 14,
   "metadata": {},
   "outputs": [],
   "source": [
    "def upsilon_n(b2,b1,d,c,n):\n",
    "    npi_d = np.pi*n*(d-b1)/(b2-b1)\n",
    "    npi_c = np.pi*n*(c-b1)/(b2-b1)\n",
    "    val_one = (np.cos(npi_d)*np.exp(d)-np.cos(npi_c)*np.exp(c))\n",
    "    val_two = (n*np.pi*(np.sin(npi_d)*np.exp(d)-np.sin(npi_c)*np.exp(c))/(b2-b1))\n",
    "    return (val_one+val_two)/(1+(n*np.pi/(b2-b1))**2)\n",
    "\n",
    "def psi_n(b2,b1,d,c,n):\n",
    "    if n==0:\n",
    "        return d-c\n",
    "    else:\n",
    "        return (b2-b1)*(np.sin(n*np.pi*(d-b1)/(b2-b1))-np.sin(n*np.pi*(c-b1)/(b2-b1)))/(n*np.pi)"
   ]
  },
  {
   "cell_type": "code",
   "execution_count": 15,
   "metadata": {},
   "outputs": [],
   "source": [
    "# Functions for call valuation\n",
    "def v_n(K,b2,b1,n):\n",
    "    return 2*K*(upsilon_n(b2,b1,b2,0,n) - psi_n(b2,b1,b2,0,n))/(b2-b1)\n",
    "\n",
    "def logchar_func(u,S0,r,sigma,K,T):\n",
    "    return np.exp(1j*u*(np.log(S0/K)+(r-sigma**2/2)*T)- ((sigma**2)*T*(u**2))/2)\n",
    "\n",
    "def call_price(N,S0,sigma,r,K,T,b2,b1):\n",
    "    price = v_n(K,b2,b1,0)*logchar_func(0,S0,r,sigma,K,T)/2\n",
    "    for n in range(1,N):\n",
    "        price = price + logchar_func(n*np.pi/(b2-b1), S0,r,sigma,K,T)*np.exp(-1j*n*np.pi*b1/(b2-b1))*v_n(K,b2,b1,n)\n",
    "    return price.real*np.exp(-r*T)"
   ]
  },
  {
   "cell_type": "code",
   "execution_count": 18,
   "metadata": {},
   "outputs": [],
   "source": [
    "# Define parameters for b1,b2,etc\n",
    "c1 = r\n",
    "c2 = T*sigma**2\n",
    "c4 = 0\n",
    "L = 10\n",
    "\n",
    "b1 = c1-L*np.sqrt(c2-np.sqrt(c4))\n",
    "b2 = c1+L*np.sqrt(c2-np.sqrt(c4))"
   ]
  },
  {
   "cell_type": "code",
   "execution_count": 19,
   "metadata": {},
   "outputs": [
    {
     "ename": "NameError",
     "evalue": "name 'n' is not defined",
     "output_type": "error",
     "traceback": [
      "\u001b[0;31m---------------------------------------------------------------------------\u001b[0m",
      "\u001b[0;31mNameError\u001b[0m                                 Traceback (most recent call last)",
      "\u001b[0;32m<ipython-input-19-b9c19ffd7901>\u001b[0m in \u001b[0;36m<module>\u001b[0;34m\u001b[0m\n\u001b[0;32m----> 1\u001b[0;31m \u001b[0mupsilon_n\u001b[0m\u001b[0;34m(\u001b[0m\u001b[0mb2\u001b[0m\u001b[0;34m,\u001b[0m\u001b[0mb1\u001b[0m\u001b[0;34m,\u001b[0m\u001b[0mb2\u001b[0m\u001b[0;34m,\u001b[0m\u001b[0;36m0\u001b[0m\u001b[0;34m,\u001b[0m\u001b[0mn\u001b[0m\u001b[0;34m)\u001b[0m\u001b[0;34m\u001b[0m\u001b[0;34m\u001b[0m\u001b[0m\n\u001b[0m",
      "\u001b[0;31mNameError\u001b[0m: name 'n' is not defined"
     ]
    }
   ],
   "source": []
  },
  {
   "cell_type": "code",
   "execution_count": null,
   "metadata": {},
   "outputs": [],
   "source": []
  },
  {
   "cell_type": "code",
   "execution_count": null,
   "metadata": {},
   "outputs": [],
   "source": []
  },
  {
   "cell_type": "code",
   "execution_count": null,
   "metadata": {},
   "outputs": [],
   "source": []
  },
  {
   "cell_type": "code",
   "execution_count": 20,
   "metadata": {},
   "outputs": [],
   "source": [
    "# COS price for various N\n",
    "COS_callprice = [None]*50\n",
    "\n",
    "for i in range(1,51):\n",
    "    COS_callprice[i-1]= call_price(i,S0,sigma,r,K,T,b2,b1)"
   ]
  },
  {
   "cell_type": "code",
   "execution_count": 21,
   "metadata": {},
   "outputs": [
    {
     "data": {
      "text/plain": [
       "10.424100458714296"
      ]
     },
     "execution_count": 21,
     "metadata": {},
     "output_type": "execute_result"
    }
   ],
   "source": [
    "COS_callprice[-1]"
   ]
  },
  {
   "cell_type": "code",
   "execution_count": null,
   "metadata": {},
   "outputs": [],
   "source": []
  },
  {
   "cell_type": "code",
   "execution_count": null,
   "metadata": {},
   "outputs": [],
   "source": []
  },
  {
   "cell_type": "code",
   "execution_count": 35,
   "metadata": {},
   "outputs": [
    {
     "data": {
      "image/png": "[encoded data removed]",
      "text/plain": [
       "<Figure size 432x288 with 1 Axes>"
      ]
     },
     "metadata": {},
     "output_type": "display_data"
    }
   ],
   "source": [
    "# Plot for different N's\n",
    "plt.plot(COS_callprice)\n",
    "plt.plot([analytic_callprice]*50)\n",
    "plt.xlabel('N')\n",
    "plt.ylabel('Call price')\n",
    "plt.show()"
   ]
  },
  {
   "cell_type": "code",
   "execution_count": 37,
   "metadata": {},
   "outputs": [
    {
     "data": {
      "image/png": "[encoded data removed]",
      "text/plain": [
       "<Figure size 432x288 with 1 Axes>"
      ]
     },
     "metadata": {},
     "output_type": "display_data"
    }
   ],
   "source": [
    "# Plot the Log of absolute error\n",
    "plt.plot(np.log(np.absolute(COS_callprice - analytic_callprice)))\n",
    "plt.xlabel('N')\n",
    "plt.ylabel('Log Absolute Error')\n",
    "plt.show()"
   ]
  },
  {
   "cell_type": "code",
   "execution_count": 39,
   "metadata": {},
   "outputs": [
    {
     "data": {
      "text/plain": [
       "10.424065670712778"
      ]
     },
     "execution_count": 39,
     "metadata": {},
     "output_type": "execute_result"
    }
   ],
   "source": [
    "one_call = call_price(30,S0,sigma,r,K,T,b2,b1)\n",
    "one_call"
   ]
  },
  {
   "cell_type": "markdown",
   "metadata": {},
   "source": [
    "## - The Cooley and Tukey (1999) Algorithm for Fast Fourier Transform (FFT)"
   ]
  },
  {
   "cell_type": "code",
   "execution_count": 65,
   "metadata": {},
   "outputs": [],
   "source": [
    "def fft(x):\n",
    "    N = len(x)\n",
    "    if N==1:\n",
    "        return x\n",
    "    else:\n",
    "        ek = fft(x[:-1:2])\n",
    "        ok = fft(x[1::2])\n",
    "        m = np.array(range(int(N/2)))\n",
    "        okm = ok*np.exp(-1j*2*np.pi*m/N)\n",
    "        return np.concatenate((ek+okm,ek-okm))"
   ]
  },
  {
   "cell_type": "code",
   "execution_count": 44,
   "metadata": {},
   "outputs": [
    {
     "data": {
      "text/plain": [
       "array([ 8. +0.j       , -2.5+0.8660254j, -2.5-0.8660254j])"
      ]
     },
     "execution_count": 44,
     "metadata": {},
     "output_type": "execute_result"
    }
   ],
   "source": [
    "# Numpy also has a FFT function\n",
    "np.fft.fft([1,3,4])"
   ]
  },
  {
   "cell_type": "markdown",
   "metadata": {},
   "source": [
    "## - Applying the FFT"
   ]
  },
  {
   "cell_type": "code",
   "execution_count": 107,
   "metadata": {},
   "outputs": [],
   "source": [
    "# Libraries\n",
    "import numpy as np\n",
    "from scipy.stats import norm\n",
    "import matplotlib.pyplot as plt"
   ]
  },
  {
   "cell_type": "code",
   "execution_count": 108,
   "metadata": {},
   "outputs": [],
   "source": [
    "# Share info\n",
    "S0 = 100\n",
    "sigma = 0.3\n",
    "T = 1\n",
    "r = 0.06\n",
    "\n",
    "# Algorithm info\n",
    "N = 2**10\n",
    "delta = 0.25\n",
    "alpha = 1.5"
   ]
  },
  {
   "cell_type": "code",
   "execution_count": 114,
   "metadata": {},
   "outputs": [],
   "source": [
    "# Characteristic functions\n",
    "\n",
    "def log_char(u):\n",
    "    return np.exp(1j*u*(np.log(S0)+(r-sigma**2/2)*T)-sigma**2*T*u**2/2)\n",
    "\n",
    "def c_func(v):\n",
    "    val1 = np.exp(-r*T)*log_char(v-(alpha+1)*1j)\n",
    "    val2 = alpha**2+alpha-v**2+1j*(2*alpha+1)*v\n",
    "    return val1/val2"
   ]
  },
  {
   "cell_type": "code",
   "execution_count": 115,
   "metadata": {},
   "outputs": [],
   "source": [
    "# Variables that we will need in the process\n",
    "\n",
    "n = np.array(range(N))\n",
    "delta_k = 2*np.pi/(N*delta)\n",
    "b = delta_k*(N-1)/2\n",
    "\n",
    "log_strike = np.linspace(-b,b,N)"
   ]
  },
  {
   "cell_type": "markdown",
   "metadata": {},
   "source": [
    "###### Calculate $x_n$ values and get FFT"
   ]
  },
  {
   "cell_type": "code",
   "execution_count": 116,
   "metadata": {},
   "outputs": [
    {
     "data": {
      "text/plain": [
       "1024"
      ]
     },
     "execution_count": 116,
     "metadata": {},
     "output_type": "execute_result"
    }
   ],
   "source": [
    "x = np.exp(1j*b*n*delta)*c_func(n*delta)*delta\n",
    "x[0] = x[0]*0.5\n",
    "x[-1] = x[-1]*0.5\n",
    "\n",
    "xhat = fft(x).real\n",
    "\n",
    "fft_call = np.exp(-alpha*log_strike)*xhat/np.pi\n",
    "len(fft_call)"
   ]
  },
  {
   "cell_type": "code",
   "execution_count": 117,
   "metadata": {},
   "outputs": [
    {
     "data": {
      "text/plain": [
       "1024"
      ]
     },
     "execution_count": 117,
     "metadata": {},
     "output_type": "execute_result"
    }
   ],
   "source": [
    "# Black-Scholes price\n",
    "d_1 = (np.log(S0/np.exp(log_strike))+(r+sigma**2/2)*T)/(sigma*np.sqrt(T))\n",
    "d_2 = d_1 - sigma*np.sqrt(T)\n",
    "\n",
    "bscall = S0*norm.cdf(d_1)-np.exp(log_strike)*np.exp(-r*T)*norm.cdf(d_2)\n",
    "len(bscall)\n"
   ]
  },
  {
   "cell_type": "code",
   "execution_count": 127,
   "metadata": {
    "scrolled": true
   },
   "outputs": [
    {
     "data": {
      "image/png": "[encoded data removed]",
      "text/plain": [
       "<Figure size 432x288 with 1 Axes>"
      ]
     },
     "metadata": {},
     "output_type": "display_data"
    }
   ],
   "source": [
    "plt.plot(np.exp(log_strike), bscall,'g.') \n",
    "plt.plot(np.exp(log_strike), fft_call,'r--') \n",
    "plt.axis([0,100,0,100]) \n",
    "plt.xlabel(\"Strike\")\n",
    "plt.ylabel(\"Call Price\")\n",
    "plt.show()"
   ]
  },
  {
   "cell_type": "code",
   "execution_count": 126,
   "metadata": {},
   "outputs": [
    {
     "data": {
      "image/png": "[encoded data removed]",
      "text/plain": [
       "<Figure size 432x288 with 1 Axes>"
      ]
     },
     "metadata": {},
     "output_type": "display_data"
    }
   ],
   "source": [
    "# Plot the Log of absolute error\n",
    "plt.plot(log_strike, np.absolute(fft_call-bscall))\n",
    "plt.xlabel(\"Log-Strike\")\n",
    "plt.ylabel(\"Absolute Error\")\n",
    "plt.show()"
   ]
  },
  {
   "cell_type": "code",
   "execution_count": null,
   "metadata": {},
   "outputs": [],
   "source": []
  }
 ],
 "metadata": {
  "kernelspec": {
   "display_name": "Python 3",
   "language": "python",
   "name": "python3"
  },
  "language_info": {
   "codemirror_mode": {
    "name": "ipython",
    "version": 3
   },
   "file_extension": ".py",
   "mimetype": "text/x-python",
   "name": "python",
   "nbconvert_exporter": "python",
   "pygments_lexer": "ipython3",
   "version": "3.6.10"
  }
 },
 "nbformat": 4,
 "nbformat_minor": 4
}
