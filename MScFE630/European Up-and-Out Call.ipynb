{
 "cells": [
  {
   "cell_type": "markdown",
   "metadata": {},
   "source": [
    "# Pricing of Up-and-Out call option"
   ]
  },
  {
   "cell_type": "markdown",
   "metadata": {},
   "source": [
    "### Import libraries"
   ]
  },
  {
   "cell_type": "code",
   "execution_count": 1,
   "metadata": {},
   "outputs": [],
   "source": [
    "import numpy as np\n",
    "from scipy.stats import norm\n",
    "from scipy.stats import uniform\n",
    "import random\n",
    "import matplotlib.pyplot as plot\n"
   ]
  },
  {
   "cell_type": "markdown",
   "metadata": {},
   "source": [
    "### Parameters"
   ]
  },
  {
   "cell_type": "code",
   "execution_count": 2,
   "metadata": {},
   "outputs": [],
   "source": [
    "risk_free_rate = 0.08\n",
    "T = 1\n",
    "dT = 1/12\n",
    "\n",
    "# barrier\n",
    "L = 150\n",
    "\n",
    "# firm related\n",
    "V0 = 170    # arbitrarily selectd\n",
    "D = 175     # debt\n",
    "recover = 0.25     # recovery rate\n",
    "S0 = 100    # current share price\n",
    "sigma = 0.3     # share volatility\n",
    "sigma_firm = 0.25    # firm value volatility\n",
    "corr = 0.2    # correlation between share value and firm value\n",
    "\n",
    "# strike\n",
    "K = S0      # at-the-money option\n"
   ]
  },
  {
   "cell_type": "markdown",
   "metadata": {},
   "source": [
    "### Utility functions"
   ]
  },
  {
   "cell_type": "code",
   "execution_count": 3,
   "metadata": {},
   "outputs": [],
   "source": [
    "def terminal_shareprice(S_0, risk_free, sigma, Z, T):\n",
    "    \"\"\"Generates the terminal share price given some random normal values, Z\"\"\"\n",
    "    return  S_0 * np.exp((risk_free - sigma**2 / 2)*T + sigma*np.sqrt(T)*Z)\n",
    "\n",
    "def price_path(p_0, risk_free, sigma, Z, dT):\n",
    "    \"\"\"Generate the price path given intial price and some random normal values, Z\"\"\"\n",
    "    return p_0 * np.exp(np.cumsum((risk_free - sigma**2/2)*dT + sigma*np.sqrt(dT)*Z, axis=0))\n",
    " \n",
    "def call_payoff(share_path, K, r, T):\n",
    "    \"\"\"Calculating the payoff of up-and-out call option given a share price path.\"\"\"\n",
    "    if share_path.any() > L:\n",
    "        return 0\n",
    "    else:\n",
    "        return np.maximum(share_path[-1] - K,0)\n",
    "    "
   ]
  },
  {
   "cell_type": "markdown",
   "metadata": {},
   "source": [
    "### Monte Carlo simulation"
   ]
  },
  {
   "cell_type": "code",
   "execution_count": null,
   "metadata": {},
   "outputs": [],
   "source": [
    "np.random.seed(0)\n",
    "corr_matrix = np.array([[1, corr], [corr, 1]])\n",
    "sim_share_price = [None]*50\n",
    "sim_firm_value = [None]*50\n",
    "up_and_out_price = [None]*50\n",
    "cva_estimates = [None]*50\n",
    "call_price_adj = [None]*50\n",
    "\n",
    "for i in range(1, 51):   # loop through sampling size\n",
    "    z_norm = norm.rvs(size=[12, 2, i*1000])\n",
    "    # correlated random numbers for share price and firm value\n",
    "    z = np.array([np.matmul(np.linalg.cholesky(corr_matrix), x) for x in z_norm]) \n",
    "    # share price path\n",
    "    share_price_path = np.array([price_path(S0, risk_free_rate, sigma, z_share, dT) for z_share in z[:,0,:].T])\n",
    "    # firm value path\n",
    "    firm_value_path  = np.array([price_path(V0, risk_free_rate, sigma_firm, z_firm, dT) for z_firm in z[:,1,:].T])\n",
    "    # option payoff on each price path\n",
    "    up_and_out_payoff = np.array([call_payoff(path, K, risk_free_rate, T) for path in share_price_path])\n",
    "    # risk amount due to default risk, on each sample path\n",
    "    amount_lost = np.array([np.exp(-risk_free_rate*T)*(1-recover)*(term_firm_val < D)*call_val for term_firm_val, call_val in zip(firm_value_path[:,-1], up_and_out_payoff)])\n",
    "    \n",
    "    # simulated quantities\n",
    "    # Final share price and firm value\n",
    "    sim_share_price[i-1] = np.mean(share_price_path[:, -1])\n",
    "    sim_firm_value[i-1] = np.mean(firm_value_path[:, -1])\n",
    "    # unadjusted call option price\n",
    "    up_and_out_price[i-1] = np.mean(up_and_out_payoff)\n",
    "    # CVA\n",
    "    cva_estimates[i-1] = np.mean(amount_lost)\n",
    "    # adjusted call option price\n",
    "    call_price_adj[i-1] = up_and_out_price[i-1] - cva_estimates[i-1]\n",
    "    "
   ]
  },
  {
   "cell_type": "markdown",
   "metadata": {},
   "source": [
    "### Results Reporting"
   ]
  },
  {
   "cell_type": "code",
   "execution_count": null,
   "metadata": {},
   "outputs": [],
   "source": [
    "print('--'*40)\n",
    "print(\" Results based on longest (50000) Monte Carlo sampling: \")\n",
    "print(\"     Firm Value             Share Price    Up-and-Out Option Price      CVA       Adjusted Option Price\")\n",
    "print(\"  \",sim_firm_value[-1],\"  \", sim_share_price[-1], \"    \", up_and_out_price[-1], \"   \", cva_estimates[-1], \"    \", call_price_adj[-1] )\n",
    "print('--'*40)\n",
    "\n",
    "x = np.array(range(1,51))*1000\n",
    "plot.plot(x, sim_share_price, label='Simulated Term Share Price')\n",
    "plot.plot(x, sim_firm_value, label='Simulated Term Firm Value')\n",
    "plot.xlabel(\"Sample Size\")\n",
    "plot.ylabel(\"Price\")\n",
    "plot.legend()\n",
    "plot.show()"
   ]
  },
  {
   "cell_type": "code",
   "execution_count": null,
   "metadata": {},
   "outputs": [],
   "source": [
    "plot.plot(x, up_and_out_price, label='Unadjusted Up-and-Out Call Price')\n",
    "plot.plot(x, call_price_adj, label='Adjusted, Up-and-Out Call Price')\n",
    "plot.plot(x, cva_estimates, label='CVA')\n",
    "plot.xlabel(\"Sample Size\")\n",
    "plot.ylabel(\"Price\")\n",
    "plot.legend()\n",
    "plot.show()"
   ]
  },
  {
   "cell_type": "code",
   "execution_count": null,
   "metadata": {},
   "outputs": [],
   "source": []
  }
 ],
 "metadata": {
  "kernelspec": {
   "display_name": "Python 3",
   "language": "python",
   "name": "python3"
  },
  "language_info": {
   "codemirror_mode": {
    "name": "ipython",
    "version": 3
   },
   "file_extension": ".py",
   "mimetype": "text/x-python",
   "name": "python",
   "nbconvert_exporter": "python",
   "pygments_lexer": "ipython3",
   "version": "3.8.1"
  }
 },
 "nbformat": 4,
 "nbformat_minor": 2
}
