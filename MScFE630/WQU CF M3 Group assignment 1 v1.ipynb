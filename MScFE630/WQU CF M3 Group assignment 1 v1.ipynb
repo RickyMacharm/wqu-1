{
 "cells": [
  {
   "cell_type": "code",
   "execution_count": 26,
   "metadata": {},
   "outputs": [],
   "source": [
    "# Introduction to Python Programming\n",
    "## Peer Review Assignment Week 2\n",
    "### Question 1\n",
    "\n",
    "\n",
    "# - Option maturity is one year \n",
    "# - The option is struck at-the-money \n",
    "# - The up-and-out barrier for the option is \\\\$150 \n",
    "# - The current share price is \\\\$100 \n",
    "# - The risk-free continuously compounded interest rate is 8% \n",
    "# - The volatility for the underlying share is 30% \n",
    "# - The volatility for the counterparty’s firm value is 25% \n",
    "# - The counterparty’s debt, due in one year, is \\\\$175 \n",
    "# - The correlation between the counterparty and the stock is constant at 0.2 \n",
    "# - The recovery rate with the counterparty is 25%\n",
    "\n",
    "\n",
    "# *The firm value is assumed to be \\\\$200"
   ]
  },
  {
   "cell_type": "code",
   "execution_count": 27,
   "metadata": {},
   "outputs": [],
   "source": [
    "#Task no. 2\n",
    "#Determine Monte Carlo estimates of both the default-free value of the option and the Credit Valuation Adjustment (CVA)\n",
    "\n",
    "import numpy as np\n",
    "from scipy.stats import norm\n",
    "import matplotlib.pyplot as plt\n",
    "import random\n",
    "import scipy as sp    # Import libraries to use"
   ]
  },
  {
   "cell_type": "code",
   "execution_count": 28,
   "metadata": {},
   "outputs": [
    {
     "name": "stdout",
     "output_type": "stream",
     "text": [
      "risk_free = 0.080\n"
     ]
    }
   ],
   "source": [
    "#Market information\n",
    "T = 1\n",
    "Tsteps = 12\n",
    "risk_free = 0.08\n",
    "# risk_free=(1+0.08)**(1/Tsteps)-1\n",
    "print(\"risk_free = {:.3f}\".format(risk_free))\n",
    "\n",
    "#Share specific information\n",
    "S_0 = 100\n",
    "sigma = 0.3\n",
    "\n",
    "#Call option specific information\n",
    "strike = 100\n",
    "\n",
    "\n",
    "#Firm specific information\n",
    "V_0 = 200\n",
    "sigma_firm = 0.25\n",
    "debt = 175\n",
    "recovery_rate = 0.25\n",
    "L = 150\n",
    "current_time = 0"
   ]
  },
  {
   "cell_type": "code",
   "execution_count": 29,
   "metadata": {},
   "outputs": [],
   "source": [
    "# Functions for later valuations\n",
    "def terminal_value(S_0, risk_free_rate, sigma, Z, T): #applies to both firm and stock\n",
    "    \"\"\"Generates the terminal share price given some random normal values, Z\"\"\"\n",
    "    return S_0*np.exp((risk_free_rate-sigma**2/2)*T+sigma*np.sqrt(T)*Z)\n",
    "\n",
    "def call_payoff(S_T, K):\n",
    "    \"\"\"Function for evaluating the call price in Monte Carlo Estimation\"\"\"\n",
    "    return np.maximum(S_T-K,0)"
   ]
  },
  {
   "cell_type": "code",
   "execution_count": 30,
   "metadata": {},
   "outputs": [],
   "source": [
    "np.random.seed(0)\n",
    "\n",
    "corr_tested = np.linspace(-1,1,21)\n",
    "cva_estimates = [None]*len(corr_tested)\n",
    "cva_std = [None]*len(corr_tested)"
   ]
  },
  {
   "cell_type": "code",
   "execution_count": 31,
   "metadata": {},
   "outputs": [
    {
     "name": "stdout",
     "output_type": "stream",
     "text": [
      "cva_estimates[0] 8.80\n",
      "cva_estimates[1] 8.11\n",
      "cva_estimates[2] 7.41\n",
      "cva_estimates[3] 6.74\n",
      "cva_estimates[4] 6.00\n",
      "cva_estimates[5] 5.40\n",
      "cva_estimates[6] 4.76\n",
      "cva_estimates[7] 4.20\n",
      "cva_estimates[8] 3.74\n",
      "cva_estimates[9] 3.26\n",
      "cva_estimates[10] 2.78\n",
      "cva_estimates[11] 2.26\n",
      "cva_estimates[12] 1.92\n",
      "cva_estimates[13] 1.57\n",
      "cva_estimates[14] 1.15\n",
      "cva_estimates[15] 0.83\n",
      "cva_estimates[16] 0.53\n",
      "cva_estimates[17] 0.34\n",
      "cva_estimates[18] 0.15\n",
      "cva_estimates[19] 0.03\n",
      "cva_estimates[20] 0.00\n"
     ]
    }
   ],
   "source": [
    "for i in range (len(corr_tested)):\n",
    "    correlation = corr_tested[i]\n",
    "    if (correlation == 1 or correlation == -1):\n",
    "        norm_vec_0 = norm.rvs(size = 50000)\n",
    "        norm_vec_1 = correlation*norm_vec_0\n",
    "        corr_norm_matrix = np.array([norm_vec_0,norm_vec_1])\n",
    "    \n",
    "    else:\n",
    "        corr_matrix = np.array([[1,correlation],[correlation,1]])\n",
    "        norm_matrix = norm.rvs(size = np.array([2,50000]))\n",
    "        corr_norm_matrix = np.matmul(np.linalg.cholesky(corr_matrix),norm_matrix)\n",
    "    term_stock_val = terminal_value(S_0, risk_free, sigma, corr_norm_matrix[0,],T)\n",
    "    call_val = call_payoff(term_stock_val, strike)\n",
    "    term_firm_val = terminal_value(V_0, risk_free, sigma_firm, corr_norm_matrix[1,],T)\n",
    "    amount_lost = np.exp(-risk_free*T)*(1-recovery_rate)*(term_firm_val < debt)*call_val\n",
    "    cva_estimates[i] = np.mean(amount_lost)\n",
    "    print(\"cva_estimates[{:d}] {:.2f}\".format(i, cva_estimates[i]))\n",
    "    cva_std[i] = np.std(amount_lost) / np.sqrt(50000)"
   ]
  },
  {
   "cell_type": "code",
   "execution_count": 32,
   "metadata": {},
   "outputs": [
    {
     "name": "stdout",
     "output_type": "stream",
     "text": [
      "d_1 = 0.98\n",
      "d_2 = 0.73\n",
      "default_prob = 23.30%\n"
     ]
    }
   ],
   "source": [
    "#Code to calculate default probability\n",
    "d_1 = (np.log(V_0/debt)+(risk_free + sigma_firm**2/2)*(T))/(sigma_firm*np.sqrt(T))\n",
    "d_2 = d_1 - sigma_firm*np.sqrt(T)\n",
    "print(\"d_1 = {:.2f}\".format(d_1))\n",
    "print(\"d_2 = {:.2f}\".format(d_2))\n",
    "\n",
    "default_prob = norm.cdf(-d_2)\n",
    "print(\"default_prob = {:.2%}\".format(default_prob))"
   ]
  },
  {
   "cell_type": "code",
   "execution_count": 33,
   "metadata": {},
   "outputs": [],
   "source": [
    "def bs_call(S,X,T,rf,sigma):\n",
    "    \"\"\"\n",
    "       Returns: Call value under Black-Schole-Merton option model\n",
    "       Format   : bs_call(S,X,T,r,sigma)\n",
    "               S: current stock price\n",
    "               X: exercise price\n",
    "               T: maturity date in years\n",
    "              rf: risk-free rate (continusouly compounded)\n",
    "           sigma: volatiity of underlying security \n",
    "    \"\"\"    \n",
    "    from scipy import log,exp,sqrt,stats\n",
    "    d1=(np.log(S/X)+(rf+sigma*sigma/2.)*T)/(sigma*np.sqrt(T))\n",
    "    d2 = d1-sigma*np.sqrt(T)\n",
    "    return S*stats.norm.cdf(d1)-X*np.exp(-rf*T)*stats.norm.cdf(d2)"
   ]
  },
  {
   "cell_type": "code",
   "execution_count": 34,
   "metadata": {},
   "outputs": [],
   "source": [
    "def up_and_out_call(s0,x,T,r,sigma,n_simulation,barrier):\n",
    "    \"\"\"\n",
    "        Returns: Call value of an up-and-out barrier option with European call\n",
    "    \"\"\"\n",
    "    n_steps= 100 # Define number of steps.\n",
    "    dt = T/n_steps\n",
    "    total=0\n",
    "    for j in range(0,n_simulation):\n",
    "        sT=s0\n",
    "        out=False\n",
    "        for i in range(0,int(n_steps)):\n",
    "            e= sp.random.normal()\n",
    "            sT*=np.exp((r-0.5*sigma**2)*dt+sigma*e*np.sqrt(dt))\n",
    "            if sT>barrier:\n",
    "                out=True\n",
    "        \n",
    "        if out==False:\n",
    "            total+=bs_call(s0,x,T,r,sigma)\n",
    "    return total/n_simulation"
   ]
  },
  {
   "cell_type": "code",
   "execution_count": 35,
   "metadata": {},
   "outputs": [],
   "source": [
    "# S_0= 100              # Stock price today\n",
    "# strike= 100               # Strike price\n",
    "barrier = 150        # Barrier level\n",
    "# T= 1              # Maturity in years\n",
    "# risk_free=0.08              # Risk-free rate\n",
    "# sigma=0.3           # Annualized volatility\n",
    "n_simulation = 100  # number of simulations"
   ]
  },
  {
   "cell_type": "code",
   "execution_count": 36,
   "metadata": {},
   "outputs": [
    {
     "name": "stdout",
     "output_type": "stream",
     "text": [
      "Price for the Up-and-out Call =  13.198\n"
     ]
    }
   ],
   "source": [
    "result = up_and_out_call(S_0,strike,T,risk_free,sigma,n_simulation,barrier)\n",
    "print('Price for the Up-and-out Call = ', round(result,3))"
   ]
  },
  {
   "cell_type": "code",
   "execution_count": null,
   "metadata": {},
   "outputs": [],
   "source": []
  },
  {
   "cell_type": "code",
   "execution_count": 37,
   "metadata": {},
   "outputs": [
    {
     "name": "stdout",
     "output_type": "stream",
     "text": [
      "d_1_stock = 0.42\n",
      "d_2_stock = 0.12\n",
      "analytic_callprice = 13.198\n"
     ]
    }
   ],
   "source": [
    "d_1_stock = (np.log(S_0/strike)+ (risk_free + sigma**2/2)*(T))/ (sigma*np.sqrt(T))\n",
    "d_2_stock = d_1_stock - sigma*np.sqrt(T)\n",
    "print(\"d_1_stock = {:.2f}\".format(d_1_stock))\n",
    "print(\"d_2_stock = {:.2f}\".format(d_2_stock))\n",
    "\n",
    "# analytic_callprice = S_0*norm.cdf(d_1_stock)-strike*np.exp(-risk_free*(T))*norm.cdf(d_2_stock)\n",
    "analytic_callprice = result\n",
    "\n",
    "# Cbs_S_K = S_0*norm.cdf(d_1_stock)-strike*np.exp(-risk_free*(T-current_time))*norm.cdf(d_2_stock)\n",
    "# Cbs_S_L = S_0*norm.cdf(d_1)-strike*np.exp(-risk_free*(T-current_time))*norm.cdf(d_2_stock)\n",
    "# analytic_callprice = Cbs_S_K-Cbs_S_L-(L-K)*math.exp(-rfry*t)*norm.cdf(d_2_L)-(L/S0)**(2*(rfry - vSy**2/2)/vSy**2)*(Cbs_S_LK-Cbs_S_LL-(L-K)*np.exp(-rfry*t)*norm.cdf(d_2_LL))\n",
    "\n",
    "\n",
    "print(\"analytic_callprice = {:.3f}\".format(analytic_callprice))"
   ]
  },
  {
   "cell_type": "code",
   "execution_count": 38,
   "metadata": {},
   "outputs": [
    {
     "name": "stdout",
     "output_type": "stream",
     "text": [
      "uncorr_cva = 2.306\n"
     ]
    }
   ],
   "source": [
    "uncorr_cva = (1-recovery_rate)*default_prob*analytic_callprice\n",
    "print(\"uncorr_cva = {:.3f}\".format(uncorr_cva))"
   ]
  },
  {
   "cell_type": "code",
   "execution_count": 25,
   "metadata": {},
   "outputs": [
    {
     "data": {
      "image/png": "[encoded data removed]",
      "text/plain": [
       "<Figure size 432x288 with 1 Axes>"
      ]
     },
     "metadata": {
      "needs_background": "light"
     },
     "output_type": "display_data"
    }
   ],
   "source": [
    "plt.plot(corr_tested, [uncorr_cva]*21)\n",
    "plt.plot(corr_tested, cva_estimates,'.')\n",
    "plt.plot(corr_tested, cva_estimates+3*np.array(cva_std),'r')\n",
    "plt.plot(corr_tested, cva_estimates-3*np.array(cva_std),'r')\n",
    "plt.xlabel(\"Correlation\")\n",
    "plt.ylabel(\"CVA\")\n",
    "plt.show()\n"
   ]
  },
  {
   "cell_type": "code",
   "execution_count": null,
   "metadata": {},
   "outputs": [],
   "source": []
  }
 ],
 "metadata": {
  "kernelspec": {
   "display_name": "Python 3",
   "language": "python",
   "name": "python3"
  },
  "language_info": {
   "codemirror_mode": {
    "name": "ipython",
    "version": 3
   },
   "file_extension": ".py",
   "mimetype": "text/x-python",
   "name": "python",
   "nbconvert_exporter": "python",
   "pygments_lexer": "ipython3",
   "version": "3.8.1"
  }
 },
 "nbformat": 4,
 "nbformat_minor": 2
}
