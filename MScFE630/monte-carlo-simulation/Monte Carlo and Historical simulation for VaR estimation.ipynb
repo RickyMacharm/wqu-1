{
 "cells": [
  {
   "cell_type": "code",
   "execution_count": 2,
   "metadata": {},
   "outputs": [],
   "source": [
    "# Determining tail VaR of given portfolio\n",
    "import numpy as np\n",
    "from scipy.stats import norm, uniform\n",
    "import matplotlib.pyplot as plt\n",
    "import random\n",
    "import math\n",
    "\n",
    "%matplotlib inline"
   ]
  },
  {
   "cell_type": "markdown",
   "metadata": {},
   "source": [
    "# General Share Information"
   ]
  },
  {
   "cell_type": "code",
   "execution_count": 13,
   "metadata": {},
   "outputs": [],
   "source": [
    "S0 = np.array([[100],[95],[50]])\n",
    "sigma = np.array([[0.15],[0.2],[0.3]])\n",
    "cor_mat = np.array([[1, 0.2, 0.4],[0.2, 1, 0.8],[0.4, 0.8, 1]])\n",
    "\n",
    "L = np.linalg.cholesky(cor_mat)\n",
    "r = 0.1\n",
    "T = 1"
   ]
  },
  {
   "cell_type": "markdown",
   "metadata": {},
   "source": [
    "# Test S0 array"
   ]
  },
  {
   "cell_type": "code",
   "execution_count": 14,
   "metadata": {},
   "outputs": [
    {
     "data": {
      "text/plain": [
       "array([[100],\n",
       "       [ 95],\n",
       "       [ 50]])"
      ]
     },
     "execution_count": 14,
     "metadata": {},
     "output_type": "execute_result"
    }
   ],
   "source": [
    "S0"
   ]
  },
  {
   "cell_type": "code",
   "execution_count": 15,
   "metadata": {},
   "outputs": [
    {
     "data": {
      "text/plain": [
       "array([[1. , 0.2, 0.4],\n",
       "       [0.2, 1. , 0.8],\n",
       "       [0.4, 0.8, 1. ]])"
      ]
     },
     "execution_count": 15,
     "metadata": {},
     "output_type": "execute_result"
    }
   ],
   "source": [
    "cor_mat"
   ]
  },
  {
   "cell_type": "code",
   "execution_count": 16,
   "metadata": {},
   "outputs": [
    {
     "data": {
      "text/plain": [
       "array([[1.        , 0.        , 0.        ],\n",
       "       [0.2       , 0.9797959 , 0.        ],\n",
       "       [0.4       , 0.73484692, 0.54772256]])"
      ]
     },
     "execution_count": 16,
     "metadata": {},
     "output_type": "execute_result"
    }
   ],
   "source": [
    "L"
   ]
  },
  {
   "cell_type": "markdown",
   "metadata": {},
   "source": [
    "# Caclulate our initial portfolio value"
   ]
  },
  {
   "cell_type": "code",
   "execution_count": 17,
   "metadata": {},
   "outputs": [],
   "source": [
    "np.random.seed(0)\n",
    "t_simulations = 1000\n",
    "alpha = 0.05"
   ]
  },
  {
   "cell_type": "markdown",
   "metadata": {},
   "source": [
    "Current portfolio value:"
   ]
  },
  {
   "cell_type": "code",
   "execution_count": 18,
   "metadata": {},
   "outputs": [
    {
     "data": {
      "text/plain": [
       "245"
      ]
     },
     "execution_count": 18,
     "metadata": {},
     "output_type": "execute_result"
    }
   ],
   "source": [
    "portval_current = np.sum(S0)\n",
    "portval_current"
   ]
  },
  {
   "cell_type": "markdown",
   "metadata": {},
   "source": [
    "Import the Terminal share price formula"
   ]
  },
  {
   "cell_type": "code",
   "execution_count": 19,
   "metadata": {},
   "outputs": [],
   "source": [
    "def terminal_shareprice(S_0, r, sigma, Z, T):\n",
    "    \"\"\"Generates the terminal share price given some random normal values, Z\"\"\"\n",
    "    a = r - sigma**2 / 2\n",
    "    b = sigma * np.sqrt(T) * Z\n",
    "    c = np.exp(a * T + b)\n",
    "    result = S_0 * c\n",
    "    return result"
   ]
  },
  {
   "cell_type": "markdown",
   "metadata": {},
   "source": [
    "# Simulate future share values (assume no change in holding stocks)"
   ]
  },
  {
   "cell_type": "code",
   "execution_count": 20,
   "metadata": {},
   "outputs": [
    {
     "data": {
      "text/plain": [
       "(3, 1000)"
      ]
     },
     "execution_count": 20,
     "metadata": {},
     "output_type": "execute_result"
    }
   ],
   "source": [
    "Z = np.matmul(L, norm.rvs(size = [3, t_simulations]))\n",
    "Z.shape"
   ]
  },
  {
   "cell_type": "code",
   "execution_count": 22,
   "metadata": {},
   "outputs": [
    {
     "data": {
      "text/plain": [
       "(1000,)"
      ]
     },
     "execution_count": 22,
     "metadata": {},
     "output_type": "execute_result"
    }
   ],
   "source": [
    "portval_future = np.sum(terminal_shareprice(S0, r, sigma, Z, T), axis=0)\n",
    "portval_future.shape"
   ]
  },
  {
   "cell_type": "code",
   "execution_count": 23,
   "metadata": {},
   "outputs": [],
   "source": [
    "portreturn = (portval_future - portval_current) / portval_current"
   ]
  },
  {
   "cell_type": "code",
   "execution_count": 25,
   "metadata": {},
   "outputs": [],
   "source": [
    "portreturn = np.sort(portreturn)"
   ]
  },
  {
   "cell_type": "code",
   "execution_count": 27,
   "metadata": {},
   "outputs": [],
   "source": [
    "mVaR_est = -portreturn[int(np.floor(alpha * t_simulations)) - 1]"
   ]
  },
  {
   "cell_type": "code",
   "execution_count": 28,
   "metadata": {},
   "outputs": [
    {
     "data": {
      "text/plain": [
       "0.14318361044360806"
      ]
     },
     "execution_count": 28,
     "metadata": {},
     "output_type": "execute_result"
    }
   ],
   "source": [
    "mVaR_est"
   ]
  },
  {
   "cell_type": "markdown",
   "metadata": {},
   "source": [
    "# Using Historical Simulation to estimate VaR"
   ]
  },
  {
   "cell_type": "code",
   "execution_count": 29,
   "metadata": {},
   "outputs": [],
   "source": [
    "random.seed(0)"
   ]
  },
  {
   "cell_type": "code",
   "execution_count": 30,
   "metadata": {},
   "outputs": [],
   "source": [
    "import math\n",
    "import matplotlib.pyplot as plt\n",
    "import numpy as np\n",
    "import numpy.matlib\n",
    "import random\n",
    "\n",
    "from scipy.stats import norm, uniform"
   ]
  },
  {
   "cell_type": "code",
   "execution_count": 31,
   "metadata": {},
   "outputs": [],
   "source": [
    "S0 = 25\n",
    "sigma = 0.1\n",
    "mu = 0.1\n",
    "T = 1\n",
    "alpha = 0.01\n",
    "\n",
    "np.random.seed(0)\n",
    "dT = 1/365"
   ]
  },
  {
   "cell_type": "code",
   "execution_count": 38,
   "metadata": {},
   "outputs": [],
   "source": [
    "def share_path(S_0, r, sigma, Z, dT):\n",
    "    \"\"\"Generates the terminal share price given some random normal values, Z\"\"\"\n",
    "    a = (r - sigma**2/2) * dT\n",
    "    b = sigma * np.sqrt(dT) * Z\n",
    "    c = np.cumsum(a + b, 1)\n",
    "    result = S_0 * np.exp(c)\n",
    "    return result"
   ]
  },
  {
   "cell_type": "code",
   "execution_count": 39,
   "metadata": {},
   "outputs": [],
   "source": [
    "Z_histdata = norm.rvs(size = [1, 10*365])\n",
    "price_path = share_path(S0, mu, sigma, Z_histdata, dT)"
   ]
  },
  {
   "cell_type": "code",
   "execution_count": 40,
   "metadata": {},
   "outputs": [
    {
     "data": {
      "text/plain": [
       "(1, 3650)"
      ]
     },
     "execution_count": 40,
     "metadata": {},
     "output_type": "execute_result"
    }
   ],
   "source": [
    "price_path.shape"
   ]
  },
  {
   "cell_type": "code",
   "execution_count": 41,
   "metadata": {},
   "outputs": [],
   "source": [
    "hist_lret = np.log(price_path[0, 1:] - np.log(price_path[0, 0:-1]))"
   ]
  },
  {
   "cell_type": "code",
   "execution_count": 42,
   "metadata": {},
   "outputs": [],
   "source": [
    "mc_mu = np.mean(hist_lret) * 365\n",
    "mc_sigma = np.std(hist_lret) * np.sqrt(365)"
   ]
  },
  {
   "cell_type": "code",
   "execution_count": 43,
   "metadata": {},
   "outputs": [],
   "source": [
    "def terminal_shareprice_adj(S_0, mu, sigma, Z, T):\n",
    "    a = mu * T\n",
    "    b = sigma * np.sqrt(T) * Z\n",
    "    c = np.exp(a + b)\n",
    "    result = S_0 * c\n",
    "    return result"
   ]
  },
  {
   "cell_type": "code",
   "execution_count": 44,
   "metadata": {},
   "outputs": [],
   "source": [
    "alpha = 0.01\n",
    "S0 = price_path[0, -1]\n",
    "mportval_current = S0\n",
    "\n",
    "mV_estimate = [None] * 50\n",
    "histV_estimate = [None] * 50"
   ]
  },
  {
   "cell_type": "code",
   "execution_count": 45,
   "metadata": {},
   "outputs": [
    {
     "name": "stderr",
     "output_type": "stream",
     "text": [
      "/home/haininhhoang94/anaconda3/envs/pyds/lib/python3.7/site-packages/ipykernel_launcher.py:4: RuntimeWarning: overflow encountered in exp\n",
      "  after removing the cwd from sys.path.\n",
      "/home/haininhhoang94/anaconda3/envs/pyds/lib/python3.7/site-packages/ipykernel_launcher.py:10: RuntimeWarning: overflow encountered in exp\n",
      "  # Remove the CWD from sys.path while we load stuff.\n"
     ]
    }
   ],
   "source": [
    "for i in range(1,51):\n",
    "    Z = norm.rvs(size = i * 1000)\n",
    "    montportval_future = terminal_shareprice_adj(S0, mc_mu, mc_sigma, Z, T)\n",
    "    hist_portret = [None] * i * 1000\n",
    "    \n",
    "    for j in range (1, i * 1000 + 1):\n",
    "        rand_samp = uniform.rvs(size = 365) * (len(price_path[0]) - 1)\n",
    "        rand_samp = [int(x) for x in rand_samp]\n",
    "        share_returns = hist_lret[rand_samp]\n",
    "        s_term = S0 * np.exp(np.sum(share_returns, axis = 0))\n",
    "        hist_portret[j - i] = (s_term - mportval_current) / mportval_current\n",
    "        \n",
    "    montport_return = np.sort((montportval_future - mportval_current) / mportval_current)\n",
    "    hist_portret = np.sort(hist_portret)\n",
    "    \n",
    "    mV_estimate[i - 1] = -montport_return[int(alpha * i * 1000) - 1]\n",
    "    histV_estimate[i - 1] = -hist_portret[int(np.floor(alpha * i * 1000)) - 1]\n",
    "    "
   ]
  },
  {
   "cell_type": "code",
   "execution_count": 46,
   "metadata": {},
   "outputs": [
    {
     "data": {
      "text/plain": [
       "-inf"
      ]
     },
     "execution_count": 46,
     "metadata": {},
     "output_type": "execute_result"
    }
   ],
   "source": [
    "np.mean(histV_estimate)"
   ]
  },
  {
   "cell_type": "code",
   "execution_count": null,
   "metadata": {},
   "outputs": [],
   "source": []
  }
 ],
 "metadata": {
  "kernelspec": {
   "display_name": "Python 3",
   "language": "python",
   "name": "python3"
  },
  "language_info": {
   "codemirror_mode": {
    "name": "ipython",
    "version": 3
   },
   "file_extension": ".py",
   "mimetype": "text/x-python",
   "name": "python",
   "nbconvert_exporter": "python",
   "pygments_lexer": "ipython3",
   "version": "3.7.5"
  }
 },
 "nbformat": 4,
 "nbformat_minor": 4
}
