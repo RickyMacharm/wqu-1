{
 "cells": [
  {
   "cell_type": "code",
   "execution_count": null,
   "metadata": {},
   "outputs": [],
   "source": []
  },
  {
   "cell_type": "markdown",
   "metadata": {},
   "source": [
    "# Submission 2: Price a Vanilla European Call Option\n",
    "\n",
    "The goal of Submission 2 is to price a vanilla European call option, except we will now allow the votatility term to vary. For this submission, complete the following tasks:\n",
    "\n",
    "1. Using a simple Fourier pricing technique (using $ N = 100 $ intervals, and using an effective upper bound of integration of 30), price a vanilla call option assuming that the underlying share follows the Heston model dynamics. Use the parameter values from the previous section, as well as the following parameter values:\n",
    "    - $v_0 = 0.06 $\n",
    "    - $ \\kappa = 9 $\n",
    "    - $ \\theta = 0.06 $\n",
    "    - $ \\rho = -0.4 $\n",
    "    \n",
    " We will now simulate a share price path."
   ]
  },
  {
   "cell_type": "markdown",
   "metadata": {},
   "source": [
    "2. Assume that $ \\sigma(t_i,t_{i+1}) $, where $ \\sigma = 0.3 $ and $ \\theta = 0.75 $. Using the formula below, simulate paths for the underlying share using sample sizes of 1000, 2000, ..., 50000. Perform monthly simulations for a period of a year. We can simulate the next step in a share path using the following formula:\n",
    "\n",
    "$$ S_{t_{i+1}} = S_{t_i}e^{(r-\\frac{(\\sigma^2)}{2}$$"
   ]
  },
  {
   "cell_type": "code",
   "execution_count": null,
   "metadata": {},
   "outputs": [],
   "source": []
  }
 ],
 "metadata": {
  "file_extension": ".py",
  "kernelspec": {
   "display_name": "Python 3",
   "language": "python",
   "name": "python3"
  },
  "language_info": {
   "codemirror_mode": {
    "name": "ipython",
    "version": 3
   },
   "file_extension": ".py",
   "mimetype": "text/x-python",
   "name": "python",
   "nbconvert_exporter": "python",
   "pygments_lexer": "ipython3",
   "version": "3.6.6"
  },
  "mimetype": "text/x-python",
  "name": "python",
  "npconvert_exporter": "python",
  "pygments_lexer": "ipython3",
  "version": 3
 },
 "nbformat": 4,
 "nbformat_minor": 2
}
