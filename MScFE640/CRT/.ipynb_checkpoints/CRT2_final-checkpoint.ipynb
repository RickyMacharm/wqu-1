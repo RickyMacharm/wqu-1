{
 "cells": [
  {
   "cell_type": "markdown",
   "metadata": {},
   "source": [
    "# Collaborative Review Task 2\n",
    " \n",
    "In this module, you are required to complete a Collaborative review task, which is designed to test your ability to apply and analyze the knowledge you have learned during the week.\n",
    "\n",
    "## Questions\n",
    "\n",
    "### 1. Returns\n",
    "    - Download 1-2 years of price history of a stock.\n",
    "    - Compute its log return.\n",
    "    - Compute the mean, standard deviation, skewness, and excess kurtosis of its log return.\n",
    "    - Repeat for a second stock.\n",
    "    - Compute the covariance and the correlation. Explain their difference. How do you convert one to the other?\n",
    "\n",
    "### 2. Build your own transition\n",
    "    - Divide the data into 2 uneven parts: the first part is 80% of your data, and the second part is 20%.\n",
    "    - Categorize each day in the 1-2 year price history as belonging to one of four categories:\n",
    "        - Both stocks up\n",
    "        - Stock #1 up, stock #2 down.\n",
    "        - Stock #1 down, stock #2 up.\n",
    "        - Both stocks down\n",
    "    - Build a transition matrix of portfolio direction that shows your portfolio in four scenerios:\n",
    "        - From moving together to moving together. That means starting from uu or dd & going to uu or dd.\n",
    "        - From moving together to moving apart. That means starting from uu or dd & going to ud or du.\n",
    "        - From moving apart to moving together. That means starting from ud or du & going to uu or dd.\n",
    "        - From moving apart to moving apart. That means starting from ud or du & going to ud or du.\n",
    "    - How similar is the transition matrix from the first group to the second group?\n",
    "    - Is the process Markovian?\n",
    "\n",
    "## Answers:\n"
   ]
  },
  {
   "cell_type": "code",
   "execution_count": 1,
   "metadata": {},
   "outputs": [],
   "source": [
    "import numpy as np\n",
    "import pandas as pd\n",
    "import datetime\n",
    "import warnings\n",
    "warnings.filterwarnings('ignore')"
   ]
  },
  {
   "cell_type": "markdown",
   "metadata": {},
   "source": [
    "## 1. Return\n",
    "- Download 2 years data from Tesla and Exxon Mobile as below"
   ]
  },
  {
   "cell_type": "code",
   "execution_count": 2,
   "metadata": {},
   "outputs": [],
   "source": [
    "tesla = pd.read_csv(\"TSLA.csv\",\n",
    "                    delimiter=',')\n",
    "tesla['Date'] = pd.to_datetime(tesla['Date'])\n",
    "tesla.set_index('Date', inplace=True)\n",
    "\n",
    "exxon = pd.read_csv(\"XOM.csv\",\n",
    "                    delimiter=',')\n",
    "exxon['Date'] = pd.to_datetime(exxon['Date'])\n",
    "exxon.set_index('Date', inplace=True)"
   ]
  },
  {
   "cell_type": "markdown",
   "metadata": {},
   "source": [
    "- Calculate daily log return"
   ]
  },
  {
   "cell_type": "code",
   "execution_count": 3,
   "metadata": {},
   "outputs": [],
   "source": [
    "# Calculate daily log return\n",
    "tesla[\"Log_Return\"] = np.log(tesla['Price']).diff()\n",
    "exxon[\"Log_Return\"] = np.log(exxon['Price']).diff()"
   ]
  },
  {
   "cell_type": "code",
   "execution_count": 4,
   "metadata": {},
   "outputs": [
    {
     "data": {
      "text/html": [
       "<div>\n",
       "<style scoped>\n",
       "    .dataframe tbody tr th:only-of-type {\n",
       "        vertical-align: middle;\n",
       "    }\n",
       "\n",
       "    .dataframe tbody tr th {\n",
       "        vertical-align: top;\n",
       "    }\n",
       "\n",
       "    .dataframe thead th {\n",
       "        text-align: right;\n",
       "    }\n",
       "</style>\n",
       "<table border=\"1\" class=\"dataframe\">\n",
       "  <thead>\n",
       "    <tr style=\"text-align: right;\">\n",
       "      <th></th>\n",
       "      <th>Price</th>\n",
       "      <th>Log_Return</th>\n",
       "    </tr>\n",
       "    <tr>\n",
       "      <th>Date</th>\n",
       "      <th></th>\n",
       "      <th></th>\n",
       "    </tr>\n",
       "  </thead>\n",
       "  <tbody>\n",
       "    <tr>\n",
       "      <th>2015-03-09</th>\n",
       "      <td>190.880005</td>\n",
       "      <td>NaN</td>\n",
       "    </tr>\n",
       "    <tr>\n",
       "      <th>2015-03-10</th>\n",
       "      <td>190.320007</td>\n",
       "      <td>-0.002938</td>\n",
       "    </tr>\n",
       "    <tr>\n",
       "      <th>2015-03-11</th>\n",
       "      <td>193.740005</td>\n",
       "      <td>0.017810</td>\n",
       "    </tr>\n",
       "    <tr>\n",
       "      <th>2015-03-12</th>\n",
       "      <td>191.070007</td>\n",
       "      <td>-0.013877</td>\n",
       "    </tr>\n",
       "    <tr>\n",
       "      <th>2015-03-13</th>\n",
       "      <td>188.679993</td>\n",
       "      <td>-0.012587</td>\n",
       "    </tr>\n",
       "  </tbody>\n",
       "</table>\n",
       "</div>"
      ],
      "text/plain": [
       "                 Price  Log_Return\n",
       "Date                              \n",
       "2015-03-09  190.880005         NaN\n",
       "2015-03-10  190.320007   -0.002938\n",
       "2015-03-11  193.740005    0.017810\n",
       "2015-03-12  191.070007   -0.013877\n",
       "2015-03-13  188.679993   -0.012587"
      ]
     },
     "execution_count": 4,
     "metadata": {},
     "output_type": "execute_result"
    }
   ],
   "source": [
    "tesla.head()"
   ]
  },
  {
   "cell_type": "code",
   "execution_count": 5,
   "metadata": {},
   "outputs": [
    {
     "data": {
      "text/html": [
       "<div>\n",
       "<style scoped>\n",
       "    .dataframe tbody tr th:only-of-type {\n",
       "        vertical-align: middle;\n",
       "    }\n",
       "\n",
       "    .dataframe tbody tr th {\n",
       "        vertical-align: top;\n",
       "    }\n",
       "\n",
       "    .dataframe thead th {\n",
       "        text-align: right;\n",
       "    }\n",
       "</style>\n",
       "<table border=\"1\" class=\"dataframe\">\n",
       "  <thead>\n",
       "    <tr style=\"text-align: right;\">\n",
       "      <th></th>\n",
       "      <th>Price</th>\n",
       "      <th>Log_Return</th>\n",
       "    </tr>\n",
       "    <tr>\n",
       "      <th>Date</th>\n",
       "      <th></th>\n",
       "      <th></th>\n",
       "    </tr>\n",
       "  </thead>\n",
       "  <tbody>\n",
       "    <tr>\n",
       "      <th>2015-03-09</th>\n",
       "      <td>69.726906</td>\n",
       "      <td>NaN</td>\n",
       "    </tr>\n",
       "    <tr>\n",
       "      <th>2015-03-10</th>\n",
       "      <td>68.990021</td>\n",
       "      <td>-0.010624</td>\n",
       "    </tr>\n",
       "    <tr>\n",
       "      <th>2015-03-11</th>\n",
       "      <td>68.793503</td>\n",
       "      <td>-0.002853</td>\n",
       "    </tr>\n",
       "    <tr>\n",
       "      <th>2015-03-12</th>\n",
       "      <td>68.957260</td>\n",
       "      <td>0.002378</td>\n",
       "    </tr>\n",
       "    <tr>\n",
       "      <th>2015-03-13</th>\n",
       "      <td>68.670692</td>\n",
       "      <td>-0.004164</td>\n",
       "    </tr>\n",
       "  </tbody>\n",
       "</table>\n",
       "</div>"
      ],
      "text/plain": [
       "                Price  Log_Return\n",
       "Date                             \n",
       "2015-03-09  69.726906         NaN\n",
       "2015-03-10  68.990021   -0.010624\n",
       "2015-03-11  68.793503   -0.002853\n",
       "2015-03-12  68.957260    0.002378\n",
       "2015-03-13  68.670692   -0.004164"
      ]
     },
     "execution_count": 5,
     "metadata": {},
     "output_type": "execute_result"
    }
   ],
   "source": [
    "exxon.head()"
   ]
  },
  {
   "cell_type": "markdown",
   "metadata": {},
   "source": [
    "- Calculate mean, standard deviation, skewness, excess kurtosis. Note that we do both stocks at the same time"
   ]
  },
  {
   "cell_type": "code",
   "execution_count": 6,
   "metadata": {},
   "outputs": [
    {
     "name": "stdout",
     "output_type": "stream",
     "text": [
      "Tesla\n",
      "The mean of Tesla Log Return is: 0.000658917718912885\n",
      "The standard deviation of Tesla Log Return is: 0.023921911654999784\n",
      "The skewness of Tesla Log Return is: -0.3268473880026572\n",
      "The kurtosis of Tesla Log Return is: 2.21193789165081\n",
      "\n",
      "Exxon Mobile\n",
      "The mean of Exxon Mobile Log Return is: -1.1141112389291308e-05\n",
      "The standard deviation of Exxon Mobile Log Return is: 0.011679610255241375\n",
      "The skewness of Exxon Mobile Log Return is: -0.0792199851483688\n",
      "The kurtosis of Exxon Mobile Log Return is: 4.031992509924429\n"
     ]
    }
   ],
   "source": [
    "# Calculate mean, standard deviation, skewness, excess kurtosis\n",
    "import scipy.stats as stats\n",
    "\n",
    "tesla_mean = tesla['Log_Return'].mean()\n",
    "tesla_std = tesla['Log_Return'].std()\n",
    "tesla_skew = stats.skew(tesla['Log_Return'].dropna())\n",
    "tesla_kurtosis = stats.kurtosis(tesla['Log_Return'].dropna())\n",
    "\n",
    "exxon_mean = exxon['Log_Return'].mean()\n",
    "exxon_std = exxon['Log_Return'].std()\n",
    "exxon_skew = stats.skew(exxon['Log_Return'].dropna())\n",
    "exxon_kurtosis = stats.kurtosis(exxon['Log_Return'].dropna())\n",
    "\n",
    "print('Tesla')\n",
    "print('The mean of Tesla Log Return is: {}'. format(tesla_mean))\n",
    "print('The standard deviation of Tesla Log Return is: {}'. format(tesla_std))\n",
    "print('The skewness of Tesla Log Return is: {}'. format(tesla_skew))\n",
    "print('The kurtosis of Tesla Log Return is: {}'. format(tesla_kurtosis))\n",
    "\n",
    "print('\\nExxon Mobile')\n",
    "print('The mean of Exxon Mobile Log Return is: {}'. format(exxon_mean))\n",
    "print('The standard deviation of Exxon Mobile Log Return is: {}'. format(exxon_std))\n",
    "print('The skewness of Exxon Mobile Log Return is: {}'. format(exxon_skew))\n",
    "print('The kurtosis of Exxon Mobile Log Return is: {}'. format(exxon_kurtosis))"
   ]
  },
  {
   "cell_type": "markdown",
   "metadata": {},
   "source": [
    "- Calculate Covariance and Correlation"
   ]
  },
  {
   "cell_type": "code",
   "execution_count": 7,
   "metadata": {},
   "outputs": [],
   "source": [
    "# Calculate Covariance and Correlation\n",
    "covariance_tesla_exxon = np.cov(tesla['Log_Return'].dropna(),\n",
    "                                exxon['Log_Return'].dropna())\n",
    "correlation_tesla_exxon = np.corrcoef(tesla['Log_Return'].dropna(),\n",
    "                                      exxon['Log_Return'].dropna())\n"
   ]
  },
  {
   "cell_type": "code",
   "execution_count": 8,
   "metadata": {},
   "outputs": [
    {
     "data": {
      "text/plain": [
       "array([[5.72257857e-04, 5.24621360e-05],\n",
       "       [5.24621360e-05, 1.36413296e-04]])"
      ]
     },
     "execution_count": 8,
     "metadata": {},
     "output_type": "execute_result"
    }
   ],
   "source": [
    "covariance_tesla_exxon"
   ]
  },
  {
   "cell_type": "code",
   "execution_count": 9,
   "metadata": {},
   "outputs": [
    {
     "data": {
      "text/plain": [
       "array([[1.        , 0.18776807],\n",
       "       [0.18776807, 1.        ]])"
      ]
     },
     "execution_count": 9,
     "metadata": {},
     "output_type": "execute_result"
    }
   ],
   "source": [
    "correlation_tesla_exxon"
   ]
  },
  {
   "cell_type": "markdown",
   "metadata": {},
   "source": [
    "Explanation at how to calculate one another"
   ]
  },
  {
   "cell_type": "markdown",
   "metadata": {},
   "source": [
    "### 2. Build your own transition\n",
    "    - Divide the data into 2 uneven parts: the first part is 80% of your data, and the second part is 20%."
   ]
  },
  {
   "cell_type": "code",
   "execution_count": 10,
   "metadata": {},
   "outputs": [],
   "source": [
    "# Divide data into 2 uneven part: 80-20\n",
    "from sklearn.model_selection import train_test_split\n",
    "tesla_80, tesla_20 = train_test_split(tesla, test_size=0.2)\n",
    "exxon_80, exxon_20 = train_test_split(exxon, test_size=0.2)"
   ]
  },
  {
   "cell_type": "markdown",
   "metadata": {},
   "source": [
    "- Categorize"
   ]
  },
  {
   "cell_type": "code",
   "execution_count": 11,
   "metadata": {},
   "outputs": [],
   "source": [
    "# Create a new columns decide which direction the return go based on log return\n",
    "def decide_up_down(log_r):\n",
    "    if (log_r >0):\n",
    "        result = \"U\"\n",
    "    else:\n",
    "        result = \"D\"\n",
    "    return result\n",
    "\n",
    "# Vectorize:\n",
    "v_decide_up_down = np.vectorize(decide_up_down)\n",
    "\n",
    "tesla_80[\"UD\"] = v_decide_up_down(tesla_80[\"Log_Return\"])\n",
    "tesla_20[\"UD\"] = v_decide_up_down(tesla_20[\"Log_Return\"])\n",
    "exxon_80[\"UD\"] = v_decide_up_down(exxon_80[\"Log_Return\"])\n",
    "exxon_20[\"UD\"] = v_decide_up_down(exxon_20[\"Log_Return\"])\n",
    "\n",
    "# We create portfolio consist of 2 data set: 80 and 20\n",
    "def create_portfolio_ud(tesla, exxon):\n",
    "    tesla[\"EX_UD\"] = exxon[\"UD\"]\n",
    "    tesla.rename(columns={\"UD\": \"TL_UD\"}, inplace=True)\n",
    "    portfolio = tesla[[\"TL_UD\",'EX_UD']]\n",
    "    portfolio.dropna(inplace=True)\n",
    "    portfolio['Status'] = portfolio['TL_UD'] + portfolio['EX_UD']\n",
    "    portfolio['Previous_Status'] = portfolio['Status'].shift(1)\n",
    "    portfolio.dropna(inplace=True)\n",
    "    return portfolio\n",
    "\n",
    "portfolio_80 = create_portfolio_ud(tesla_80,exxon_80)\n",
    "portfolio_20 = create_portfolio_ud(tesla_20,exxon_20)"
   ]
  },
  {
   "cell_type": "code",
   "execution_count": 14,
   "metadata": {},
   "outputs": [
    {
     "data": {
      "text/html": [
       "<div>\n",
       "<style scoped>\n",
       "    .dataframe tbody tr th:only-of-type {\n",
       "        vertical-align: middle;\n",
       "    }\n",
       "\n",
       "    .dataframe tbody tr th {\n",
       "        vertical-align: top;\n",
       "    }\n",
       "\n",
       "    .dataframe thead th {\n",
       "        text-align: right;\n",
       "    }\n",
       "</style>\n",
       "<table border=\"1\" class=\"dataframe\">\n",
       "  <thead>\n",
       "    <tr style=\"text-align: right;\">\n",
       "      <th></th>\n",
       "      <th>TL_UD</th>\n",
       "      <th>EX_UD</th>\n",
       "      <th>Status</th>\n",
       "      <th>Previous_Status</th>\n",
       "    </tr>\n",
       "    <tr>\n",
       "      <th>Date</th>\n",
       "      <th></th>\n",
       "      <th></th>\n",
       "      <th></th>\n",
       "      <th></th>\n",
       "    </tr>\n",
       "  </thead>\n",
       "  <tbody>\n",
       "    <tr>\n",
       "      <th>2015-05-15</th>\n",
       "      <td>U</td>\n",
       "      <td>U</td>\n",
       "      <td>UU</td>\n",
       "      <td>DD</td>\n",
       "    </tr>\n",
       "    <tr>\n",
       "      <th>2016-03-16</th>\n",
       "      <td>U</td>\n",
       "      <td>U</td>\n",
       "      <td>UU</td>\n",
       "      <td>UU</td>\n",
       "    </tr>\n",
       "    <tr>\n",
       "      <th>2017-04-18</th>\n",
       "      <td>D</td>\n",
       "      <td>D</td>\n",
       "      <td>DD</td>\n",
       "      <td>UU</td>\n",
       "    </tr>\n",
       "    <tr>\n",
       "      <th>2017-02-15</th>\n",
       "      <td>D</td>\n",
       "      <td>U</td>\n",
       "      <td>DU</td>\n",
       "      <td>DD</td>\n",
       "    </tr>\n",
       "    <tr>\n",
       "      <th>2017-04-05</th>\n",
       "      <td>D</td>\n",
       "      <td>U</td>\n",
       "      <td>DU</td>\n",
       "      <td>DU</td>\n",
       "    </tr>\n",
       "  </tbody>\n",
       "</table>\n",
       "</div>"
      ],
      "text/plain": [
       "           TL_UD EX_UD Status Previous_Status\n",
       "Date                                         \n",
       "2015-05-15     U     U     UU              DD\n",
       "2016-03-16     U     U     UU              UU\n",
       "2017-04-18     D     D     DD              UU\n",
       "2017-02-15     D     U     DU              DD\n",
       "2017-04-05     D     U     DU              DU"
      ]
     },
     "execution_count": 14,
     "metadata": {},
     "output_type": "execute_result"
    }
   ],
   "source": [
    "portfolio_80.head()"
   ]
  },
  {
   "cell_type": "code",
   "execution_count": 15,
   "metadata": {},
   "outputs": [
    {
     "data": {
      "text/html": [
       "<div>\n",
       "<style scoped>\n",
       "    .dataframe tbody tr th:only-of-type {\n",
       "        vertical-align: middle;\n",
       "    }\n",
       "\n",
       "    .dataframe tbody tr th {\n",
       "        vertical-align: top;\n",
       "    }\n",
       "\n",
       "    .dataframe thead th {\n",
       "        text-align: right;\n",
       "    }\n",
       "</style>\n",
       "<table border=\"1\" class=\"dataframe\">\n",
       "  <thead>\n",
       "    <tr style=\"text-align: right;\">\n",
       "      <th></th>\n",
       "      <th>TL_UD</th>\n",
       "      <th>EX_UD</th>\n",
       "      <th>Status</th>\n",
       "      <th>Previous_Status</th>\n",
       "    </tr>\n",
       "    <tr>\n",
       "      <th>Date</th>\n",
       "      <th></th>\n",
       "      <th></th>\n",
       "      <th></th>\n",
       "      <th></th>\n",
       "    </tr>\n",
       "  </thead>\n",
       "  <tbody>\n",
       "    <tr>\n",
       "      <th>2016-08-31</th>\n",
       "      <td>U</td>\n",
       "      <td>D</td>\n",
       "      <td>UD</td>\n",
       "      <td>UU</td>\n",
       "    </tr>\n",
       "    <tr>\n",
       "      <th>2017-08-08</th>\n",
       "      <td>U</td>\n",
       "      <td>D</td>\n",
       "      <td>UD</td>\n",
       "      <td>UD</td>\n",
       "    </tr>\n",
       "    <tr>\n",
       "      <th>2017-04-26</th>\n",
       "      <td>D</td>\n",
       "      <td>D</td>\n",
       "      <td>DD</td>\n",
       "      <td>UD</td>\n",
       "    </tr>\n",
       "    <tr>\n",
       "      <th>2015-05-19</th>\n",
       "      <td>D</td>\n",
       "      <td>U</td>\n",
       "      <td>DU</td>\n",
       "      <td>DD</td>\n",
       "    </tr>\n",
       "    <tr>\n",
       "      <th>2015-09-25</th>\n",
       "      <td>D</td>\n",
       "      <td>U</td>\n",
       "      <td>DU</td>\n",
       "      <td>DU</td>\n",
       "    </tr>\n",
       "  </tbody>\n",
       "</table>\n",
       "</div>"
      ],
      "text/plain": [
       "           TL_UD EX_UD Status Previous_Status\n",
       "Date                                         \n",
       "2016-08-31     U     D     UD              UU\n",
       "2017-08-08     U     D     UD              UD\n",
       "2017-04-26     D     D     DD              UD\n",
       "2015-05-19     D     U     DU              DD\n",
       "2015-09-25     D     U     DU              DU"
      ]
     },
     "execution_count": 15,
     "metadata": {},
     "output_type": "execute_result"
    }
   ],
   "source": [
    "portfolio_20.head()"
   ]
  },
  {
   "cell_type": "markdown",
   "metadata": {},
   "source": [
    "- Build a transition matrix of portfolio direction"
   ]
  },
  {
   "cell_type": "code",
   "execution_count": 16,
   "metadata": {},
   "outputs": [],
   "source": [
    "def movement(status, p_status):\n",
    "    if (status == \"UU\" or status == \"DD\"):\n",
    "        if (p_status == \"UU\" or p_status == \"DD\"):\n",
    "            result = \"mt_mt\"\n",
    "        else:\n",
    "            result = \"mt_ma\"\n",
    "    else:\n",
    "        if (p_status == \"UU\" or p_status == \"DD\"):\n",
    "            result = \"ma_mt\"\n",
    "        else:\n",
    "            result = \"ma_ma\"\n",
    "    return result\n",
    "\n",
    "v_movement = np.vectorize(movement)\n",
    "portfolio_20[\"Movement\"] = v_movement(portfolio_20['Status'],\n",
    "                                     portfolio_20['Previous_Status'])\n",
    "portfolio_80[\"Movement\"] = v_movement(portfolio_80['Status'],\n",
    "                                     portfolio_80['Previous_Status'])\n",
    "\n",
    "matrix_20 = portfolio_20['Movement'].value_counts()\n",
    "matrix_80 = portfolio_80['Movement'].value_counts()\n",
    "\n",
    "def probablity(self, total):\n",
    "    result = self / total\n",
    "    return result\n",
    "\n",
    "def transition_table(matrix):\n",
    "    result = pd.DataFrame(columns=[\"Moving Together\", \"Moving Apart\"])\n",
    "    result.at['Moving Together', 'Moving Together'] = probablity(matrix['mt_mt'], matrix.sum())\n",
    "    result.at['Moving Together', 'Moving Apart'] = probablity(matrix['mt_ma'], matrix.sum())\n",
    "    result.at['Moving Apart', 'Moving Together'] = probablity(matrix['ma_mt'], matrix.sum())\n",
    "    result.at['Moving Apart', 'Moving Apart'] = probablity(matrix['ma_ma'], matrix.sum())\n",
    "    return result"
   ]
  },
  {
   "cell_type": "code",
   "execution_count": 17,
   "metadata": {},
   "outputs": [
    {
     "data": {
      "text/html": [
       "<div>\n",
       "<style scoped>\n",
       "    .dataframe tbody tr th:only-of-type {\n",
       "        vertical-align: middle;\n",
       "    }\n",
       "\n",
       "    .dataframe tbody tr th {\n",
       "        vertical-align: top;\n",
       "    }\n",
       "\n",
       "    .dataframe thead th {\n",
       "        text-align: right;\n",
       "    }\n",
       "</style>\n",
       "<table border=\"1\" class=\"dataframe\">\n",
       "  <thead>\n",
       "    <tr style=\"text-align: right;\">\n",
       "      <th></th>\n",
       "      <th>Moving Together</th>\n",
       "      <th>Moving Apart</th>\n",
       "    </tr>\n",
       "  </thead>\n",
       "  <tbody>\n",
       "    <tr>\n",
       "      <th>Moving Together</th>\n",
       "      <td>0.25</td>\n",
       "      <td>0.208333</td>\n",
       "    </tr>\n",
       "    <tr>\n",
       "      <th>Moving Apart</th>\n",
       "      <td>0.208333</td>\n",
       "      <td>0.333333</td>\n",
       "    </tr>\n",
       "  </tbody>\n",
       "</table>\n",
       "</div>"
      ],
      "text/plain": [
       "                Moving Together Moving Apart\n",
       "Moving Together            0.25     0.208333\n",
       "Moving Apart           0.208333     0.333333"
      ]
     },
     "execution_count": 17,
     "metadata": {},
     "output_type": "execute_result"
    }
   ],
   "source": [
    "transition_table(matrix_20)"
   ]
  },
  {
   "cell_type": "code",
   "execution_count": 18,
   "metadata": {},
   "outputs": [
    {
     "data": {
      "text/html": [
       "<div>\n",
       "<style scoped>\n",
       "    .dataframe tbody tr th:only-of-type {\n",
       "        vertical-align: middle;\n",
       "    }\n",
       "\n",
       "    .dataframe tbody tr th {\n",
       "        vertical-align: top;\n",
       "    }\n",
       "\n",
       "    .dataframe thead th {\n",
       "        text-align: right;\n",
       "    }\n",
       "</style>\n",
       "<table border=\"1\" class=\"dataframe\">\n",
       "  <thead>\n",
       "    <tr style=\"text-align: right;\">\n",
       "      <th></th>\n",
       "      <th>Moving Together</th>\n",
       "      <th>Moving Apart</th>\n",
       "    </tr>\n",
       "  </thead>\n",
       "  <tbody>\n",
       "    <tr>\n",
       "      <th>Moving Together</th>\n",
       "      <td>0.267666</td>\n",
       "      <td>0.259101</td>\n",
       "    </tr>\n",
       "    <tr>\n",
       "      <th>Moving Apart</th>\n",
       "      <td>0.261242</td>\n",
       "      <td>0.211991</td>\n",
       "    </tr>\n",
       "  </tbody>\n",
       "</table>\n",
       "</div>"
      ],
      "text/plain": [
       "                Moving Together Moving Apart\n",
       "Moving Together        0.267666     0.259101\n",
       "Moving Apart           0.261242     0.211991"
      ]
     },
     "execution_count": 18,
     "metadata": {},
     "output_type": "execute_result"
    }
   ],
   "source": [
    "transition_table(matrix_80)"
   ]
  },
  {
   "cell_type": "markdown",
   "metadata": {},
   "source": [
    "- How similar is the transition matrix from the first group to the second group?"
   ]
  },
  {
   "cell_type": "markdown",
   "metadata": {},
   "source": [
    "- Is the process Markovian?\n",
    "\n",
    "No."
   ]
  },
  {
   "cell_type": "code",
   "execution_count": 51,
   "metadata": {},
   "outputs": [
    {
     "data": {
      "text/html": [
       "<div>\n",
       "<style scoped>\n",
       "    .dataframe tbody tr th:only-of-type {\n",
       "        vertical-align: middle;\n",
       "    }\n",
       "\n",
       "    .dataframe tbody tr th {\n",
       "        vertical-align: top;\n",
       "    }\n",
       "\n",
       "    .dataframe thead th {\n",
       "        text-align: right;\n",
       "    }\n",
       "</style>\n",
       "<table border=\"1\" class=\"dataframe\">\n",
       "  <thead>\n",
       "    <tr style=\"text-align: right;\">\n",
       "      <th></th>\n",
       "      <th>Moving Together</th>\n",
       "      <th>Moving Apart</th>\n",
       "    </tr>\n",
       "  </thead>\n",
       "  <tbody>\n",
       "    <tr>\n",
       "      <th>Moving Together</th>\n",
       "      <td>0.312896</td>\n",
       "      <td>0.230444</td>\n",
       "    </tr>\n",
       "    <tr>\n",
       "      <th>Moving Apart</th>\n",
       "      <td>0.230444</td>\n",
       "      <td>0.226216</td>\n",
       "    </tr>\n",
       "  </tbody>\n",
       "</table>\n",
       "</div>"
      ],
      "text/plain": [
       "                Moving Together Moving Apart\n",
       "Moving Together        0.312896     0.230444\n",
       "Moving Apart           0.230444     0.226216"
      ]
     },
     "execution_count": 51,
     "metadata": {},
     "output_type": "execute_result"
    }
   ],
   "source": []
  },
  {
   "cell_type": "code",
   "execution_count": null,
   "metadata": {},
   "outputs": [],
   "source": []
  }
 ],
 "metadata": {
  "file_extension": ".py",
  "kernelspec": {
   "display_name": "Python 3",
   "language": "python",
   "name": "python3"
  },
  "language_info": {
   "codemirror_mode": {
    "name": "ipython",
    "version": 3
   },
   "file_extension": ".py",
   "mimetype": "text/x-python",
   "name": "python",
   "nbconvert_exporter": "python",
   "pygments_lexer": "ipython3",
   "version": "3.7.6"
  },
  "mimetype": "text/x-python",
  "name": "python",
  "npconvert_exporter": "python",
  "pygments_lexer": "ipython3",
  "version": 3
 },
 "nbformat": 4,
 "nbformat_minor": 2
}
