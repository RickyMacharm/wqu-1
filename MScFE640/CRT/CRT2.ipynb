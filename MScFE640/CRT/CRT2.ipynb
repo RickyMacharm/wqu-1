{
 "nbformat": 4,
 "nbformat_minor": 2,
 "metadata": {
  "language_info": {
   "name": "python",
   "codemirror_mode": {
    "name": "ipython",
    "version": 3
   },
   "version": "3.6.10-final"
  },
  "orig_nbformat": 2,
  "file_extension": ".py",
  "mimetype": "text/x-python",
  "name": "python",
  "npconvert_exporter": "python",
  "pygments_lexer": "ipython3",
  "version": 3,
  "kernelspec": {
   "name": "python3",
   "display_name": "Python 3"
  }
 },
 "cells": [
  {
   "cell_type": "markdown",
   "metadata": {},
   "source": [
    "# Collaborative Review Task 2\n",
    "\n",
    "In this module, you are required to complete a Collaborative review task, which is designed to test your ability to apply and analyze the knowledge you have learned during the week.\n",
    "\n",
    "## Questions\n",
    "\n",
    "1. Returns\n",
    "- Download 1-2 years of price history of a stock.\n",
    "- Compute its log return.\n",
    "- Compute the mean, standard deviation, skewness, and excess kurtosis of its log return.\n",
    "- Repeat for a second stock.\n",
    "- Compute the covariance and the correlation. Explain their difference. How do you convert one to the other?\n",
    "\n",
    "2. Build your own transition\n",
    "- Divide the data into 2 uneven parts: the first part is 80% of your data, and the second part is 20%.\n",
    "- Categorize each day in the 1-2 year price history as belonging to one of four categories:\n",
    "    - Both stocks up\n",
    "    - Stock #1 up, stock #2 down.\n",
    "    - Stock #1 down, stock #2 up.\n",
    "    - Both stocks down\n",
    "- Build a transition matrix of portfolio direction that shows your portfolio in four scenerios:\n",
    "    - From moving together to moving together. That means starting from uu or dd & going to uu or dd.\n",
    "    - From moving together to moving apart. That means starting from uu or dd & going to ud or du.\n",
    "    - From moving apart to moving together. That means starting from ud or du & going to uu or dd.\n",
    "    - From moving apart to moving apart. That means starting from ud or du & going to ud or du.\n",
    "- How similar is the transition matrix from the first group to the second group?\n",
    "- Is the process Markovian?\n",
    "\n",
    "## Answers:"
   ]
  },
  {
   "cell_type": "code",
   "execution_count": 1,
   "metadata": {},
   "outputs": [],
   "source": [
    "import numpy as np\n",
    "import pandas as pd"
   ]
  },
  {
   "cell_type": "code",
   "execution_count": null,
   "metadata": {},
   "outputs": [],
   "source": []
  }
 ]
}