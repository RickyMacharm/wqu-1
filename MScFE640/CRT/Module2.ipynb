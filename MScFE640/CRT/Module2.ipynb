{
 "nbformat": 4,
 "nbformat_minor": 2,
 "metadata": {
  "language_info": {
   "name": "python",
   "codemirror_mode": {
    "name": "ipython",
    "version": 3
   },
   "version": "3.6.10-final"
  },
  "orig_nbformat": 2,
  "file_extension": ".py",
  "mimetype": "text/x-python",
  "name": "python",
  "npconvert_exporter": "python",
  "pygments_lexer": "ipython3",
  "version": 3,
  "kernelspec": {
   "name": "python3",
   "display_name": "Python 3"
  }
 },
 "cells": [
  {
   "cell_type": "markdown",
   "metadata": {},
   "source": [
    "Test the Markovian state of coin flipping"
   ]
  },
  {
   "cell_type": "code",
   "execution_count": 1,
   "metadata": {},
   "outputs": [],
   "source": [
    "import numpy as np"
   ]
  },
  {
   "cell_type": "code",
   "execution_count": 2,
   "metadata": {},
   "outputs": [],
   "source": [
    "matrix_fair_coin = np.array([[0.5,0,0.5,0,0,0,0],\n",
    "                            [0,0.5,0,0.5,0,0,0],\n",
    "                            [0,0,0.5,0,0.5,0,0],\n",
    "                            [0,0,0,0.5,0,0.5,0],\n",
    "                            [0,0,0,0,0.5,0,0.5]])"
   ]
  },
  {
   "cell_type": "code",
   "execution_count": 15,
   "metadata": {},
   "outputs": [
    {
     "data": {
      "text/plain": "array([[0. , 0.5, 0. , 0. , 0. ],\n       [0.5, 0. , 0.5, 0. , 0. ],\n       [0. , 0.5, 0. , 0.5, 0. ],\n       [0. , 0. , 0.5, 0. , 0.5],\n       [0. , 0. , 0. , 0.5, 0. ]])"
     },
     "execution_count": 15,
     "metadata": {},
     "output_type": "execute_result"
    }
   ],
   "source": [
    "simple = np.array([[0,0.5,0,0,0],\n",
    "                   [0.5,0,0.5,0,0],\n",
    "                   [0,0.5,0,0.5,0],\n",
    "                   [0,0,0.5,0,0.5],\n",
    "                   [0,0,0,0.5,0]])\n",
    "simple"
   ]
  },
  {
   "cell_type": "code",
   "execution_count": 17,
   "metadata": {},
   "outputs": [
    {
     "data": {
      "text/plain": "array([[0.25, 0.  , 0.25, 0.  , 0.  ],\n       [0.  , 0.5 , 0.  , 0.25, 0.  ],\n       [0.25, 0.  , 0.5 , 0.  , 0.25],\n       [0.  , 0.25, 0.  , 0.5 , 0.  ],\n       [0.  , 0.  , 0.25, 0.  , 0.25]])"
     },
     "execution_count": 17,
     "metadata": {},
     "output_type": "execute_result"
    }
   ],
   "source": [
    "mul = np.matmul(simple, simple)\n",
    "mul"
   ]
  },
  {
   "cell_type": "code",
   "execution_count": null,
   "metadata": {},
   "outputs": [],
   "source": []
  }
 ]
}