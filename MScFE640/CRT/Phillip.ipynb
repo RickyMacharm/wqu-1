{
 "nbformat": 4,
 "nbformat_minor": 2,
 "metadata": {
  "language_info": {
   "name": "python",
   "codemirror_mode": {
    "name": "ipython",
    "version": 3
   },
   "version": "3.7.6-final"
  },
  "orig_nbformat": 2,
  "file_extension": ".py",
  "mimetype": "text/x-python",
  "name": "python",
  "npconvert_exporter": "python",
  "pygments_lexer": "ipython3",
  "version": 3,
  "kernelspec": {
   "name": "python3",
   "display_name": "Python 3"
  }
 },
 "cells": [
  {
   "cell_type": "code",
   "execution_count": 7,
   "metadata": {},
   "outputs": [],
   "source": [
    "SMB = 2.3/100\n",
    "beta_SMB = 0.91\n",
    "\n",
    "HML = 1.3/100\n",
    "beta_HML = 1.21\n",
    "\n",
    "R_y = 1.8/100\n",
    "\n",
    "RMRF = 3.8/100\n",
    "beta_RMFG = 1.08\n",
    "\n",
    "R_liq = 1.95/100\n",
    "beta_liq = 0.7\n",
    "\n",
    "FCFE = 135000\n",
    "R_in = 0.9/100\n",
    "g = 2.1/100 + R_in\n",
    "\n",
    "# D0 = 40% income"
   ]
  },
  {
   "cell_type": "code",
   "execution_count": 8,
   "metadata": {},
   "outputs": [
    {
     "data": {
      "text/plain": "0.8241999999999999"
     },
     "execution_count": 8,
     "metadata": {},
     "output_type": "execute_result"
    }
   ],
   "source": [
    "# Intrinsic value per share based on FCFE\n",
    "\n",
    "R_e = (R_y + R_in) + SMB*beta_SMB + HML * beta_HML + RMRF * beta_RMFG + R_liq + beta_liq\n",
    "R_e"
   ]
  },
  {
   "cell_type": "code",
   "execution_count": 9,
   "metadata": {},
   "outputs": [],
   "source": [
    "V0 = FCFE * (1+g)/(R_e - g)"
   ]
  },
  {
   "cell_type": "code",
   "execution_count": 12,
   "metadata": {},
   "outputs": [
    {
     "data": {
      "text/plain": "1.7508184336439185"
     },
     "execution_count": 12,
     "metadata": {},
     "output_type": "execute_result"
    }
   ],
   "source": [
    "# Intrinsic per share\n",
    "V0/100000"
   ]
  },
  {
   "cell_type": "code",
   "execution_count": null,
   "metadata": {},
   "outputs": [],
   "source": []
  }
 ]
}