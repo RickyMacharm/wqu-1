{
 "nbformat": 4,
 "nbformat_minor": 2,
 "metadata": {
  "language_info": {
   "name": "python",
   "codemirror_mode": {
    "name": "ipython",
    "version": 3
   },
   "version": "3.7.6-final"
  },
  "orig_nbformat": 2,
  "file_extension": ".py",
  "mimetype": "text/x-python",
  "name": "python",
  "npconvert_exporter": "python",
  "pygments_lexer": "ipython3",
  "version": 3,
  "kernelspec": {
   "name": "python3",
   "display_name": "Python 3"
  }
 },
 "cells": [
  {
   "cell_type": "markdown",
   "metadata": {},
   "source": [
    "Schmidt Company is a manufacturer of watches. It performs all of its own accounting, human resources and secretarial services. The company was founded 20 years ago by J.S. Schmidt, who is currently the Chief Executive Officer, largest shareholder, and chairmain of the board. Mr Schmidt's salary is twice as high as the median salary for people with similar expertise, responsibility, and experience.\n",
    "\n",
    "Mauer Company is interested in acquiring Schmidt. Mauer Company's analysts begin trying to determine the intrinsic value of Schmidt. They estimate that Schmidt's accounting, human resources and secretarial services could be merged with Mauer's saving \\$250,000 per year in expenses. If Schmidt's salary were reduced to the median, \\$100,000 would be saved. Schmidt Company pays income tax of 20%. Schmidt Company reported Free Cash Flow to Equity (FCFE) of \\$475,000 in the most recent year.\n",
    "\n",
    "The Mauer analysts then move on to determining an equity discount rate. They decide to use the build-up method. The historical return of the S&P 500 is used as a proxy for the market return."
   ]
  },
  {
   "cell_type": "code",
   "execution_count": 2,
   "metadata": {},
   "outputs": [
    {
     "data": {
      "text/html": "<table border=\"1\" class=\"dataframe\">\n  <thead>\n    <tr style=\"text-align: right;\">\n      <th>Data</th>\n      <th>Value</th>\n    </tr>\n  </thead>\n  <tbody>\n    <tr>\n      <td>Nominal yield on 10-year treasury bonds</td>\n      <td>0.0210</td>\n    </tr>\n    <tr>\n      <td>Historical return on the S&amp;P500</td>\n      <td>0.0760</td>\n    </tr>\n    <tr>\n      <td>Liquidity premium</td>\n      <td>0.0215</td>\n    </tr>\n    <tr>\n      <td>Company-specific risk premium</td>\n      <td>0.0360</td>\n    </tr>\n    <tr>\n      <td>Inflation rate</td>\n      <td>0.0150</td>\n    </tr>\n  </tbody>\n</table>",
      "text/plain": "<IPython.core.display.HTML object>"
     },
     "metadata": {},
     "output_type": "display_data"
    }
   ],
   "source": [
    "from IPython.display import display, HTML\n",
    "import pandas as pd\n",
    "data = [[\"Nominal yield on 10-year treasury bonds\", 2.1/100], \n",
    "        [\"Historical return on the S&P500\", 7.6/100],\n",
    "        [\"Liquidity premium\", 2.15/100],\n",
    "        [\"Company-specific risk premium\", 3.6/100],\n",
    "        [\"Inflation rate\", 1.5/100]]\n",
    "capm = pd.DataFrame(data, columns=[\"Data\", \"Value\"])\n",
    "display(HTML(capm.to_html(index=False)))"
   ]
  },
  {
   "cell_type": "markdown",
   "metadata": {},
   "source": [
    "When valuing Schmidt, Mauer analysts decide to assume the following scenerio:\n",
    "* Schmidt is acquired by Mauer and the expense reductions are realized;\n",
    "* FCFE grows at 6.7% per year;\n",
    "* After 5 years, Mauer sells Schmidt at 25 times year 5's FCFE;\n",
    "* When calculating present value, they decide to use the equity discount rate determined using the build-up method.\n",
    "\n",
    "The Mauer analysts present their analysis to their supervisor, who asks that they use the Gordon Grown Model, with the year 5 FCFE as the cash flow input instead of dividends, to calculate terminal value (i.e the year 5 selling price). He asks them to assume that from year 5 onward, FCFE will grow at inflation plus 2%.\n",
    "\n",
    "Schmidt Company's capital structure (its ratio of debt capital to equity capital) is quite unstable. In the past, Schmidt has ofter borrowed money at opportune times. As a result of this, the Mauer analysts' supervisor decides that they should determine the value of Schmidt's equity using Free Cash Flow to the Firm (FCFF), and adjusting for the value of Schmidt's debt. Currently, Schmidt has debt of \\$2,400,000 on which it is paying 6% interest. Schmidt's Weighted-Average Cost of Capital (WACC) has been calculated as 8.1%. FCFF in the most recent year was $590,200, and is expected to grow in the future at inflation plus 2%."
   ]
  },
  {
   "cell_type": "code",
   "execution_count": 3,
   "metadata": {},
   "outputs": [],
   "source": [
    "# declare variable\n",
    "R_y = capm.loc[0][\"Value\"]      # R_y = Rf - R_in (Rf is the risk free return)\n",
    "R_m = capm.loc[1][\"Value\"]      # Market return\n",
    "R_liq = capm.loc[2][\"Value\"]    # Liquidity premium\n",
    "R_c = capm.loc[3][\"Value\"]      # Specific Company risk\n",
    "R_in = capm.loc[4][\"Value\"]     # R_in = Rf - R_y\n",
    "\n",
    "# Risk-free rate\n",
    "R_f = R_y + R_in\n",
    "\n",
    "# Expected Return of the Company\n",
    "R_e = R_f + (R_m - R_f) + R_c + R_liq"
   ]
  },
  {
   "cell_type": "code",
   "execution_count": 4,
   "metadata": {},
   "outputs": [
    {
     "data": {
      "text/plain": "0.1335"
     },
     "execution_count": 4,
     "metadata": {},
     "output_type": "execute_result"
    }
   ],
   "source": [
    "R_e"
   ]
  },
  {
   "cell_type": "markdown",
   "metadata": {},
   "source": [
    "Using FCFF as an input into the GGM, what is the value of Schmidt? (wrong)"
   ]
  },
  {
   "cell_type": "code",
   "execution_count": 11,
   "metadata": {},
   "outputs": [
    {
     "data": {
      "text/plain": "0.035"
     },
     "execution_count": 11,
     "metadata": {},
     "output_type": "execute_result"
    }
   ],
   "source": [
    "# Consider the input for FCFF\n",
    "FCFF_0 = 590200\n",
    "g = R_in + 0.02\n",
    "WACC = 0.081\n",
    "g"
   ]
  },
  {
   "cell_type": "code",
   "execution_count": 6,
   "metadata": {},
   "outputs": [
    {
     "data": {
      "text/plain": "13279500.0"
     },
     "execution_count": 6,
     "metadata": {},
     "output_type": "execute_result"
    }
   ],
   "source": [
    "# Calculate the value of Schmidt\n",
    "V_0 = FCFF_0 * (1+g)/(WACC-g)\n",
    "V_0"
   ]
  },
  {
   "cell_type": "code",
   "execution_count": 7,
   "metadata": {},
   "outputs": [
    {
     "data": {
      "text/plain": "15771880.29583767"
     },
     "execution_count": 7,
     "metadata": {},
     "output_type": "execute_result"
    }
   ],
   "source": [
    "FCFF_5 = 590200 * (1+g)**5\n",
    "V_5 = FCFF_5 * (1+g)/(WACC-g)\n",
    "V_5"
   ]
  },
  {
   "cell_type": "markdown",
   "metadata": {},
   "source": [
    "If usign FCFE, then the FCFE will be?"
   ]
  },
  {
   "cell_type": "code",
   "execution_count": 14,
   "metadata": {},
   "outputs": [
    {
     "data": {
      "text/plain": "446200.0"
     },
     "execution_count": 14,
     "metadata": {},
     "output_type": "execute_result"
    }
   ],
   "source": [
    "FCFF_0 - 2.4*(10**6)*(0.06)"
   ]
  },
  {
   "cell_type": "markdown",
   "metadata": {},
   "source": [
    "Based on Mauer Analysit, value of company?"
   ]
  },
  {
   "cell_type": "code",
   "execution_count": 15,
   "metadata": {},
   "outputs": [],
   "source": [
    "FCFE_0 = 475000\n",
    "rate_FCFE = 0.067"
   ]
  },
  {
   "cell_type": "code",
   "execution_count": 17,
   "metadata": {},
   "outputs": [
    {
     "data": {
      "text/plain": "656924.8744718006"
     },
     "execution_count": 17,
     "metadata": {},
     "output_type": "execute_result"
    }
   ],
   "source": [
    "FCFE_5 = FCFE_0 * (1+rate_FCFE)**5\n",
    "FCFE_5"
   ]
  },
  {
   "cell_type": "code",
   "execution_count": 19,
   "metadata": {},
   "outputs": [
    {
     "data": {
      "text/plain": "16423121.861795016"
     },
     "execution_count": 19,
     "metadata": {},
     "output_type": "execute_result"
    }
   ],
   "source": [
    "value = FCFE_5 * 25 - \n",
    "value"
   ]
  },
  {
   "cell_type": "code",
   "execution_count": null,
   "metadata": {},
   "outputs": [],
   "source": []
  }
 ]
}