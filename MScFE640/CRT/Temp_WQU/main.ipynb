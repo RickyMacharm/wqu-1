{
 "nbformat": 4,
 "nbformat_minor": 2,
 "metadata": {
  "language_info": {
   "name": "python",
   "codemirror_mode": {
    "name": "ipython",
    "version": 3
   },
   "version": "3.7.6-final"
  },
  "orig_nbformat": 2,
  "file_extension": ".py",
  "mimetype": "text/x-python",
  "name": "python",
  "npconvert_exporter": "python",
  "pygments_lexer": "ipython3",
  "version": 3,
  "kernelspec": {
   "name": "python3",
   "display_name": "Python 3"
  }
 },
 "cells": [
  {
   "cell_type": "code",
   "execution_count": 1,
   "metadata": {},
   "outputs": [],
   "source": [
    "import pandas as pd\n",
    "import numpy as np"
   ]
  },
  {
   "cell_type": "markdown",
   "metadata": {},
   "source": [
    "Load data"
   ]
  },
  {
   "cell_type": "code",
   "execution_count": 2,
   "metadata": {},
   "outputs": [],
   "source": [
    "XLE = pd.read_csv(\"Data/XLE.csv\",\n",
    "                    delimiter=',')\n",
    "XLE['Date'] = pd.to_datetime(XLE['Date'])\n",
    "XLE.set_index('Date', inplace=True)\n",
    "\n",
    "XLI = pd.read_csv(\"Data/XLI.csv\",\n",
    "                    delimiter=',')\n",
    "XLI['Date'] = pd.to_datetime(XLI['Date'])\n",
    "XLI.set_index('Date', inplace=True)"
   ]
  },
  {
   "cell_type": "code",
   "execution_count": 3,
   "metadata": {},
   "outputs": [
    {
     "data": {
      "text/html": "<div>\n<style scoped>\n    .dataframe tbody tr th:only-of-type {\n        vertical-align: middle;\n    }\n\n    .dataframe tbody tr th {\n        vertical-align: top;\n    }\n\n    .dataframe thead th {\n        text-align: right;\n    }\n</style>\n<table border=\"1\" class=\"dataframe\">\n  <thead>\n    <tr style=\"text-align: right;\">\n      <th></th>\n      <th>Closing_price</th>\n    </tr>\n    <tr>\n      <th>Date</th>\n      <th></th>\n    </tr>\n  </thead>\n  <tbody>\n    <tr>\n      <th>2017-11-27</th>\n      <td>67.19</td>\n    </tr>\n    <tr>\n      <th>2017-11-28</th>\n      <td>67.71</td>\n    </tr>\n    <tr>\n      <th>2017-11-29</th>\n      <td>68.08</td>\n    </tr>\n    <tr>\n      <th>2017-11-30</th>\n      <td>69.10</td>\n    </tr>\n    <tr>\n      <th>2017-12-01</th>\n      <td>69.68</td>\n    </tr>\n  </tbody>\n</table>\n</div>",
      "text/plain": "            Closing_price\nDate                     \n2017-11-27          67.19\n2017-11-28          67.71\n2017-11-29          68.08\n2017-11-30          69.10\n2017-12-01          69.68"
     },
     "execution_count": 3,
     "metadata": {},
     "output_type": "execute_result"
    }
   ],
   "source": [
    "XLE.head()"
   ]
  },
  {
   "cell_type": "code",
   "execution_count": 4,
   "metadata": {},
   "outputs": [
    {
     "data": {
      "text/html": "<div>\n<style scoped>\n    .dataframe tbody tr th:only-of-type {\n        vertical-align: middle;\n    }\n\n    .dataframe tbody tr th {\n        vertical-align: top;\n    }\n\n    .dataframe thead th {\n        text-align: right;\n    }\n</style>\n<table border=\"1\" class=\"dataframe\">\n  <thead>\n    <tr style=\"text-align: right;\">\n      <th></th>\n      <th>Closing_price</th>\n    </tr>\n    <tr>\n      <th>Date</th>\n      <th></th>\n    </tr>\n  </thead>\n  <tbody>\n    <tr>\n      <th>2017-11-27</th>\n      <td>71.53</td>\n    </tr>\n    <tr>\n      <th>2017-11-28</th>\n      <td>72.62</td>\n    </tr>\n    <tr>\n      <th>2017-11-29</th>\n      <td>73.26</td>\n    </tr>\n    <tr>\n      <th>2017-11-30</th>\n      <td>74.51</td>\n    </tr>\n    <tr>\n      <th>2017-12-01</th>\n      <td>73.59</td>\n    </tr>\n  </tbody>\n</table>\n</div>",
      "text/plain": "            Closing_price\nDate                     \n2017-11-27          71.53\n2017-11-28          72.62\n2017-11-29          73.26\n2017-11-30          74.51\n2017-12-01          73.59"
     },
     "execution_count": 4,
     "metadata": {},
     "output_type": "execute_result"
    }
   ],
   "source": [
    "XLI.head()"
   ]
  },
  {
   "cell_type": "markdown",
   "metadata": {},
   "source": [
    "Calculate return in the upcoming year. Use the Capital Asset Pricing Model"
   ]
  },
  {
   "cell_type": "code",
   "execution_count": 5,
   "metadata": {},
   "outputs": [],
   "source": [
    "beta_XLE = 1.07\n",
    "beta_XLI = 1.06\n",
    "\n",
    "Rf = 2.25/100\n",
    "Rm = 9/100\n",
    "sigma_market = 15/100"
   ]
  },
  {
   "cell_type": "code",
   "execution_count": 6,
   "metadata": {},
   "outputs": [],
   "source": [
    "def E_Rp_CAPM(Rf, beta, Rm):\n",
    "    result = Rf + beta * (Rm - Rf)\n",
    "    return result"
   ]
  },
  {
   "cell_type": "code",
   "execution_count": 7,
   "metadata": {},
   "outputs": [
    {
     "data": {
      "text/plain": "0.094725"
     },
     "execution_count": 7,
     "metadata": {},
     "output_type": "execute_result"
    }
   ],
   "source": [
    "return_XLE = E_Rp_CAPM(Rf, beta_XLE, Rm)\n",
    "return_XLE"
   ]
  },
  {
   "cell_type": "code",
   "execution_count": 32,
   "metadata": {},
   "outputs": [
    {
     "data": {
      "text/plain": "0.09405"
     },
     "execution_count": 32,
     "metadata": {},
     "output_type": "execute_result"
    }
   ],
   "source": [
    "return_XLI = E_Rp_CAPM(Rf, beta_XLI, Rm)\n",
    "return_XLI"
   ]
  },
  {
   "cell_type": "markdown",
   "metadata": {},
   "source": [
    "Calculate the daily and annualized standard deviation of return for the prior year. \n",
    "Assume 252 trading days in a year."
   ]
  },
  {
   "cell_type": "markdown",
   "metadata": {},
   "source": [
    "Calculate daily return:\n",
    "$$ % Daily Return = Current Price - Previous Price $$"
   ]
  },
  {
   "cell_type": "code",
   "execution_count": 12,
   "metadata": {},
   "outputs": [
    {
     "data": {
      "text/html": "<div>\n<style scoped>\n    .dataframe tbody tr th:only-of-type {\n        vertical-align: middle;\n    }\n\n    .dataframe tbody tr th {\n        vertical-align: top;\n    }\n\n    .dataframe thead th {\n        text-align: right;\n    }\n</style>\n<table border=\"1\" class=\"dataframe\">\n  <thead>\n    <tr style=\"text-align: right;\">\n      <th></th>\n      <th>Closing_price</th>\n      <th>Daily_Return</th>\n    </tr>\n    <tr>\n      <th>Date</th>\n      <th></th>\n      <th></th>\n    </tr>\n  </thead>\n  <tbody>\n    <tr>\n      <th>2017-11-28</th>\n      <td>67.71</td>\n      <td>0.007739</td>\n    </tr>\n    <tr>\n      <th>2017-11-29</th>\n      <td>68.08</td>\n      <td>0.005464</td>\n    </tr>\n    <tr>\n      <th>2017-11-30</th>\n      <td>69.10</td>\n      <td>0.014982</td>\n    </tr>\n    <tr>\n      <th>2017-12-01</th>\n      <td>69.68</td>\n      <td>0.008394</td>\n    </tr>\n    <tr>\n      <th>2017-12-04</th>\n      <td>69.65</td>\n      <td>-0.000431</td>\n    </tr>\n  </tbody>\n</table>\n</div>",
      "text/plain": "            Closing_price  Daily_Return\nDate                                   \n2017-11-28          67.71      0.007739\n2017-11-29          68.08      0.005464\n2017-11-30          69.10      0.014982\n2017-12-01          69.68      0.008394\n2017-12-04          69.65     -0.000431"
     },
     "execution_count": 12,
     "metadata": {},
     "output_type": "execute_result"
    }
   ],
   "source": [
    "# Calculate daily return\n",
    "XLE[\"Daily_Return\"] = (XLE['Closing_price'].diff())/XLE[\"Closing_price\"].shift(1)\n",
    "XLE.dropna(inplace=True)\n",
    "XLE.head()"
   ]
  },
  {
   "cell_type": "code",
   "execution_count": 13,
   "metadata": {},
   "outputs": [
    {
     "data": {
      "text/html": "<div>\n<style scoped>\n    .dataframe tbody tr th:only-of-type {\n        vertical-align: middle;\n    }\n\n    .dataframe tbody tr th {\n        vertical-align: top;\n    }\n\n    .dataframe thead th {\n        text-align: right;\n    }\n</style>\n<table border=\"1\" class=\"dataframe\">\n  <thead>\n    <tr style=\"text-align: right;\">\n      <th></th>\n      <th>Closing_price</th>\n      <th>Daily_Return</th>\n    </tr>\n    <tr>\n      <th>Date</th>\n      <th></th>\n      <th></th>\n    </tr>\n  </thead>\n  <tbody>\n    <tr>\n      <th>2017-11-28</th>\n      <td>72.62</td>\n      <td>0.015238</td>\n    </tr>\n    <tr>\n      <th>2017-11-29</th>\n      <td>73.26</td>\n      <td>0.008813</td>\n    </tr>\n    <tr>\n      <th>2017-11-30</th>\n      <td>74.51</td>\n      <td>0.017063</td>\n    </tr>\n    <tr>\n      <th>2017-12-01</th>\n      <td>73.59</td>\n      <td>-0.012347</td>\n    </tr>\n    <tr>\n      <th>2017-12-04</th>\n      <td>74.21</td>\n      <td>0.008425</td>\n    </tr>\n  </tbody>\n</table>\n</div>",
      "text/plain": "            Closing_price  Daily_Return\nDate                                   \n2017-11-28          72.62      0.015238\n2017-11-29          73.26      0.008813\n2017-11-30          74.51      0.017063\n2017-12-01          73.59     -0.012347\n2017-12-04          74.21      0.008425"
     },
     "execution_count": 13,
     "metadata": {},
     "output_type": "execute_result"
    }
   ],
   "source": [
    "XLI[\"Daily_Return\"] = (XLI['Closing_price'].diff())/XLI[\"Closing_price\"].shift(1)\n",
    "XLI.dropna(inplace=True)\n",
    "XLI.head()"
   ]
  },
  {
   "cell_type": "code",
   "execution_count": 21,
   "metadata": {},
   "outputs": [
    {
     "data": {
      "text/plain": "0.012715813020711784"
     },
     "execution_count": 21,
     "metadata": {},
     "output_type": "execute_result"
    }
   ],
   "source": [
    "daily_return_std_XLE = np.std(XLE['Daily_Return'])\n",
    "daily_return_std_XLE"
   ]
  },
  {
   "cell_type": "code",
   "execution_count": 22,
   "metadata": {},
   "outputs": [
    {
     "data": {
      "text/plain": "0.010704917010247762"
     },
     "execution_count": 22,
     "metadata": {},
     "output_type": "execute_result"
    }
   ],
   "source": [
    "daily_return_std_XLI = np.std(XLI['Daily_Return'])\n",
    "daily_return_std_XLI"
   ]
  },
  {
   "cell_type": "code",
   "execution_count": 23,
   "metadata": {},
   "outputs": [
    {
     "data": {
      "text/plain": "0.20185727382480237"
     },
     "execution_count": 23,
     "metadata": {},
     "output_type": "execute_result"
    }
   ],
   "source": [
    "np.sqrt(252) * std_XLE"
   ]
  },
  {
   "cell_type": "code",
   "execution_count": 24,
   "metadata": {},
   "outputs": [
    {
     "data": {
      "text/plain": "0.16993528928820392"
     },
     "execution_count": 24,
     "metadata": {},
     "output_type": "execute_result"
    }
   ],
   "source": [
    "np.sqrt(252) * daily_return_std_XLI"
   ]
  },
  {
   "cell_type": "code",
   "execution_count": 26,
   "metadata": {},
   "outputs": [],
   "source": [
    "correlation_XLE_XLI = np.corrcoef(XLE['Daily_Return'].dropna(),\n",
    "                                      XLI['Daily_Return'].dropna())[0][1]"
   ]
  },
  {
   "cell_type": "code",
   "execution_count": 27,
   "metadata": {},
   "outputs": [
    {
     "data": {
      "text/plain": "0.6583199452866898"
     },
     "execution_count": 27,
     "metadata": {},
     "output_type": "execute_result"
    }
   ],
   "source": [
    "correlation_XLE_XLI"
   ]
  },
  {
   "cell_type": "code",
   "execution_count": null,
   "metadata": {},
   "outputs": [],
   "source": []
  }
 ]
}