{
 "nbformat": 4,
 "nbformat_minor": 2,
 "metadata": {
  "language_info": {
   "name": "python",
   "codemirror_mode": {
    "name": "ipython",
    "version": 3
   },
   "version": "3.7.6-final"
  },
  "orig_nbformat": 2,
  "file_extension": ".py",
  "mimetype": "text/x-python",
  "name": "python",
  "npconvert_exporter": "python",
  "pygments_lexer": "ipython3",
  "version": 3,
  "kernelspec": {
   "name": "python3",
   "display_name": "Python 3"
  }
 },
 "cells": [
  {
   "cell_type": "markdown",
   "metadata": {},
   "source": [
    "# Groupwork Assignment\n",
    "\n",
    "## Introduction and Background\n",
    "\n",
    "The S&P index is comprised of 500 large U.S public companies traded on an eligible U.S. stock exchange. Its objective is to measure the performance of the large-cap U.S. equity market. These 500 companies are classified into 11 sectors:\n",
    "\n",
    "- Energy\n",
    "- Materials\n",
    "- Industrials\n",
    "- Consumer discretionary\n",
    "- Consumer staples\n",
    "- Health care\n",
    "- Financials\n",
    "- Information technology\n",
    "- Communication services\n",
    "- Utilities\n",
    "- Real estate\n",
    "\n",
    "State Street Global Advisors and Merrill Lynch created and manage 11 exchange-traded funds (ETFs) that are indexed to these 11 sectors of the S&P 500.\n",
    "\n",
    "This group of 11 ETFs are known as the SPDR (pronounced \"spider\") family of funds. The following table provides the ticker symbol on the NYSE Arca for each of these 11 ETFs."
   ]
  },
  {
   "cell_type": "code",
   "execution_count": 2,
   "metadata": {},
   "outputs": [
    {
     "data": {
      "text/html": "<table border=\"1\" class=\"dataframe\">\n  <thead>\n    <tr style=\"text-align: right;\">\n      <th>S&amp;P Sector</th>\n      <th>SPDR ETF Ticker</th>\n    </tr>\n  </thead>\n  <tbody>\n    <tr>\n      <td>Energy</td>\n      <td>XLE</td>\n    </tr>\n    <tr>\n      <td>Materials</td>\n      <td>XLB</td>\n    </tr>\n    <tr>\n      <td>Industrials</td>\n      <td>XLI</td>\n    </tr>\n    <tr>\n      <td>Consumer discretionary</td>\n      <td>XLY</td>\n    </tr>\n    <tr>\n      <td>Consumer staples</td>\n      <td>XLP</td>\n    </tr>\n    <tr>\n      <td>Health care</td>\n      <td>XLV</td>\n    </tr>\n    <tr>\n      <td>Financials</td>\n      <td>XLF</td>\n    </tr>\n    <tr>\n      <td>Information technology</td>\n      <td>XLK</td>\n    </tr>\n    <tr>\n      <td>Communication services</td>\n      <td>XLC</td>\n    </tr>\n    <tr>\n      <td>Utilities</td>\n      <td>XLU</td>\n    </tr>\n    <tr>\n      <td>Real estate</td>\n      <td>XLRE</td>\n    </tr>\n  </tbody>\n</table>",
      "text/plain": "<IPython.core.display.HTML object>"
     },
     "metadata": {},
     "output_type": "display_data"
    }
   ],
   "source": [
    "import pandas as pd\n",
    "from IPython.display import display, HTML\n",
    "\n",
    "data = [[\"Energy\", \"XLE\", ], \n",
    "        [\"Materials\", \"XLB\"],\n",
    "        [\"Industrials\", \"XLI\"],\n",
    "        [\"Consumer discretionary\", \"XLY\"],\n",
    "        [\"Consumer staples\", \"XLP\"],\n",
    "        [\"Health care\", \"XLV\"],\n",
    "        [\"Financials\", \"XLF\"],\n",
    "        [\"Information technology\", \"XLK\"],\n",
    "        [\"Communication services\", \"XLC\"],\n",
    "        [\"Utilities\", \"XLU\"],\n",
    "        [\"Real estate\", \"XLRE\"]]\n",
    "capm = pd.DataFrame(data, columns=[\"S&P Sector\", \"SPDR ETF Ticker\"])\n",
    "display(HTML(capm.to_html(index=False)))"
   ]
  },
  {
   "cell_type": "markdown",
   "metadata": {},
   "source": [
    "The performance of the S&P 500 index in a period will be equal to the weighted-average of each sector's performance."
   ]
  },
  {
   "cell_type": "markdown",
   "metadata": {},
   "source": [
    "## Submission 1\n",
    "\n",
    "For this Submission, complete the following task (use the data in the \"GWP_PTAP_Data.xlsx\" spreadsheet provided in the course room):\n",
    "\n",
    "    a. Calculate the expected return in the upcoming year. Use the Capital Asset Pricing Model and the following information:"
   ]
  },
  {
   "cell_type": "code",
   "execution_count": 6,
   "metadata": {},
   "outputs": [
    {
     "data": {
      "text/html": "<table border=\"1\" class=\"dataframe\">\n  <thead>\n    <tr style=\"text-align: right;\">\n      <th></th>\n      <th>XLE</th>\n      <th>XLI</th>\n    </tr>\n  </thead>\n  <tbody>\n    <tr>\n      <td>Beta</td>\n      <td>1.07</td>\n      <td>1.06</td>\n    </tr>\n  </tbody>\n</table>",
      "text/plain": "<IPython.core.display.HTML object>"
     },
     "metadata": {},
     "output_type": "display_data"
    }
   ],
   "source": [
    "data = [[\"Beta\", 1.07, 1.06]]\n",
    "capm = pd.DataFrame(data, columns=[\"\",\"XLE\", \"XLI\"])\n",
    "display(HTML(capm.to_html(index=False)))"
   ]
  },
  {
   "cell_type": "markdown",
   "metadata": {},
   "source": [
    "- Risk-free rate of return $(R_f): 2.25% $\n",
    "- Market return $(R_m): 9% $\n",
    "- Market standard deviation: $ 15% $\n",
    "\n",
    "Calculate the daily and annualized standard deviation of returns for the prior year. Use the MS Excel spreadsheet provided titled \"GWP_PTAP_Data.xlsx\". When annualizing daily standard deviation, assume there are 252 trading days in a year.\n",
    "\n",
    "b. Calculate the correlation (to two (2) decimal places) between each sector's return.\n",
    "\n",
    "### Explain the calculations required to accomplish each task."
   ]
  },
  {
   "cell_type": "markdown",
   "metadata": {},
   "source": []
  }
 ]
}