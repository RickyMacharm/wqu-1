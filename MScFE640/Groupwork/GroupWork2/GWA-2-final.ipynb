{
 "cells": [
  {
   "cell_type": "markdown",
   "metadata": {},
   "source": [
    "<center><h1> Groupwork Project 1 - Group 6B</h1></center>\n",
    "<center><h1> MScFE 650 - Portfolio Theory and Asset Pricing </h1></center>\n",
    "\n",
    "<br>\n",
    "\n",
    "<center><h3>Groupwork Members:</h3><br>Hai Ninh Hoang (haininhhoang94@gmail.com)<br>Quyen Ho Thanh(thquyen11@hotmail.com)<br>Wei Hao Lew (lewweihao93@hotmail.com)<br>Indira Djambaeva (idjamboeva@mail.ru)<br></center>"
   ]
  },
  {
   "cell_type": "markdown",
   "metadata": {},
   "source": [
    "# Submission 2\n",
    "\n",
    "Using the data that you calculated in Submission 1, complete the following tasks (use the data\n",
    "in the <b>\"GWP_PTAP_Data.xlsx\"</b> spreadsheet provided in the course room):\n",
    "\n",
    "### 1. Calculate and draw a scatter plot graph of the efficient frontier based on 11 combinations of XLE and XLI\n",
    "    - Portfolio 1 = 100% XLE + 0% XLI\n",
    "    - Portfolio 2 = 90% XLE + 10% XLI\n",
    "    - .....\n",
    "    - Portfolio 11 = 0% XLE + 100% XLI\n",
    "\n",
    "### 2. Select a portfolio from portfolios 1-11 on the efficient frontier that satisfies the following constrants:\n",
    "    - The return is greater than 9.43%\n",
    "    - The volatility is not greater than 16.8%\n",
    "\n",
    "### 3. Comment on how the portfolio selected in Submission 2(b) is expected to perform relative to the S&P 500 in terms of the following:\n",
    "    - Return\n",
    "    - Risk\n",
    "    - Risk-adjusted return, including the Sharpe Ratio\n",
    "\n",
    "### 4. Comment on the appropriateness of the S&P 500 as a benchmark for the portfolio.\n",
    "\n",
    "<b>Explain the calculations required to accomplish each task</b>\n",
    "\n",
    "Make sure to use feedback your group received for your previous submission\n"
   ]
  },
  {
   "cell_type": "markdown",
   "metadata": {},
   "source": [
    "# Answer\n",
    "\n",
    "In this assignment, it is required to use the previous Submission 1 results, so we use the following Correlation, Annualized Return Standard Deviation, and Expected Return as below\n",
    "\n",
    "$ \\rho_{XLE, XLI}  = 0.658 $<br>\n",
    "$ \\sigma_{XLE} = 0.202 $<br>\n",
    "$ \\sigma_{XLI} = 0.170 $<br>\n",
    "$ R_{XLE} = 0.095 $<br>\n",
    "$ R_{XLI} = 0.094 $<br>"
   ]
  },
  {
   "cell_type": "code",
   "execution_count": 3,
   "metadata": {},
   "outputs": [],
   "source": [
    "# import libraries\n",
    "import numpy as np\n",
    "import pandas as pd\n",
    "import matplotlib.pyplot as plt\n",
    "\n",
    "%matplotlib inline"
   ]
  },
  {
   "cell_type": "code",
   "execution_count": 4,
   "metadata": {},
   "outputs": [],
   "source": [
    "correlation_XLE_XLI = 0.6583199452866898 \n",
    "annualized_return_std_XLE = 0.20185727382480237\n",
    "annualized_return_std_XLI = 0.16993528928820395\n",
    "return_XLE = 0.094725\n",
    "return_XLI = 0.09405"
   ]
  },
  {
   "cell_type": "markdown",
   "metadata": {},
   "source": [
    "### 1. Calculate and draw a scatter plot graph of the efficient frontier based on 11 combinations of XLE and XLI\n",
    "    - Portfolio 1 = 100% XLE + 0% XLI\n",
    "    - Portfolio 2 = 90% XLE + 10% XLI\n",
    "    - .....\n",
    "    - Portfolio 11 = 0% XLE + 100% XLI"
   ]
  },
  {
   "cell_type": "code",
   "execution_count": 5,
   "metadata": {},
   "outputs": [],
   "source": [
    "xle_percent = np.linspace(100, 0, 11)\n",
    "xli_percent = np.linspace(0, 100, 11)\n",
    "index = [\"Portfolio 1\", \"Portfolio 2\", \"Portfolio 3\", \"Portfolio 4\", \"Portfolio 5\", \"Portfolio 6\", \"Portfolio 7\", \"Portfolio 8\", \"Portfolio 9\", \"Portfolio 10\", \"Portfolio 11\",]\n",
    "portfolios = pd.DataFrame(index=index, columns=[\"XLE %\", \"XLI %\", \"Expected Return\", \"Std. Volatility\"])\n",
    "portfolios[\"XLE %\"] = xle_percent\n",
    "portfolios[\"XLI %\"] = xli_percent\n",
    "portfolios.fillna(0, inplace=True)"
   ]
  },
  {
   "cell_type": "markdown",
   "metadata": {},
   "source": [
    "Based on Module 1, Portfolio Theory and Asset Pricing, the Efficicent Frontier is consist of the Volatility of the Portfolio as the horizontal axis, and the Expected Return of the Portfolio as the vertical axis.\n",
    "\n",
    "In order to draw the Efficicent Frontier, we calculate the Return and Volatility of the Portfolio by using the following equation: \n",
    "\n",
    "<b>Expected Return of an Portfolio</b>\n",
    "\n",
    "$$ R_p = \\sum_{i=1}^n {R_i * w_i} $$\n",
    "\n",
    "where: <br>\n",
    "$ R_p $: Expected Return of the Portfolio<br>\n",
    "$ R_i $: Expected Return of the Asset<br>\n",
    "$ w_i $: Weight of the Asset in the Portfolio<br>\n",
    "\n",
    "<b>Volatility of an Portfolio (consist of two asset, can be called Two-aseet Portfolio):</b>\n",
    "\n",
    "$$ \\rho_p = \\sqrt{w_1^2 * \\sigma_1^2 + w_2^2 * \\sigma_2^2 + 2*w_1*\\sigma_1*w_2*\\sigma_2*\\rho_{1,2}} $$\n",
    "\n",
    "where: <br>\n",
    "$ \\rho_p $ : Volatility of the Two-asset Portfolio<br>\n",
    "$ w_1, w_2 $: Weight of asset 1 and 2 in the Portfolio respectively<br>\n",
    "$ \\sigma_1, \\sigma_2 $: Volatility of asset 1 and 2 in Portfolio respectively<br>\n",
    "$ \\rho_{1,2} $: Correlation between asset 1 and assets 2 returns<br>\n",
    "\n",
    "If the Portfolio is consist of more than two assets, the <b>General Equation of Volatility of the Portfolio</b> should be:\n",
    "\n",
    "$$ \\sigma_p = \\sqrt{\\sum_{i=1}^n w_i^2*\\sigma_i^2 + \\sum_{i,j=1,i \\neq j}^n w_i*w_j*\\sigma_i*\\sigma_j*\\rho_{i,j}} $$\n",
    "\n",
    "Apply the Correlation, Annualized Standard Deviation, Annualized Expected Return of XLE and XLI from the above we create the following result table:"
   ]
  },
  {
   "cell_type": "code",
   "execution_count": 7,
   "metadata": {},
   "outputs": [
    {
     "data": {
      "text/html": [
       "<div>\n",
       "<style scoped>\n",
       "    .dataframe tbody tr th:only-of-type {\n",
       "        vertical-align: middle;\n",
       "    }\n",
       "\n",
       "    .dataframe tbody tr th {\n",
       "        vertical-align: top;\n",
       "    }\n",
       "\n",
       "    .dataframe thead th {\n",
       "        text-align: right;\n",
       "    }\n",
       "</style>\n",
       "<table border=\"1\" class=\"dataframe\">\n",
       "  <thead>\n",
       "    <tr style=\"text-align: right;\">\n",
       "      <th></th>\n",
       "      <th>XLE %</th>\n",
       "      <th>XLI %</th>\n",
       "      <th>Expected Return</th>\n",
       "      <th>Std. Volatility</th>\n",
       "    </tr>\n",
       "  </thead>\n",
       "  <tbody>\n",
       "    <tr>\n",
       "      <th>Portfolio 1</th>\n",
       "      <td>100.0</td>\n",
       "      <td>0.0</td>\n",
       "      <td>0.094725</td>\n",
       "      <td>0.201857</td>\n",
       "    </tr>\n",
       "    <tr>\n",
       "      <th>Portfolio 2</th>\n",
       "      <td>90.0</td>\n",
       "      <td>10.0</td>\n",
       "      <td>0.094657</td>\n",
       "      <td>0.193282</td>\n",
       "    </tr>\n",
       "    <tr>\n",
       "      <th>Portfolio 3</th>\n",
       "      <td>80.0</td>\n",
       "      <td>20.0</td>\n",
       "      <td>0.094590</td>\n",
       "      <td>0.185632</td>\n",
       "    </tr>\n",
       "    <tr>\n",
       "      <th>Portfolio 4</th>\n",
       "      <td>70.0</td>\n",
       "      <td>30.0</td>\n",
       "      <td>0.094523</td>\n",
       "      <td>0.179023</td>\n",
       "    </tr>\n",
       "    <tr>\n",
       "      <th>Portfolio 5</th>\n",
       "      <td>60.0</td>\n",
       "      <td>40.0</td>\n",
       "      <td>0.094455</td>\n",
       "      <td>0.173576</td>\n",
       "    </tr>\n",
       "    <tr>\n",
       "      <th>Portfolio 6</th>\n",
       "      <td>50.0</td>\n",
       "      <td>50.0</td>\n",
       "      <td>0.094387</td>\n",
       "      <td>0.169402</td>\n",
       "    </tr>\n",
       "    <tr>\n",
       "      <th>Portfolio 7</th>\n",
       "      <td>40.0</td>\n",
       "      <td>60.0</td>\n",
       "      <td>0.094320</td>\n",
       "      <td>0.166598</td>\n",
       "    </tr>\n",
       "    <tr>\n",
       "      <th>Portfolio 8</th>\n",
       "      <td>30.0</td>\n",
       "      <td>70.0</td>\n",
       "      <td>0.094253</td>\n",
       "      <td>0.165233</td>\n",
       "    </tr>\n",
       "    <tr>\n",
       "      <th>Portfolio 9</th>\n",
       "      <td>20.0</td>\n",
       "      <td>80.0</td>\n",
       "      <td>0.094185</td>\n",
       "      <td>0.165342</td>\n",
       "    </tr>\n",
       "    <tr>\n",
       "      <th>Portfolio 10</th>\n",
       "      <td>10.0</td>\n",
       "      <td>90.0</td>\n",
       "      <td>0.094117</td>\n",
       "      <td>0.166923</td>\n",
       "    </tr>\n",
       "    <tr>\n",
       "      <th>Portfolio 11</th>\n",
       "      <td>0.0</td>\n",
       "      <td>100.0</td>\n",
       "      <td>0.094050</td>\n",
       "      <td>0.169935</td>\n",
       "    </tr>\n",
       "  </tbody>\n",
       "</table>\n",
       "</div>"
      ],
      "text/plain": [
       "              XLE %  XLI %  Expected Return  Std. Volatility\n",
       "Portfolio 1   100.0    0.0         0.094725         0.201857\n",
       "Portfolio 2    90.0   10.0         0.094657         0.193282\n",
       "Portfolio 3    80.0   20.0         0.094590         0.185632\n",
       "Portfolio 4    70.0   30.0         0.094523         0.179023\n",
       "Portfolio 5    60.0   40.0         0.094455         0.173576\n",
       "Portfolio 6    50.0   50.0         0.094387         0.169402\n",
       "Portfolio 7    40.0   60.0         0.094320         0.166598\n",
       "Portfolio 8    30.0   70.0         0.094253         0.165233\n",
       "Portfolio 9    20.0   80.0         0.094185         0.165342\n",
       "Portfolio 10   10.0   90.0         0.094117         0.166923\n",
       "Portfolio 11    0.0  100.0         0.094050         0.169935"
      ]
     },
     "execution_count": 7,
     "metadata": {},
     "output_type": "execute_result"
    }
   ],
   "source": [
    "portfolios[\"Expected Return\"] = return_XLE*portfolios[\"XLE %\"]/100 + return_XLI*portfolios[\"XLI %\"]/100\n",
    "portfolios[\"Std. Volatility\"] = np.sqrt((annualized_return_std_XLE**2)*(portfolios[\"XLE %\"]/100)**2 + (annualized_return_std_XLI**2)*(portfolios[\"XLI %\"]/100)**2 + 2*annualized_return_std_XLE*annualized_return_std_XLI*(portfolios[\"XLE %\"]/100)*(portfolios[\"XLI %\"]/100)*correlation_XLE_XLI)\n",
    "\n",
    "portfolios"
   ]
  },
  {
   "cell_type": "markdown",
   "metadata": {},
   "source": [
    "From this data table, we create the Efficient Frontier graph as below: "
   ]
  },
  {
   "cell_type": "code",
   "execution_count": 15,
   "metadata": {},
   "outputs": [
    {
     "data": {
      "image/png": "[encoded data removed]",
      "text/plain": [
       "<Figure size 432x288 with 1 Axes>"
      ]
     },
     "metadata": {
      "needs_background": "light"
     },
     "output_type": "display_data"
    }
   ],
   "source": [
    "plt.plot(portfolios[\"Std. Volatility\"]*100, portfolios[\"Expected Return\"]*100, 'o-')\n",
    "plt.title(\"Efficient Frontier\")\n",
    "plt.ylabel(\"Expected Portfolio Return\")\n",
    "plt.xlabel(\"Volatility of Portfolio\")\n",
    "plt.show()"
   ]
  },
  {
   "cell_type": "markdown",
   "metadata": {},
   "source": [
    "### 2. Select a portfolio from portfolios 1-11 on the efficient frontier that satisfies the following constrants:\n",
    "    - The return is greater than 9.43%\n",
    "    - The volatility is not greater than 16.8%"
   ]
  },
  {
   "cell_type": "markdown",
   "metadata": {},
   "source": [
    "From the 11 Portfolios above we will choose a Portfolio with:<br>\n",
    "$ R_p > 9.43% $<br>\n",
    "$ \\sigma_p \\leq 16.8% $<br>\n",
    "\n",
    "The result is shown below:"
   ]
  },
  {
   "cell_type": "code",
   "execution_count": 17,
   "metadata": {},
   "outputs": [
    {
     "data": {
      "text/html": [
       "<div>\n",
       "<style scoped>\n",
       "    .dataframe tbody tr th:only-of-type {\n",
       "        vertical-align: middle;\n",
       "    }\n",
       "\n",
       "    .dataframe tbody tr th {\n",
       "        vertical-align: top;\n",
       "    }\n",
       "\n",
       "    .dataframe thead th {\n",
       "        text-align: right;\n",
       "    }\n",
       "</style>\n",
       "<table border=\"1\" class=\"dataframe\">\n",
       "  <thead>\n",
       "    <tr style=\"text-align: right;\">\n",
       "      <th></th>\n",
       "      <th>XLE %</th>\n",
       "      <th>XLI %</th>\n",
       "      <th>Expected Return</th>\n",
       "      <th>Std. Volatility</th>\n",
       "    </tr>\n",
       "  </thead>\n",
       "  <tbody>\n",
       "    <tr>\n",
       "      <th>Portfolio 7</th>\n",
       "      <td>40.0</td>\n",
       "      <td>60.0</td>\n",
       "      <td>0.09432</td>\n",
       "      <td>0.166598</td>\n",
       "    </tr>\n",
       "  </tbody>\n",
       "</table>\n",
       "</div>"
      ],
      "text/plain": [
       "             XLE %  XLI %  Expected Return  Std. Volatility\n",
       "Portfolio 7   40.0   60.0          0.09432         0.166598"
      ]
     },
     "execution_count": 17,
     "metadata": {},
     "output_type": "execute_result"
    }
   ],
   "source": [
    "return_threshold = 0.0943\n",
    "volatility_threshold = 0.168\n",
    "optimal_portfolio = portfolios.loc[(portfolios[\"Expected Return\"] > return_threshold) & (portfolios[\"Std. Volatility\"] <= volatility_threshold)]\n",
    "optimal_portfolio"
   ]
  },
  {
   "cell_type": "markdown",
   "metadata": {},
   "source": [
    "Portfolio 7 is made of 40% XLE and 60% XLE, with the Expected Return of 0.094 and Volatility of 0.167."
   ]
  },
  {
   "cell_type": "markdown",
   "metadata": {},
   "source": [
    "### 3. Comment on how the portfolio selected in Submission 2(b) is expected to perform relative to the S&P 500 in terms of the following:\n",
    "    - Return\n",
    "    - Risk\n",
    "    - Risk-adjusted return, including the Sharpe Ratio"
   ]
  },
  {
   "cell_type": "markdown",
   "metadata": {},
   "source": [
    "Given that both XLI and XLE have positive beta, combining them in any proportions into a portfolio will definitely result in an expected return which is higher than S&P 500, which is taken to be the market, and has an expected return of 9%.(As given in previous assignment). In fact, the expected return of this portfolio can be calcuated by the weighted average of the expected return of each of the individual assets.\n",
    "\n",
    "Portfolio expected return = 0.4 x 9.4725% + 0.6 x 9.405% = 9.432%\n",
    "\n",
    "The volatility of this portfolio is 16.66%, as compared to the S&P 500 volatility of 15%. (Market volatility) Hence, this portfolio has a higher risk than S&P500.\n",
    "\n",
    "The Sharpe ratio is given by\n",
    "\n",
    "$Sharpe Ratio = \\frac{Asset Return - Risk Free Rate}{Volatility of Asset}$\n",
    "\n",
    "S&P500 Sharpe Ratio = (9 - 2.25)/15 = 0.45\n",
    "\n",
    "Portfolio Sharpe Ratio = (9.432 - 2.25)/16.66 = 0.431\n",
    "\n",
    "Hence, the S&P500 still has a higher sharpe ratio than the portfolio."
   ]
  },
  {
   "cell_type": "markdown",
   "metadata": {},
   "source": [
    "### 4. Comment on the appropriateness of the S&P 500 as a benchmark for the portfolio."
   ]
  },
  {
   "cell_type": "markdown",
   "metadata": {},
   "source": [
    "The S&P 500 is appropriate to some extent as the XLE and XLI indices are both created out of taking some assets from the S&P500 index. However, the XLE only tracks the energy sector of the S&P500 while the XLI only tracks the industrial sector of the S&P 500. Hence, using S&P500 as a benchmark for this portfolio has its limitations as the S&P500 index contains other sectors that are not being represented by the portfolio, like healthcare and technology. This results in inconsistencies as other irrelevant sectors will impact the benchmark performance without impacting the portfolio. Hence, using another benchmark index that focuses primarily on the energy sector and industrial sector would be more reliable."
   ]
  },
  {
   "cell_type": "code",
   "execution_count": null,
   "metadata": {},
   "outputs": [],
   "source": []
  }
 ],
 "metadata": {
  "file_extension": ".py",
  "kernelspec": {
   "display_name": "Python 3",
   "language": "python",
   "name": "python3"
  },
  "language_info": {
   "codemirror_mode": {
    "name": "ipython",
    "version": 3
   },
   "file_extension": ".py",
   "mimetype": "text/x-python",
   "name": "python",
   "nbconvert_exporter": "python",
   "pygments_lexer": "ipython3",
   "version": "3.8.1"
  },
  "mimetype": "text/x-python",
  "name": "python",
  "npconvert_exporter": "python",
  "pygments_lexer": "ipython3",
  "version": 3
 },
 "nbformat": 4,
 "nbformat_minor": 2
}
