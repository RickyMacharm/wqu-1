{
 "cells": [
  {
   "cell_type": "markdown",
   "metadata": {},
   "source": [
    "## Submission 2\n",
    "### a) Calculate and draw a scatter plot graph of the efficient frontier based on 11 combinations of XLE and XLI"
   ]
  },
  {
   "cell_type": "code",
   "execution_count": 1,
   "metadata": {},
   "outputs": [],
   "source": [
    "import matplotlib.pyplot as plt\n",
    "import numpy as np\n",
    "import pandas as pd"
   ]
  },
  {
   "cell_type": "code",
   "execution_count": 2,
   "metadata": {},
   "outputs": [],
   "source": [
    "xle_percent = np.linspace(100, 0, 11)\n",
    "xli_percent = np.linspace(0, 100, 11)\n",
    "index = [\"Portfolio 1\", \"Portfolio 2\", \"Portfolio 3\", \"Portfolio 4\", \"Portfolio 5\", \"Portfolio 6\", \"Portfolio 7\", \"Portfolio 8\", \"Portfolio 9\", \"Portfolio 10\", \"Portfolio 11\",]\n",
    "portfolios = pd.DataFrame(index=index, columns=[\"XLE %\", \"XLI %\", \"Expected Return\", \"Std. Volatility\"])\n",
    "portfolios[\"XLE %\"] = xle_percent\n",
    "portfolios[\"XLI %\"] = xli_percent\n",
    "portfolios.fillna(0, inplace=True)\n",
    "\n",
    "#Results from previous assignment\n",
    "correlation_XLE_XLI = 0.6583199452866898 \n",
    "annualized_return_std_XLE = 0.20185727382480237\n",
    "annualized_return_std_XLI = 0.16993528928820395\n",
    "return_XLE = 0.094725\n",
    "return_XLI = 0.09405"
   ]
  },
  {
   "cell_type": "code",
   "execution_count": 3,
   "metadata": {},
   "outputs": [
    {
     "data": {
      "text/html": [
       "<div>\n",
       "<style scoped>\n",
       "    .dataframe tbody tr th:only-of-type {\n",
       "        vertical-align: middle;\n",
       "    }\n",
       "\n",
       "    .dataframe tbody tr th {\n",
       "        vertical-align: top;\n",
       "    }\n",
       "\n",
       "    .dataframe thead th {\n",
       "        text-align: right;\n",
       "    }\n",
       "</style>\n",
       "<table border=\"1\" class=\"dataframe\">\n",
       "  <thead>\n",
       "    <tr style=\"text-align: right;\">\n",
       "      <th></th>\n",
       "      <th>XLE %</th>\n",
       "      <th>XLI %</th>\n",
       "      <th>Expected Return</th>\n",
       "      <th>Std. Volatility</th>\n",
       "    </tr>\n",
       "  </thead>\n",
       "  <tbody>\n",
       "    <tr>\n",
       "      <td>Portfolio 1</td>\n",
       "      <td>100.0</td>\n",
       "      <td>0.0</td>\n",
       "      <td>0.094725</td>\n",
       "      <td>0.201857</td>\n",
       "    </tr>\n",
       "    <tr>\n",
       "      <td>Portfolio 2</td>\n",
       "      <td>90.0</td>\n",
       "      <td>10.0</td>\n",
       "      <td>0.094657</td>\n",
       "      <td>0.193282</td>\n",
       "    </tr>\n",
       "    <tr>\n",
       "      <td>Portfolio 3</td>\n",
       "      <td>80.0</td>\n",
       "      <td>20.0</td>\n",
       "      <td>0.094590</td>\n",
       "      <td>0.185632</td>\n",
       "    </tr>\n",
       "    <tr>\n",
       "      <td>Portfolio 4</td>\n",
       "      <td>70.0</td>\n",
       "      <td>30.0</td>\n",
       "      <td>0.094523</td>\n",
       "      <td>0.179023</td>\n",
       "    </tr>\n",
       "    <tr>\n",
       "      <td>Portfolio 5</td>\n",
       "      <td>60.0</td>\n",
       "      <td>40.0</td>\n",
       "      <td>0.094455</td>\n",
       "      <td>0.173576</td>\n",
       "    </tr>\n",
       "    <tr>\n",
       "      <td>Portfolio 6</td>\n",
       "      <td>50.0</td>\n",
       "      <td>50.0</td>\n",
       "      <td>0.094387</td>\n",
       "      <td>0.169402</td>\n",
       "    </tr>\n",
       "    <tr>\n",
       "      <td>Portfolio 7</td>\n",
       "      <td>40.0</td>\n",
       "      <td>60.0</td>\n",
       "      <td>0.094320</td>\n",
       "      <td>0.166598</td>\n",
       "    </tr>\n",
       "    <tr>\n",
       "      <td>Portfolio 8</td>\n",
       "      <td>30.0</td>\n",
       "      <td>70.0</td>\n",
       "      <td>0.094253</td>\n",
       "      <td>0.165233</td>\n",
       "    </tr>\n",
       "    <tr>\n",
       "      <td>Portfolio 9</td>\n",
       "      <td>20.0</td>\n",
       "      <td>80.0</td>\n",
       "      <td>0.094185</td>\n",
       "      <td>0.165342</td>\n",
       "    </tr>\n",
       "    <tr>\n",
       "      <td>Portfolio 10</td>\n",
       "      <td>10.0</td>\n",
       "      <td>90.0</td>\n",
       "      <td>0.094117</td>\n",
       "      <td>0.166923</td>\n",
       "    </tr>\n",
       "    <tr>\n",
       "      <td>Portfolio 11</td>\n",
       "      <td>0.0</td>\n",
       "      <td>100.0</td>\n",
       "      <td>0.094050</td>\n",
       "      <td>0.169935</td>\n",
       "    </tr>\n",
       "  </tbody>\n",
       "</table>\n",
       "</div>"
      ],
      "text/plain": [
       "              XLE %  XLI %  Expected Return  Std. Volatility\n",
       "Portfolio 1   100.0    0.0         0.094725         0.201857\n",
       "Portfolio 2    90.0   10.0         0.094657         0.193282\n",
       "Portfolio 3    80.0   20.0         0.094590         0.185632\n",
       "Portfolio 4    70.0   30.0         0.094523         0.179023\n",
       "Portfolio 5    60.0   40.0         0.094455         0.173576\n",
       "Portfolio 6    50.0   50.0         0.094387         0.169402\n",
       "Portfolio 7    40.0   60.0         0.094320         0.166598\n",
       "Portfolio 8    30.0   70.0         0.094253         0.165233\n",
       "Portfolio 9    20.0   80.0         0.094185         0.165342\n",
       "Portfolio 10   10.0   90.0         0.094117         0.166923\n",
       "Portfolio 11    0.0  100.0         0.094050         0.169935"
      ]
     },
     "execution_count": 3,
     "metadata": {},
     "output_type": "execute_result"
    }
   ],
   "source": [
    "portfolios[\"Expected Return\"] = return_XLE*portfolios[\"XLE %\"]/100 + return_XLI*portfolios[\"XLI %\"]/100\n",
    "portfolios[\"Std. Volatility\"] = np.sqrt((annualized_return_std_XLE**2)*(portfolios[\"XLE %\"]/100)**2 + (annualized_return_std_XLI**2)*(portfolios[\"XLI %\"]/100)**2 + 2*annualized_return_std_XLE*annualized_return_std_XLI*(portfolios[\"XLE %\"]/100)*(portfolios[\"XLI %\"]/100)*correlation_XLE_XLI)\n",
    "\n",
    "portfolios"
   ]
  },
  {
   "cell_type": "code",
   "execution_count": 4,
   "metadata": {},
   "outputs": [
    {
     "data": {
      "image/png": "[encoded data removed]",
      "text/plain": [
       "<Figure size 432x288 with 1 Axes>"
      ]
     },
     "metadata": {
      "needs_background": "light"
     },
     "output_type": "display_data"
    }
   ],
   "source": [
    "plt.plot(portfolios[\"Std. Volatility\"]*100, portfolios[\"Expected Return\"]*100, 'b+')\n",
    "plt.title(\"Efficient Frontier\")\n",
    "plt.ylabel(\"Return %\")\n",
    "plt.xlabel(\"Volatility %\")\n",
    "plt.show()"
   ]
  },
  {
   "cell_type": "markdown",
   "metadata": {},
   "source": [
    "### b) Select a portfolio from portfolios 1-11 on the efficient frontier that has the return > 9.43% and volatility <= 16.8%"
   ]
  },
  {
   "cell_type": "code",
   "execution_count": 5,
   "metadata": {},
   "outputs": [
    {
     "name": "stdout",
     "output_type": "stream",
     "text": [
      "['Portfolio 7'] has expected return > 0.0943 and Std. Volatility <= 0.168\n"
     ]
    },
    {
     "data": {
      "text/html": [
       "<div>\n",
       "<style scoped>\n",
       "    .dataframe tbody tr th:only-of-type {\n",
       "        vertical-align: middle;\n",
       "    }\n",
       "\n",
       "    .dataframe tbody tr th {\n",
       "        vertical-align: top;\n",
       "    }\n",
       "\n",
       "    .dataframe thead th {\n",
       "        text-align: right;\n",
       "    }\n",
       "</style>\n",
       "<table border=\"1\" class=\"dataframe\">\n",
       "  <thead>\n",
       "    <tr style=\"text-align: right;\">\n",
       "      <th></th>\n",
       "      <th>XLE %</th>\n",
       "      <th>XLI %</th>\n",
       "      <th>Expected Return</th>\n",
       "      <th>Std. Volatility</th>\n",
       "    </tr>\n",
       "  </thead>\n",
       "  <tbody>\n",
       "    <tr>\n",
       "      <td>Portfolio 7</td>\n",
       "      <td>40.0</td>\n",
       "      <td>60.0</td>\n",
       "      <td>0.09432</td>\n",
       "      <td>0.166598</td>\n",
       "    </tr>\n",
       "  </tbody>\n",
       "</table>\n",
       "</div>"
      ],
      "text/plain": [
       "             XLE %  XLI %  Expected Return  Std. Volatility\n",
       "Portfolio 7   40.0   60.0          0.09432         0.166598"
      ]
     },
     "execution_count": 5,
     "metadata": {},
     "output_type": "execute_result"
    }
   ],
   "source": [
    "return_threshold = 0.0943\n",
    "volatility_threshold = 0.168\n",
    "optimal_portfolio = portfolios.loc[(portfolios[\"Expected Return\"] > return_threshold) & (portfolios[\"Std. Volatility\"] <= volatility_threshold)]\n",
    "\n",
    "print(f\"{optimal_portfolio.index.values} has expected return > {return_threshold} and Std. Volatility <= {volatility_threshold}\")\n",
    "optimal_portfolio"
   ]
  },
  {
   "cell_type": "markdown",
   "metadata": {},
   "source": [
    "### c) Comment on how the portfolio selected in Submission 2(b) is expected to perform relative to the S&P 500 in terms of Return, Risk and Sharpe Ratio."
   ]
  },
  {
   "cell_type": "markdown",
   "metadata": {},
   "source": [
    "Given that both XLI and XLE have positive beta, combining them in any proportions into a portfolio will definitely result in an expected return which is higher than S&P 500, which is taken to be the market, and has an expected return of 9%.(As given in previous assignment). In fact, the expected return of this portfolio can be calcuated by the weighted average of the expected return of each of the individual assets.\n",
    "\n",
    "Portfolio expected return = 0.4 x 9.4725% + 0.6 x 9.405% = 9.432%\n",
    "\n",
    "The volatility of this portfolio is 16.66%, as compared to the S&P 500 volatility of 15%. (Market volatility) Hence, this portfolio has a higher risk than S&P500.\n",
    "\n",
    "The Sharpe ratio is given by\n",
    "\n",
    "$Sharpe Ratio = \\frac{Asset Return - Risk Free Rate}{Volatility of Asset}$\n",
    "\n",
    "S&P500 Sharpe Ratio = (9 - 2.25)/15 = 0.45\n",
    "\n",
    "Portfolio Sharpe Ratio = (9.432 - 2.25)/16.66 = 0.431\n",
    "\n",
    "Hence, the S&P500 still has a higher sharpe ratio than the portfolio."
   ]
  },
  {
   "cell_type": "markdown",
   "metadata": {},
   "source": [
    "### d) Comment on the appropriateness of the S&P 500 as a benchmark for the portfolio."
   ]
  },
  {
   "cell_type": "markdown",
   "metadata": {},
   "source": [
    "The S&P 500 is appropriate to some extent as the XLE and XLI indices are both created out of taking some assets from the S&P500 index. However, the XLE only tracks the energy sector of the S&P500 while the XLI only tracks the industrial sector of the S&P 500. Hence, using S&P500 as a benchmark for this portfolio has its limitations as the S&P500 index contains other sectors that are not being represented by the portfolio, like healthcare and technology. This results in inconsistencies as other irrelevant sectors will impact the benchmark performance without impacting the portfolio. Hence, using another benchmark index that focuses primarily on the energy sector and industrial sector would be more reliable."
   ]
  }
 ],
 "metadata": {
  "file_extension": ".py",
  "kernelspec": {
   "display_name": "Python 3",
   "language": "python",
   "name": "python3"
  },
  "language_info": {
   "codemirror_mode": {
    "name": "ipython",
    "version": 3
   },
   "file_extension": ".py",
   "mimetype": "text/x-python",
   "name": "python",
   "nbconvert_exporter": "python",
   "pygments_lexer": "ipython3",
   "version": "3.8.1"
  },
  "mimetype": "text/x-python",
  "name": "python",
  "npconvert_exporter": "python",
  "pygments_lexer": "ipython3",
  "version": 3
 },
 "nbformat": 4,
 "nbformat_minor": 2
}
