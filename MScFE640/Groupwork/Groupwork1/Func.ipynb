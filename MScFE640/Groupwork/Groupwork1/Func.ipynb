{
 "cells": [
  {
   "cell_type": "code",
   "execution_count": 1,
   "metadata": {},
   "outputs": [],
   "source": [
    "import numpy as np"
   ]
  },
  {
   "cell_type": "code",
   "execution_count": 2,
   "metadata": {},
   "outputs": [],
   "source": [
    "def arithmetic_mean(numpy_array):\n",
    "    result = sum(numpy_array) / np.count_nonzero(numpy_array) \n",
    "    return result\n",
    "\n",
    "def geometric_mean(numpy_array):\n",
    "    numpy_array = 1 + numpy_array\n",
    "    result = np.prod(numpy_array) ** (1/np.count_nonzero(numpy_array)) - 1\n",
    "    return result"
   ]
  },
  {
   "cell_type": "code",
   "execution_count": 3,
   "metadata": {},
   "outputs": [
    {
     "data": {
      "text/plain": "0.0118"
     },
     "execution_count": 3,
     "metadata": {},
     "output_type": "execute_result"
    }
   ],
   "source": [
    "test_1 = np.array([0.05,0.028,-0.036,0.005,0.012])\n",
    "arithmetic_mean(test_1)"
   ]
  },
  {
   "cell_type": "code",
   "execution_count": 4,
   "metadata": {},
   "outputs": [
    {
     "data": {
      "text/plain": "-0.049765573228893634"
     },
     "execution_count": 4,
     "metadata": {},
     "output_type": "execute_result"
    }
   ],
   "source": [
    "test_2 = np.array([3.2/100,-19.57/100,3.37/100])\n",
    "geometric_mean(test_2)"
   ]
  },
  {
   "cell_type": "code",
   "execution_count": 9,
   "metadata": {},
   "outputs": [],
   "source": [
    "# Calculating volatility of multiple-assets portfolio\n",
    "def volatility_multiple_asset(w1, w2, sigma_1,sigma_2, rho_1, rho_2):\n",
    "    a = w1**2 * sigma_1**2\n",
    "    b = w2**2 * sigma_2**2\n",
    "    c = 2 * w1 * sigma_1 * w2 * sigma_2 * rho_1 * rho_2\n",
    "    result = (a+b+c) ** (1/2)\n",
    "    return result\n",
    "    # single argument, non keyword argument  \n",
    "# and keyword argument are passed \n",
    "  \n",
    "# function definiton \n",
    "#def dislplayArguments(argument1, *argument2, **argument3):  \n",
    "      \n",
    "    # displaying predetermined argument \n",
    " #   print(argument1) \n",
    "      \n",
    "    # displaying non keyword arguments \n",
    "  #  for arg in argument2: \n",
    "   #     print(arg) \n",
    "      \n",
    "    # displaying non keyword argumets \n",
    "    \n",
    "    #for arg in argument3.items(): \n",
    "     #   print(arg) \n",
    "  \n",
    "#arg1 = \"Welcome\"\n",
    "#arg3 = \"Geeks\"\n",
    "  \n",
    "# fucntion call \n",
    "#dislplayArguments(arg1, \"to\", arg3, agr4 = 4, \n",
    "#                  arg5 =\"Geeks !\") "
   ]
  },
  {
   "cell_type": "code",
   "execution_count": 10,
   "metadata": {},
   "outputs": [
    {
     "data": {
      "text/plain": "0.12119405926034493"
     },
     "execution_count": 10,
     "metadata": {},
     "output_type": "execute_result"
    }
   ],
   "source": [
    "volatility_multiple_asset(0.3,0.7,0.2,0.12,0.4,1)"
   ]
  },
  {
   "cell_type": "code",
   "execution_count": 12,
   "metadata": {},
   "outputs": [],
   "source": [
    "def Sharpe_ratio(E_Rp, Rf, sigma_p):\n",
    "    result = (E_Rp - Rf)/sigma_p\n",
    "    return result\n",
    "\n",
    "def E_Rp_CAPM(Rf, beta, Rm):\n",
    "    result = Rf + beta * (Rm - Rf)\n",
    "    return result"
   ]
  },
  {
   "cell_type": "code",
   "execution_count": 13,
   "metadata": {},
   "outputs": [],
   "source": [
    "def V0_GGM(D0, g, r):\n",
    "    a = D0 * (1 + g)\n",
    "    b = r - g\n",
    "    result = a / b\n",
    "    return result"
   ]
  },
  {
   "cell_type": "code",
   "execution_count": null,
   "metadata": {},
   "outputs": [],
   "source": []
  }
 ],
 "metadata": {
  "kernelspec": {
   "display_name": "Python 3",
   "language": "python",
   "name": "python3"
  },
  "language_info": {
   "codemirror_mode": {
    "name": "ipython",
    "version": 3
   },
   "file_extension": ".py",
   "mimetype": "text/x-python",
   "name": "python",
   "nbconvert_exporter": "python",
   "pygments_lexer": "ipython3",
   "version": "3.6.10-final"
  }
 },
 "nbformat": 4,
 "nbformat_minor": 4
}