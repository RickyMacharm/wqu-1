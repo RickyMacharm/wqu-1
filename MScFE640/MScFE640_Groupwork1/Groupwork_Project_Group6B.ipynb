{
 "cells": [
  {
   "cell_type": "markdown",
   "metadata": {},
   "source": [
    "<center><h1> Groupwork Project 1 - Group 6B</h1></center>\n",
    "<center><h1> MScFE 650 - Portfolio Theory and Asset Pricing </h1></center>\n",
    "\n",
    "<br>\n",
    "\n",
    "<center><h3>Groupwork Members:</h3><br>Hai Ninh Hoang (haininhhoang94@gmail.com)<br>Quyen Ho Thanh(thquyen11@hotmail.com)<br>Wei Hao Lew (lewweihao93@hotmail.com)<br>Indira Djambaeva (idjamboeva@mail.ru)<br></center>"
   ]
  },
  {
   "cell_type": "markdown",
   "metadata": {},
   "source": [
    "## Submission 1\n",
    "\n",
    "For this submission, complete the following tasks(use the data in the \"GWP_PTAP_Data.xlsx\" spreadsheet provided in the course room)\n",
    "\n",
    "1. Calculate the expected return in the upcoming year. Use the Capital Asset Pricing Model ad the following information:\n",
    "\n",
    "|  | XLE | XLI |\n",
    "| --- | --- | --- |\n",
    "| Beta | 1.07 | 1.06 |\n",
    "\n",
    "- Risk-free rate of return ($ R_f $): &emsp; 2.25%\n",
    "- Market return ($ R_m $): &emsp;&emsp;&emsp;&emsp;&emsp;&ensp;&nbsp; 9%\n",
    "- Market standard deviation: &emsp;&ensp;&nbsp; 15%\n",
    "\n",
    "Calculate the daily and annualized standard deviation of returns for the prior year. Use the MS Excel spreadsheet provided titled \"GWP_PTAP_Data.xlsx\". When annualizing daily standard deviation, assume there are 252 trading days in a year.\n",
    "\n",
    "2. Calculate the correlation (to two (2) decimal places) between each sector's return.\n",
    "\n",
    "<b>Explain the calculations required to accomplish each task</b>"
   ]
  },
  {
   "cell_type": "markdown",
   "metadata": {},
   "source": [
    "# Answer\n",
    "\n",
    "<b> We convert the data from the Excel files (\"GWP_PTAP_Data_2010.10.08.xlsx\"), sheets XLE and XLI to two separate files (\"XLE.csv\" and \"XLI.csv\") \n",
    "    for this assignment </b> "
   ]
  },
  {
   "cell_type": "code",
   "execution_count": 1,
   "metadata": {},
   "outputs": [],
   "source": [
    "# import library\n",
    "# In this assignment, we will use Pandas and Numpy.\n",
    "# Note that since in our course we haven't learnt Pandas yet, so using Pandas in this assignment\n",
    "# only for Data Management and Data Viewer\n",
    "\n",
    "import pandas as pd\n",
    "import numpy as np"
   ]
  },
  {
   "cell_type": "code",
   "execution_count": 2,
   "metadata": {},
   "outputs": [],
   "source": [
    "# Import the CSV data files we separate as we state above\n",
    "\n",
    "XLE = pd.read_csv(\"Data/XLE.csv\",\n",
    "                    delimiter=',')\n",
    "XLE['Date'] = pd.to_datetime(XLE['Date'])\n",
    "XLE.set_index('Date', inplace=True)\n",
    "\n",
    "XLI = pd.read_csv(\"Data/XLI.csv\",\n",
    "                    delimiter=',')\n",
    "XLI['Date'] = pd.to_datetime(XLI['Date'])\n",
    "XLI.set_index('Date', inplace=True)"
   ]
  },
  {
   "cell_type": "code",
   "execution_count": 3,
   "metadata": {},
   "outputs": [
    {
     "data": {
      "text/html": [
       "<div>\n",
       "<style scoped>\n",
       "    .dataframe tbody tr th:only-of-type {\n",
       "        vertical-align: middle;\n",
       "    }\n",
       "\n",
       "    .dataframe tbody tr th {\n",
       "        vertical-align: top;\n",
       "    }\n",
       "\n",
       "    .dataframe thead th {\n",
       "        text-align: right;\n",
       "    }\n",
       "</style>\n",
       "<table border=\"1\" class=\"dataframe\">\n",
       "  <thead>\n",
       "    <tr style=\"text-align: right;\">\n",
       "      <th></th>\n",
       "      <th>Closing_price</th>\n",
       "    </tr>\n",
       "    <tr>\n",
       "      <th>Date</th>\n",
       "      <th></th>\n",
       "    </tr>\n",
       "  </thead>\n",
       "  <tbody>\n",
       "    <tr>\n",
       "      <th>2017-11-27</th>\n",
       "      <td>67.19</td>\n",
       "    </tr>\n",
       "    <tr>\n",
       "      <th>2017-11-28</th>\n",
       "      <td>67.71</td>\n",
       "    </tr>\n",
       "    <tr>\n",
       "      <th>2017-11-29</th>\n",
       "      <td>68.08</td>\n",
       "    </tr>\n",
       "    <tr>\n",
       "      <th>2017-11-30</th>\n",
       "      <td>69.10</td>\n",
       "    </tr>\n",
       "    <tr>\n",
       "      <th>2017-12-01</th>\n",
       "      <td>69.68</td>\n",
       "    </tr>\n",
       "  </tbody>\n",
       "</table>\n",
       "</div>"
      ],
      "text/plain": [
       "            Closing_price\n",
       "Date                     \n",
       "2017-11-27          67.19\n",
       "2017-11-28          67.71\n",
       "2017-11-29          68.08\n",
       "2017-11-30          69.10\n",
       "2017-12-01          69.68"
      ]
     },
     "execution_count": 3,
     "metadata": {},
     "output_type": "execute_result"
    }
   ],
   "source": [
    "# Check the data import \n",
    "\n",
    "XLE.head()\n",
    "\n",
    "# Head of XLE data"
   ]
  },
  {
   "cell_type": "code",
   "execution_count": 4,
   "metadata": {},
   "outputs": [
    {
     "data": {
      "text/html": [
       "<div>\n",
       "<style scoped>\n",
       "    .dataframe tbody tr th:only-of-type {\n",
       "        vertical-align: middle;\n",
       "    }\n",
       "\n",
       "    .dataframe tbody tr th {\n",
       "        vertical-align: top;\n",
       "    }\n",
       "\n",
       "    .dataframe thead th {\n",
       "        text-align: right;\n",
       "    }\n",
       "</style>\n",
       "<table border=\"1\" class=\"dataframe\">\n",
       "  <thead>\n",
       "    <tr style=\"text-align: right;\">\n",
       "      <th></th>\n",
       "      <th>Closing_price</th>\n",
       "    </tr>\n",
       "    <tr>\n",
       "      <th>Date</th>\n",
       "      <th></th>\n",
       "    </tr>\n",
       "  </thead>\n",
       "  <tbody>\n",
       "    <tr>\n",
       "      <th>2017-11-27</th>\n",
       "      <td>71.53</td>\n",
       "    </tr>\n",
       "    <tr>\n",
       "      <th>2017-11-28</th>\n",
       "      <td>72.62</td>\n",
       "    </tr>\n",
       "    <tr>\n",
       "      <th>2017-11-29</th>\n",
       "      <td>73.26</td>\n",
       "    </tr>\n",
       "    <tr>\n",
       "      <th>2017-11-30</th>\n",
       "      <td>74.51</td>\n",
       "    </tr>\n",
       "    <tr>\n",
       "      <th>2017-12-01</th>\n",
       "      <td>73.59</td>\n",
       "    </tr>\n",
       "  </tbody>\n",
       "</table>\n",
       "</div>"
      ],
      "text/plain": [
       "            Closing_price\n",
       "Date                     \n",
       "2017-11-27          71.53\n",
       "2017-11-28          72.62\n",
       "2017-11-29          73.26\n",
       "2017-11-30          74.51\n",
       "2017-12-01          73.59"
      ]
     },
     "execution_count": 4,
     "metadata": {},
     "output_type": "execute_result"
    }
   ],
   "source": [
    "# Check the data import\n",
    "\n",
    "XLI.head()\n",
    "\n",
    "# Head of XLI data"
   ]
  },
  {
   "cell_type": "markdown",
   "metadata": {},
   "source": [
    "### 1. Calculate the expected return in the upcoming year by using Capital Asset Pricing Model (CAPM): \n",
    "- Calculate the cost of equity, or expected return in the next year, by Capital Asset Pricing Model (CAPM):\n",
    "\n",
    "$$ E(R_i) = R_f + \\beta_i*(R_m - R_f) $$\n",
    "\n",
    "which: <br>\n",
    "$ E(R_i) $ is the expected return, or cost of equity<br>\n",
    "$ R_f $ is the Risk-free rate of return <br>\n",
    "$ R_m $ is the market return"
   ]
  },
  {
   "cell_type": "code",
   "execution_count": 5,
   "metadata": {},
   "outputs": [],
   "source": [
    "# Import the return information\n",
    "\n",
    "beta_XLE = 1.07\n",
    "beta_XLI = 1.06\n",
    "\n",
    "Rf = 2.25/100\n",
    "Rm = 9/100\n",
    "sigma_market = 15/100"
   ]
  },
  {
   "cell_type": "code",
   "execution_count": 6,
   "metadata": {},
   "outputs": [],
   "source": [
    "# Function to calculate Expected Return by CAPM\n",
    "\n",
    "def E_Rp_CAPM(Rf, beta, Rm):\n",
    "    result = Rf + beta * (Rm - Rf)\n",
    "    return result"
   ]
  },
  {
   "cell_type": "code",
   "execution_count": 7,
   "metadata": {},
   "outputs": [
    {
     "name": "stdout",
     "output_type": "stream",
     "text": [
      "The Expected Return in the next year calculate by CAPM of XLE is: 0.0947\n",
      "The Expected Return in the next year calculate by CAPM of XLI is: 0.0940\n"
     ]
    }
   ],
   "source": [
    "# Calculate the Expected Return in the next year\n",
    "\n",
    "return_XLE = E_Rp_CAPM(Rf, beta_XLE, Rm)\n",
    "return_XLI = E_Rp_CAPM(Rf, beta_XLI, Rm)\n",
    "\n",
    "print(\"The Expected Return in the next year calculate by CAPM of XLE is: {0:.4f}\".format(return_XLE))\n",
    "print(\"The Expected Return in the next year calculate by CAPM of XLI is: {0:.4f}\".format(return_XLI))"
   ]
  },
  {
   "cell_type": "markdown",
   "metadata": {},
   "source": [
    "### Calculate the daily and annualized standard deviation of returns for the prior year.\n",
    "\n",
    "For the purpose of this assignment, we will use the normal daily return for calculation. The formula for Normal Daily Return:\n",
    "\n",
    "$$ Normal Daily Return = \\frac{Current Price - Previous Price}{Previous Price} $$"
   ]
  },
  {
   "cell_type": "code",
   "execution_count": 8,
   "metadata": {},
   "outputs": [],
   "source": [
    "# Calculate daily return for both stocks\n",
    "\n",
    "XLE[\"Daily_Return\"] = (XLE['Closing_price'].diff())/XLE[\"Closing_price\"].shift(1)\n",
    "XLI[\"Daily_Return\"] = (XLI['Closing_price'].diff())/XLI[\"Closing_price\"].shift(1)\n",
    "\n",
    "# Drop the NA data in case data missing\n",
    "XLE.dropna(inplace=True)\n",
    "XLI.dropna(inplace=True)"
   ]
  },
  {
   "cell_type": "code",
   "execution_count": 9,
   "metadata": {},
   "outputs": [
    {
     "data": {
      "text/html": [
       "<div>\n",
       "<style scoped>\n",
       "    .dataframe tbody tr th:only-of-type {\n",
       "        vertical-align: middle;\n",
       "    }\n",
       "\n",
       "    .dataframe tbody tr th {\n",
       "        vertical-align: top;\n",
       "    }\n",
       "\n",
       "    .dataframe thead th {\n",
       "        text-align: right;\n",
       "    }\n",
       "</style>\n",
       "<table border=\"1\" class=\"dataframe\">\n",
       "  <thead>\n",
       "    <tr style=\"text-align: right;\">\n",
       "      <th></th>\n",
       "      <th>Closing_price</th>\n",
       "      <th>Daily_Return</th>\n",
       "    </tr>\n",
       "    <tr>\n",
       "      <th>Date</th>\n",
       "      <th></th>\n",
       "      <th></th>\n",
       "    </tr>\n",
       "  </thead>\n",
       "  <tbody>\n",
       "    <tr>\n",
       "      <th>2017-11-28</th>\n",
       "      <td>67.71</td>\n",
       "      <td>0.007739</td>\n",
       "    </tr>\n",
       "    <tr>\n",
       "      <th>2017-11-29</th>\n",
       "      <td>68.08</td>\n",
       "      <td>0.005464</td>\n",
       "    </tr>\n",
       "    <tr>\n",
       "      <th>2017-11-30</th>\n",
       "      <td>69.10</td>\n",
       "      <td>0.014982</td>\n",
       "    </tr>\n",
       "    <tr>\n",
       "      <th>2017-12-01</th>\n",
       "      <td>69.68</td>\n",
       "      <td>0.008394</td>\n",
       "    </tr>\n",
       "    <tr>\n",
       "      <th>2017-12-04</th>\n",
       "      <td>69.65</td>\n",
       "      <td>-0.000431</td>\n",
       "    </tr>\n",
       "  </tbody>\n",
       "</table>\n",
       "</div>"
      ],
      "text/plain": [
       "            Closing_price  Daily_Return\n",
       "Date                                   \n",
       "2017-11-28          67.71      0.007739\n",
       "2017-11-29          68.08      0.005464\n",
       "2017-11-30          69.10      0.014982\n",
       "2017-12-01          69.68      0.008394\n",
       "2017-12-04          69.65     -0.000431"
      ]
     },
     "execution_count": 9,
     "metadata": {},
     "output_type": "execute_result"
    }
   ],
   "source": [
    "# View XLE\n",
    "XLE.head()"
   ]
  },
  {
   "cell_type": "code",
   "execution_count": 10,
   "metadata": {},
   "outputs": [
    {
     "data": {
      "text/html": [
       "<div>\n",
       "<style scoped>\n",
       "    .dataframe tbody tr th:only-of-type {\n",
       "        vertical-align: middle;\n",
       "    }\n",
       "\n",
       "    .dataframe tbody tr th {\n",
       "        vertical-align: top;\n",
       "    }\n",
       "\n",
       "    .dataframe thead th {\n",
       "        text-align: right;\n",
       "    }\n",
       "</style>\n",
       "<table border=\"1\" class=\"dataframe\">\n",
       "  <thead>\n",
       "    <tr style=\"text-align: right;\">\n",
       "      <th></th>\n",
       "      <th>Closing_price</th>\n",
       "      <th>Daily_Return</th>\n",
       "    </tr>\n",
       "    <tr>\n",
       "      <th>Date</th>\n",
       "      <th></th>\n",
       "      <th></th>\n",
       "    </tr>\n",
       "  </thead>\n",
       "  <tbody>\n",
       "    <tr>\n",
       "      <th>2017-11-28</th>\n",
       "      <td>72.62</td>\n",
       "      <td>0.015238</td>\n",
       "    </tr>\n",
       "    <tr>\n",
       "      <th>2017-11-29</th>\n",
       "      <td>73.26</td>\n",
       "      <td>0.008813</td>\n",
       "    </tr>\n",
       "    <tr>\n",
       "      <th>2017-11-30</th>\n",
       "      <td>74.51</td>\n",
       "      <td>0.017063</td>\n",
       "    </tr>\n",
       "    <tr>\n",
       "      <th>2017-12-01</th>\n",
       "      <td>73.59</td>\n",
       "      <td>-0.012347</td>\n",
       "    </tr>\n",
       "    <tr>\n",
       "      <th>2017-12-04</th>\n",
       "      <td>74.21</td>\n",
       "      <td>0.008425</td>\n",
       "    </tr>\n",
       "  </tbody>\n",
       "</table>\n",
       "</div>"
      ],
      "text/plain": [
       "            Closing_price  Daily_Return\n",
       "Date                                   \n",
       "2017-11-28          72.62      0.015238\n",
       "2017-11-29          73.26      0.008813\n",
       "2017-11-30          74.51      0.017063\n",
       "2017-12-01          73.59     -0.012347\n",
       "2017-12-04          74.21      0.008425"
      ]
     },
     "execution_count": 10,
     "metadata": {},
     "output_type": "execute_result"
    }
   ],
   "source": [
    "# View XLI\n",
    "XLI.head()"
   ]
  },
  {
   "cell_type": "markdown",
   "metadata": {},
   "source": [
    "Calculate the daily standard deviation of return by applying the following formula:\n",
    "\n",
    "$$ \\sigma_{daily} = \\sqrt{\\frac{\\sum_{n=0}^n r^2}{n}}$$\n",
    "\n",
    "where:<br>\n",
    "$\\sigma_{daily}$: Standard Deviation<br>\n",
    "$r$: Normal Daily Return"
   ]
  },
  {
   "cell_type": "code",
   "execution_count": 11,
   "metadata": {},
   "outputs": [
    {
     "name": "stdout",
     "output_type": "stream",
     "text": [
      "The Daily Standard Deviation of Daily Return of XLE is: 0.0127\n",
      "The Daily Standard Deviation of Daily Return of XLI is: 0.0107\n"
     ]
    }
   ],
   "source": [
    "# Calculate daily standard deviation of return by using Numpy library\n",
    "# This method have been used by lecture notes\n",
    "\n",
    "daily_return_std_XLE = np.std(XLE['Daily_Return'])\n",
    "daily_return_std_XLI = np.std(XLI['Daily_Return'])\n",
    "\n",
    "print(\"The Daily Standard Deviation of Daily Return of XLE is: {0:.4f}\".format(daily_return_std_XLE))\n",
    "print(\"The Daily Standard Deviation of Daily Return of XLI is: {0:.4f}\".format(daily_return_std_XLI))"
   ]
  },
  {
   "cell_type": "markdown",
   "metadata": {},
   "source": [
    "Calculate the Annualized standard deviation of return by applying the following formula (assume there are 252 trading days in a year):\n",
    "\n",
    "$$ \\sigma_{annualized} = \\sigma_{daily} * \\sqrt{252} $$"
   ]
  },
  {
   "cell_type": "code",
   "execution_count": 12,
   "metadata": {},
   "outputs": [
    {
     "name": "stdout",
     "output_type": "stream",
     "text": [
      "The Annualized Standard Deviation of Daily Return of XLE is: 0.2019\n",
      "The Annualized Standard Deviation of Daily Return of XLI is: 0.1699\n"
     ]
    }
   ],
   "source": [
    "annualized_return_std_XLE = daily_return_std_XLE * np.sqrt(252)\n",
    "annualized_return_std_XLI = daily_return_std_XLI * np.sqrt(252)\n",
    "\n",
    "print(\"The Annualized Standard Deviation of Daily Return of XLE is: {0:.4f}\".format(annualized_return_std_XLE))\n",
    "print(\"The Annualized Standard Deviation of Daily Return of XLI is: {0:.4f}\".format(annualized_return_std_XLI))"
   ]
  },
  {
   "cell_type": "markdown",
   "metadata": {},
   "source": [
    "### 2. Calculate the correlation (to two (2) decimal places) between each sector's return.\n",
    "\n",
    "We use the following formula to calculate the Pearson product-moment correlation coefficient:\n",
    "\n",
    "$$ \\rho_{xy} = \\frac{Cov(x,y)}{\\sigma_x * \\sigma_y} $$\n",
    "\n",
    "where: <br>\n",
    "$ \\rho_{xy} $: Pearson product-moment correlation coefficient <br>\n",
    "$ Cov(x,y) $: covariance of variables x and y <br>\n",
    "$ \\sigma_x, \\sigma_y $: standard deviation of x and y <br>\n",
    "\n",
    "And covariance will be calculate by:\n",
    "\n",
    "$$ Cov(x,y) = \\frac{\\sum (X_i - \\overline{X}) * (Y_i - \\overline{Y})}{n} $$"
   ]
  },
  {
   "cell_type": "markdown",
   "metadata": {},
   "source": [
    "Since in the lecture we use Numpy as our library, we will use Numpy to calculate the correlation coefficient matrix, then take the Pearson product-moment correlation coefficient:"
   ]
  },
  {
   "cell_type": "code",
   "execution_count": 13,
   "metadata": {},
   "outputs": [
    {
     "name": "stdout",
     "output_type": "stream",
     "text": [
      "The Correlation Coefficient of Daily Return of XLE and XLI is: 0.66\n"
     ]
    }
   ],
   "source": [
    "correlation_XLE_XLI = np.corrcoef(XLE['Daily_Return'],\n",
    "                                      XLI['Daily_Return'])[0][1]\n",
    "print(\"The Correlation Coefficient of Daily Return of XLE and XLI is: {0:.2f}\".format(correlation_XLE_XLI))"
   ]
  },
  {
   "cell_type": "code",
   "execution_count": null,
   "metadata": {},
   "outputs": [],
   "source": []
  }
 ],
 "metadata": {
  "file_extension": ".py",
  "kernelspec": {
   "display_name": "Python 3",
   "language": "python",
   "name": "python3"
  },
  "language_info": {
   "codemirror_mode": {
    "name": "ipython",
    "version": 3
   },
   "file_extension": ".py",
   "mimetype": "text/x-python",
   "name": "python",
   "nbconvert_exporter": "python",
   "pygments_lexer": "ipython3",
   "version": "3.8.1"
  },
  "mimetype": "text/x-python",
  "name": "python",
  "npconvert_exporter": "python",
  "pygments_lexer": "ipython3",
  "version": 3
 },
 "nbformat": 4,
 "nbformat_minor": 2
}
