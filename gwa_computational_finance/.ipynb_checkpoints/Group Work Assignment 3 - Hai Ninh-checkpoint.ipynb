{
 "cells": [
  {
   "cell_type": "markdown",
   "metadata": {},
   "source": [
    "# Submission 3: Simulation Asset Price Evolutions and Reprice Risky up-and-out Call Option\n",
    "\n",
    "The goal of Submission 3 is to reprice the risky up-and-out call option from Submission 1, but now implementing a non-constant interest rate and local volatility. With the exception of the interest rates and volatilities, you make make the same assumptions as in Submission 1:\n",
    "\n",
    "- Option maturnity is one year\n",
    "- The option is struck at-the-money\n",
    "- The ip-and-out barrier for the option is $150\n",
    "- The current share price is $100\n",
    "- The current firm value for the counterpartyis $200\n",
    "- The counterparty's deb, due in one year, is $175\n",
    "- The correlation between the counterparty and the stock is constant at 0.2\n",
    "- The recovery rate with the counterparty is 25%\n",
    "\n",
    "The local volatility functions for both the stock and the counterparty have the same form as in part 2, namely ... . For the stock ..., and for the counterparty, ..., where ...\n",
    "\n",
    "We can simulation the next step in a share price path using the following formula:\n",
    "()\n",
    "\n",
    "where Sti is the share price at time ..., ... is the volatility for the period ..., ... is the risk-free interest rate, and $ ... $. The counterparty firm values can be simulated similarly.\n",
    "\n",
    "You observe the following zero-coupon bond prices (per $ 100$ nominal) in the market:"
   ]
  },
  {
   "cell_type": "markdown",
   "metadata": {},
   "source": [
    "| Maturity | Price  |\n",
    "|----------| ------ |\n",
    "| 1 month | $99.38 |\n",
    "|----------| ------ |\n",
    "|2 months|$98.76|\n",
    "|3 months|$98.15|\n",
    "|4 months|$97.54|\n",
    "|5 months|$96.94|\n",
    "|6 months|$96.34|\n",
    "|7 months|$95.74|\n",
    "|8 months|$95.16|\n",
    "|9 months|$94.57|\n",
    "|10 months|$93.99|\n",
    "|11 months|$93.42|\n",
    "|12 months|$92.85|"
   ]
  },
  {
   "cell_type": "markdown",
   "metadata": {},
   "source": [
    "You are required to use a LIBOR forward rate model to simulate interest rates. The initial values for the LIBOR forward rates need to be calibrated to the market forward rates which can be deduced through the market zero-coupon bond prices given above. This continuously compounded interest rate for $ ... $ at time $ $, is given by the solution to:\n",
    "\n",
    "$$ ... $$\n",
    "\n",
    "Where $ ... $ is the LIBOR forward rate which applies from $ $ to $ $ at time $ $. Note that these LIBOR rates are updated as you run through the simulation, and so your continuously compounded rates should be as well.\n",
    "\n",
    "For this submission, complete the following tasks:\n",
    "\n",
    "1. Using a sample size of 100000, jointly simulate LIBOR forward rates, stock paths, and counterparty firm values. You should simulate the values monthly, and should have LIBOR forward rates applying over one month, starting one month apart, up to maturity. You may assume that the counterparty firm and stock values are uncorrelated with LIBOR forward rates.\n",
    "\n",
    "2. Calculate the one-year discount factor which applies for each simulation, and use this to find first the value of the option for the jointly simulated stock and firm paths with no default risk, and then the value of the option with counterparty default risk (Hint: you may want to use the reshape and ravel attributes of numpy arrays to ensure your dimensions match correctly."
   ]
  },
  {
   "cell_type": "code",
   "execution_count": 2,
   "metadata": {},
   "outputs": [],
   "source": [
    "# European (up-and-out) Option Pricer\n",
    "#sdasdsa\n",
    "# import library\n",
    "import pandas as pd\n",
    "import numpy as np\n",
    "import scipy.optimize\n",
    "from scipy.stats import uniform, norm\n",
    "from matplotlib import pyplot as plt\n",
    "from scipy import log, exp, sqrt, stats\n",
    "from random import gauss\n",
    "\n",
    "%matplotlib inline"
   ]
  },
  {
   "cell_type": "code",
   "execution_count": 3,
   "metadata": {},
   "outputs": [],
   "source": [
    "np.random.seed(0)\n",
    "\n",
    "# Main program\n",
    "\n",
    "# Option parameters:\n",
    "\n",
    "S = 100.0   # Initial asset price\n",
    "sigma = 0.3     # Initial volatility\n",
    "r = 0.08    # 10 year risk free rate\n",
    "T = 1.0     # Years until maturity\n",
    "K = 100.0   # Strike price\n",
    "B = 150.0   # Barrier price\n",
    "N = 12      # Number of discrete time points (by months)\n",
    "\n",
    "# delta T\n",
    "delta_t = T/N\n",
    "\n",
    "# counterparty firm parameters\n",
    "Sf = 200    # Initial asset price\n",
    "vf = 0.3    # Initial volatility\n",
    "D = 175.0   # Debt\n",
    "c = 0.2     # Correlation\n",
    "rr = 0.25   # Recovery rate"
   ]
  },
  {
   "cell_type": "code",
   "execution_count": 5,
   "metadata": {},
   "outputs": [
    {
     "name": "stdout",
     "output_type": "stream",
     "text": [
      "Analytical price 15.711312547892973\n"
     ]
    }
   ],
   "source": [
    "# Analytical price\n",
    "def analytical_price(S, K, r, v, T):\n",
    "    d1 = (np.log(S/K)+(r+sigma**2/2)*T)/(sigma*np.sqrt(T))\n",
    "    d2 = d1 - sigma*np.sqrt(T)\n",
    "    result = S * stats.norm.cdf(d1) - K * exp(-r*T)*stats.norm.cdf(d2)\n",
    "    return result\n",
    "\n",
    "# create European up-and-out option object\n",
    "print(\"Analytical price\", analytical_price(S, K, r, sigma, T))\n",
    "\n",
    "#actual zero-coupon bond prices & matirities\n",
    "bond_prices = np.array([100,99.38,98.76,98.15,97.54,96.94,96.34,95.74,95.16,\n",
    "                       94.57,93.99,93.42,92.85])/100\n",
    "\n",
    "maturity = np.array([delta_t * n for n in range(N+1)])\n",
    "\n",
    "# Analytical bond price Close form solution using Vasicek model\n",
    "def A(t1,t2,alpha):\n",
    "    return (1-np.exp(-alpha*(t2-t1)))/alpha\n",
    "\n",
    "def D(t1,t2,alpha,b,sigma):\n",
    "    val1 = (t2-t1-A(t1,t2,alpha))*(sigma**2/(2*alpha**2)-b)\n",
    "    val2 = sigma**2*A(t1,t2,alpha)**2/(4*alpha)\n",
    "    return val1 - val2\n",
    "\n",
    "def bond_price_fun(r,t,T,alpha,b,sigma):\n",
    "    return np.exp(-A(t,T,alpha)*r + D(t,T,alpha,b,sigma))\n",
    "\n",
    "def F(x):\n",
    "    r0 = x[0]\n",
    "    alpha = x[1]\n",
    "    beta = x[2]\n",
    "    sigma = x[3]\n",
    "    return np.sum(np.abs(bond_price_fun(r0,0,maturity,alpha,beta,sigma) - bond_prices))"
   ]
  },
  {
   "cell_type": "code",
   "execution_count": 24,
   "metadata": {},
   "outputs": [
    {
     "name": "stdout",
     "output_type": "stream",
     "text": [
      "Optimization terminated successfully.    (Exit mode 0)\n",
      "            Current function value: 0.00024392808338791205\n",
      "            Iterations: 11\n",
      "            Function evaluations: 86\n",
      "            Gradient evaluations: 11\n",
      "[0.07490757 0.27904649 0.0706511  0.03641499]\n",
      "\n",
      "Calibrated values:\n",
      "Interest rate = 0.07490757124147085\n",
      "Alpha = 0.07490757124147085\n",
      "Beta = 0.0706510993976806\n",
      "Volatility = 0.036414989246982624\n"
     ]
    },
    {
     "data": {
      "image/png": "[encoded data removed]",
      "text/plain": [
       "<Figure size 432x288 with 1 Axes>"
      ]
     },
     "metadata": {
      "needs_background": "light"
     },
     "output_type": "display_data"
    }
   ],
   "source": [
    "# Minimizing F\n",
    "bnds = ((0,0.2),(0,2),(0,0.5),(0,0.2))\n",
    "opt_val = scipy.optimize.fmin_slsqp(F,(0.05,0.3,0.05,0.03),bounds=bnds)\n",
    "\n",
    "print(opt_val)\n",
    "\n",
    "opt_r = opt_val[0]\n",
    "opt_alpha = opt_val[0]\n",
    "opt_beta = opt_val[2]\n",
    "opt_sigma = opt_val[3]\n",
    "\n",
    "# Calculating model prices and yield\n",
    "model_prices = bond_price_fun(opt_r,0,maturity,opt_alpha,opt_beta,opt_sigma)\n",
    "\n",
    "# print the results\n",
    "print('\\nCalibrated values:')\n",
    "print('Interest rate = {}'.format(opt_r))\n",
    "print('Alpha = {}'.format(opt_alpha))\n",
    "print('Beta = {}'.format(opt_beta))\n",
    "print('Volatility = {}'.format(opt_sigma))\n",
    "\n",
    "# Ploting result\n",
    "plt.xlabel(\"Maturity\")\n",
    "plt.ylabel(\"Bond Price\")\n",
    "plt.plot(maturity, bond_prices, label = 'Actual Bond Prices')\n",
    "plt.plot(maturity, model_prices, 'o', label = 'Analytical Vasicek Bond Prices')\n",
    "plt.legend()\n",
    "plt.show()"
   ]
  },
  {
   "cell_type": "code",
   "execution_count": 25,
   "metadata": {},
   "outputs": [],
   "source": [
    "# Applying the algorithms\n",
    "n_simulation = 100000\n",
    "# Replace the t time step to N, which is from the lecture note\n",
    "# t = N\n",
    "\n",
    "# Different from the lecture, we won't use Explcit Monte Carlo simulation here\n",
    "\n",
    "predcorr_forward = np.ones([n_simulation,N])*(model_prices[:-1]-model_prices[1:])/(delta_t*model_prices[1:])\n",
    "predcorr_capfac = np.ones([n_simulation, N+1])\n",
    "\n",
    "delta = np.ones([n_simulation, N])*delta_t"
   ]
  },
  {
   "cell_type": "code",
   "execution_count": 26,
   "metadata": {},
   "outputs": [
    {
     "name": "stderr",
     "output_type": "stream",
     "text": [
      "/home/haininhhoang94/anaconda3/envs/pyds/lib/python3.7/site-packages/ipykernel_launcher.py:7: ComplexWarning: Casting complex values to real discards the imaginary part\n",
      "  import sys\n"
     ]
    },
    {
     "data": {
      "text/plain": [
       "[]"
      ]
     },
     "execution_count": 26,
     "metadata": {},
     "output_type": "execute_result"
    },
    {
     "data": {
      "image/png": "[encoded data removed]",
      "text/plain": [
       "<Figure size 432x288 with 1 Axes>"
      ]
     },
     "metadata": {
      "needs_background": "light"
     },
     "output_type": "display_data"
    }
   ],
   "source": [
    "for i in range(1,N):\n",
    "    Z = sigma*sqrt(delta[:,i:]*norm.rvs(size = [n_simulation,1]))\n",
    "\n",
    "    mu_initial = np.cumsum(delta[:,i:]*predcorr_forward[:,i:]*sigma**2/(1+delta[:,i:]*predcorr_forward[:,i:]), axis = 1)\n",
    "    for_temp = predcorr_forward[:,i:]*exp((mu_initial-sigma**2/2)*delta[:,i:]+Z)\n",
    "    mu_term = np.cumsum(delta[:,i:]*for_temp*sigma**2/(1+delta[:,i:]*for_temp), axis = 1)\n",
    "    predcorr_forward[:,i:] = predcorr_forward[:,i:]*exp((mu_initial + mu_term - sigma**2)*delta[:,i:]/2+Z)\n",
    "\n",
    "# Implying capitalisation factors from the forward rates\n",
    "predcorr_capfac[:,1:] = np.cumprod(1+delta*predcorr_forward,axis = 1)\n",
    "\n",
    "# Inverting the capitalisation factors to imply bond prices (discount factors)\n",
    "predcorr_price = predcorr_capfac**(-1)\n",
    "\n",
    "# taking averages: Forward Rate, Bond Price, Capitalization Factors\n",
    "\n",
    "#mean Forward Rate\n",
    "forward_rate = np.mean(predcorr_forward, axis = 0)\n",
    "\n",
    "#mean Price\n",
    "predcorr_price = np.mean(predcorr_price, axis = 0)\n",
    "\n",
    "# mean Capitalization Factors\n",
    "capfac = np.mean(predcorr_capfac, axis = 0)\n",
    "\n",
    "# Plot results\n",
    "plt.xlabel('Maturity')\n",
    "plt.ylabel('Bond Price')\n",
    "plt.plot(maturity, bond_prices, label = 'Acutal Bond Prices')\n",
    "plt.plot(maturity, model_prices, 'o', label = \"Analytical Vasicek Bond Prices\")\n",
    "plt.plot(maturity, predcorr_price, 'x', label = \"Predictor-Corrector Bond Prices\")\n",
    "plt.legend()\n",
    "plt.plot()"
   ]
  },
  {
   "cell_type": "markdown",
   "metadata": {},
   "source": [
    "# Problem 2"
   ]
  },
  {
   "cell_type": "code",
   "execution_count": null,
   "metadata": {},
   "outputs": [],
   "source": []
  }
 ],
 "metadata": {
  "kernelspec": {
   "display_name": "Python 3",
   "language": "python",
   "name": "python3"
  },
  "language_info": {
   "codemirror_mode": {
    "name": "ipython",
    "version": 3
   },
   "file_extension": ".py",
   "mimetype": "text/x-python",
   "name": "python",
   "nbconvert_exporter": "python",
   "pygments_lexer": "ipython3",
   "version": "3.7.5"
  }
 },
 "nbformat": 4,
 "nbformat_minor": 4
}
