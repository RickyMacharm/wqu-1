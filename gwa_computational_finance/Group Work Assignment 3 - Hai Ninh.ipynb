{
 "cells": [
  {
   "cell_type": "markdown",
   "metadata": {},
   "source": [
    "# Submission 3: Simulation Asset Price Evolutions and Reprice Risky up-and-out Call Option\n",
    "\n",
    "The goal of Submission 3 is to reprice the risky up-and-out call option from Submission 1, but now implementing a non-constant interest rate and local volatility. With the exception of the interest rates and volatilities, you make make the same assumptions as in Submission 1:\n",
    "\n",
    "- Option maturnity is one year\n",
    "- The option is struck at-the-money\n",
    "- The ip-and-out barrier for the option is $150\n",
    "- The current share price is $100\n",
    "- The current firm value for the counterpartyis $200\n",
    "- The counterparty's deb, due in one year, is $175\n",
    "- The correlation between the counterparty and the stock is constant at 0.2\n",
    "- The recovery rate with the counterparty is 25%\n",
    "\n",
    "The local volatility functions for both the stock and the counterparty have the same form as in part 2, namely ... . For the stock ..., and for the counterparty, ..., where ...\n",
    "\n",
    "We can simulation the next step in a share price path using the following formula:\n",
    "()\n",
    "\n",
    "where Sti is the share price at time ..., ... is the volatility for the period ..., ... is the risk-free interest rate, and $ ... $. The counterparty firm values can be simulated similarly.\n",
    "\n",
    "You observe the following zero-coupon bond prices (per $ 100$ nominal) in the market:"
   ]
  },
  {
   "cell_type": "markdown",
   "metadata": {
    "jupyter": {
     "source_hidden": true
    }
   },
   "source": [
    "| Maturity | Price  |\n",
    "|----------| ------ |\n",
    "| 1 month | $99.38 |\n",
    "|----------| ------ |\n",
    "|2 months|$98.76|\n",
    "|3 months|$98.15|\n",
    "|4 months|$97.54|\n",
    "|5 months|$96.94|\n",
    "|6 months|$96.34|\n",
    "|7 months|$95.74|\n",
    "|8 months|$95.16|\n",
    "|9 months|$94.57|\n",
    "|10 months|$93.99|\n",
    "|11 months|$93.42|\n",
    "|12 months|$92.85|"
   ]
  },
  {
   "cell_type": "markdown",
   "metadata": {},
   "source": [
    "You are required to use a LIBOR forward rate model to simulate interest rates. The initial values for the LIBOR forward rates need to be calibrated to the market forward rates which can be deduced through the market zero-coupon bond prices given above. This continuously compounded interest rate for $ ... $ at time $ $, is given by the solution to:\n",
    "\n",
    "$$ ... $$\n",
    "\n",
    "Where $ ... $ is the LIBOR forward rate which applies from $ $ to $ $ at time $ $. Note that these LIBOR rates are updated as you run through the simulation, and so your continuously compounded rates should be as well.\n",
    "\n",
    "For this submission, complete the following tasks:\n",
    "\n",
    "1. Using a sample size of 100000, jointly simulate LIBOR forward rates, stock paths, and counterparty firm values. You should simulate the values monthly, and should have LIBOR forward rates applying over one month, starting one month apart, up to maturity. You may assume that the counterparty firm and stock values are uncorrelated with LIBOR forward rates.\n",
    "\n",
    "2. Calculate the one-year discount factor which applies for each simulation, and use this to find first the value of the option for the jointly simulated stock and firm paths with no default risk, and then the value of the option with counterparty default risk (Hint: you may want to use the reshape and ravel attributes of numpy arrays to ensure your dimensions match correctly."
   ]
  },
  {
   "cell_type": "code",
   "execution_count": null,
   "metadata": {},
   "outputs": [],
   "source": [
    "\n"
   ]
  },
  {
   "cell_type": "markdown",
   "metadata": {},
   "source": []
  },
  {
   "cell_type": "code",
   "execution_count": null,
   "metadata": {},
   "outputs": [],
   "source": []
  }
 ],
 "metadata": {
  "kernelspec": {
   "display_name": "Python 3",
   "language": "python",
   "name": "python3"
  },
  "language_info": {
   "codemirror_mode": {
    "name": "ipython",
    "version": 3
   },
   "file_extension": ".py",
   "mimetype": "text/x-python",
   "name": "python",
   "nbconvert_exporter": "python",
   "pygments_lexer": "ipython3",
   "version": "3.7.6"
  }
 },
 "nbformat": 4,
 "nbformat_minor": 4
}
