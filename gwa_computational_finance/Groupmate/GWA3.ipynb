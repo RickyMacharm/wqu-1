{
 "cells": [
  {
   "cell_type": "code",
   "execution_count": 1,
   "metadata": {},
   "outputs": [],
   "source": [
    "import numpy as np\n",
    "from scipy.stats import norm\n",
    "import scipy.optimize as opt\n",
    "import random\n",
    "import matplotlib.pyplot as plt\n",
    "\n",
    "T = 1.0\n",
    "dT = T/12.0  # monthly simulation\n",
    "\n",
    "# barrier\n",
    "L = 150.0\n",
    "\n",
    "# firm related\n",
    "V0 = 200.0    # arbitrarily selectd\n",
    "Debt = 175.0     # debt\n",
    "recover = 0.25     # recovery rate\n",
    "S0 = 100.0    # current share price\n",
    "sigma_stock = 0.3     \n",
    "sigma_firm = 0.3    \n",
    "gamma = 0.75\n",
    "corr = 0.2    # correlation between share value and firm value\n",
    "\n",
    "# strike\n",
    "K = S0      # at-the-money option\n",
    "\n",
    "# Zero-coupon Bond\n",
    "zcb_prices = np.array([99.38, 98.76, 98.15, 97.54, 96.94, 96.34, \\\n",
    "                       95.74, 95.16, 94.57, 93.99, 93.42, 92.85])\n",
    "bond_face = 100.0\n"
   ]
  },
  {
   "cell_type": "markdown",
   "metadata": {},
   "source": [
    "#### Calibrate initial forward rate"
   ]
  },
  {
   "cell_type": "code",
   "execution_count": 2,
   "metadata": {},
   "outputs": [
    {
     "name": "stdout",
     "output_type": "stream",
     "text": [
      "Optimization terminated successfully.    (Exit mode 0)\n",
      "            Current function value: 0.022545188277547368\n",
      "            Iterations: 28\n",
      "            Function evaluations: 202\n",
      "            Gradient evaluations: 28\n"
     ]
    }
   ],
   "source": [
    "# calibrating with Vasicek model\n",
    "months = np.linspace(1, 12.0, 12)*dT\n",
    "bnds = ((0, 1.0), (0, 3), (0, 1.0), (0, 3))\n",
    "\n",
    "def A(t1, t2, alpha):\n",
    "    return (1-np.exp(-alpha*(t2-t1)))/alpha\n",
    "\n",
    "def D(t1, t2, alpha, b, sigma):\n",
    "    val1 = (t2-t1-A(t1, t2, alpha))*(sigma**2/(2*alpha**2)-b)\n",
    "    val2 = sigma**2*A(t1, t2, alpha)**2/(4*alpha)\n",
    "    return val1-val2\n",
    "\n",
    "def bond_price_Vasi(r0, t, T, alpha, b, sigma):\n",
    "    return np.exp(-A(t, T, alpha)*r0+D(t, T, alpha, b, sigma))\n",
    "\n",
    "def F(x):\n",
    "    r0 = x[0]\n",
    "    alpha = x[1]\n",
    "    b = x[2]\n",
    "    sigma = x[3]\n",
    "    return np.sum(np.abs(bond_price_Vasi(r0,0,months,alpha,b,sigma)*bond_face-zcb_prices))\n",
    "\n",
    "# r0: initial forward rate\n",
    "# r_alpha : mean reversion rate\n",
    "# r_b:  long run mean forward rate\n",
    "# r_sigma: volatility of forward rate\n",
    "r0, r_alpha, r_b, r_sigma = opt.fmin_slsqp(F, (0.05, 0.3, 0.05, 0.3), bounds=bnds)\n"
   ]
  },
  {
   "cell_type": "code",
   "execution_count": 3,
   "metadata": {},
   "outputs": [
    {
     "name": "stdout",
     "output_type": "stream",
     "text": [
      "Calibrated initial forward rate is        0.07455670695423125\n",
      "Calibrated mean reversion rate is         0.9150133506353277\n",
      "Calibrated long run mean forward rate is  0.07697098184090224\n",
      "Calibrated volatility of forward rate is  0.11656429817617553\n"
     ]
    }
   ],
   "source": [
    "print(\"Calibrated initial forward rate is       \", r0)\n",
    "print(\"Calibrated mean reversion rate is        \", r_alpha)\n",
    "print(\"Calibrated long run mean forward rate is \", r_b)\n",
    "print(\"Calibrated volatility of forward rate is \", r_sigma)"
   ]
  },
  {
   "cell_type": "markdown",
   "metadata": {},
   "source": [
    "#### Monte Carlo simulation\n",
    "Stock price and firm value are recursively calculated by\n",
    "$$ S_{t_{i+1}}=S_{t_i}e^{(r_{t_i}-\\frac{\\sigma^2(S_{t_i})^{2\\gamma-2}}{2})\\Delta t+\\sigma (S_{t_i})^{\\gamma-1}\\sqrt{\\Delta t}Z} $$"
   ]
  },
  {
   "cell_type": "code",
   "execution_count": 4,
   "metadata": {},
   "outputs": [],
   "source": [
    "# calculate price at next time point\n",
    "def next_price(dt, p0, sigma, r, Z):\n",
    "    '''Generate N price path upto time t.\n",
    "        dt :     time step\n",
    "        p0 :    starting price\n",
    "        sigma : volatility\n",
    "        r :     forward rate\n",
    "        Z :     normal random numbers\n",
    "    '''\n",
    "    vol = sigma*p0**(gamma-1)\n",
    "    power = (r-vol**2/2)*dt+vol*np.sqrt(dt)*Z\n",
    "    return p0*np.exp(power)\n"
   ]
  },
  {
   "cell_type": "code",
   "execution_count": 5,
   "metadata": {},
   "outputs": [],
   "source": [
    "# Monte Carlo simulation\n",
    "\n",
    "# First initialize data structure\n",
    "np.random.seed(0)\n",
    "n_spl = 100000\n",
    "LIBOR_frate = np.array([[r0]*13]*n_spl)\n",
    "stock_price = np.array([[S0]*13]*n_spl)\n",
    "firm_value  = np.array([[V0]*13]*n_spl)\n",
    "\n",
    "# simulation time points\n",
    "t  = np.linspace(0, 1, 13)   # monthly simulation\n",
    "dt = np.ones([n_spl, 12])*(t[1:]-t[:-1])\n",
    "\n",
    "# generate random normal numbers, note Z_stock and Z_firm are correlated\n",
    "Z_LIBOR = norm.rvs(size=[n_spl, 12])\n",
    "Z_stock = norm.rvs(size=[n_spl, 12])\n",
    "Z_firm  = corr*Z_stock + np.sqrt(1-corr**2)*norm.rvs(size=[n_spl, 12])\n",
    "\n",
    "# iteratively simulate price path and LIBOR forward rate\n",
    "for i in range(int(T/dT)):\n",
    "    # first determine LIBOR rate\n",
    "    mu_hat = np.cumsum(dt[:,i:]*LIBOR_frate[:,i+1:]*r_sigma**2/(1+dt[:,i:]*LIBOR_frate[:,i+1:]), axis = 1)\n",
    "    LIBOR_frate[:,i+1:] = LIBOR_frate[:,i+1:]* \\\n",
    "                         np.exp((mu_hat-r_sigma**2/2)*dT+r_sigma*np.sqrt(dT)*Z_LIBOR[:,i:])\n",
    "    # convert LIBOR rate to continuously compounded rate\n",
    "    compound_rate = np.log(LIBOR_frate[:,i+1]*dt[:,i]+1)\n",
    "    # calculate stock price next month\n",
    "    stock_price[:,i+1] = next_price(dT, stock_price[:,i], sigma_stock, compound_rate, Z_stock[:,i])\n",
    "    # firm value next month\n",
    "    firm_value[:,i+1]  = next_price(dT, firm_value[:,i], sigma_firm, compound_rate, Z_firm[:,i])\n",
    "    "
   ]
  },
  {
   "cell_type": "markdown",
   "metadata": {},
   "source": [
    "#### Discount Factor"
   ]
  },
  {
   "cell_type": "code",
   "execution_count": 6,
   "metadata": {},
   "outputs": [],
   "source": [
    "discount_factor = np.mean(1.0/np.cumprod(1+dt*LIBOR_frate[:,1:], axis =1), axis=0)"
   ]
  },
  {
   "cell_type": "code",
   "execution_count": 7,
   "metadata": {},
   "outputs": [
    {
     "data": {
      "image/png": "[encoded data removed]",
      "text/plain": [
       "<Figure size 432x288 with 1 Axes>"
      ]
     },
     "metadata": {
      "needs_background": "light"
     },
     "output_type": "display_data"
    }
   ],
   "source": [
    "plt.plot(t[1:], discount_factor, 'x', label='Discount')\n",
    "plt.legend()\n",
    "plt.show()"
   ]
  },
  {
   "cell_type": "markdown",
   "metadata": {},
   "source": [
    "#### Up-and-Out Call option price"
   ]
  },
  {
   "cell_type": "code",
   "execution_count": 8,
   "metadata": {},
   "outputs": [],
   "source": [
    "# define the payoff of call option\n",
    "def payoff(price, K, L):\n",
    "    if price.any() >= L:\n",
    "        return 0\n",
    "    else:\n",
    "        return np.maximum(price[-1]-K, 0)\n",
    "\n",
    "# calculate payoff for all price path\n",
    "def payoff_without_risk_adj(price_paths, K, L):\n",
    "    \"\"\"Calculating the payoff of up-and-out call option given a share price path, barrier L and strike K.\"\"\"\n",
    "    return np.array([payoff(path, K, L) for path in price_paths])\n",
    "\n",
    "# calculate the amount lost due to default risk, on each path\n",
    "def amount_lost(share_path, firm_value, K, L, debt):\n",
    "    payoff_on_path = payoff_without_risk_adj(share_path, K, L)\n",
    "    return np.array([discount_factor[-1]*(1-recover)*(term_firm_val<debt)*call_val \\\n",
    "                     for term_firm_val, call_val in \\\n",
    "                     zip(firm_value[:,-1], payoff_on_path )])\n",
    "    "
   ]
  },
  {
   "cell_type": "code",
   "execution_count": 9,
   "metadata": {},
   "outputs": [],
   "source": [
    "call_ignore_default_risk = np.mean(payoff_without_risk_adj(stock_price, K, L))\n",
    "call_with_default_risk = call_ignore_default_risk - np.mean(amount_lost(stock_price, firm_value, K, L, Debt))"
   ]
  },
  {
   "cell_type": "code",
   "execution_count": 10,
   "metadata": {},
   "outputs": [
    {
     "name": "stdout",
     "output_type": "stream",
     "text": [
      "The price for Up-and-Out call option :\n",
      "    Ignoring default risk     4.113262043496624\n",
      "    Considerting default risk 4.0434272909262114\n"
     ]
    }
   ],
   "source": [
    "print(\"The price for Up-and-Out call option :\")\n",
    "print(\"    Ignoring default risk    \", call_ignore_default_risk)\n",
    "print(\"    Considerting default risk\", call_with_default_risk)"
   ]
  },
  {
   "cell_type": "code",
   "execution_count": null,
   "metadata": {},
   "outputs": [],
   "source": []
  }
 ],
 "metadata": {
  "kernelspec": {
   "display_name": "Python 3",
   "language": "python",
   "name": "python3"
  },
  "language_info": {
   "codemirror_mode": {
    "name": "ipython",
    "version": 3
   },
   "file_extension": ".py",
   "mimetype": "text/x-python",
   "name": "python",
   "nbconvert_exporter": "python",
   "pygments_lexer": "ipython3",
   "version": "3.7.6"
  }
 },
 "nbformat": 4,
 "nbformat_minor": 2
}
