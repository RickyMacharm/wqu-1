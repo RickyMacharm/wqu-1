{
 "cells": [
  {
   "cell_type": "markdown",
   "metadata": {},
   "source": [
    "# Monte Carlo Methods for Risk Management\n",
    "---\n",
    "\n",
    "Module 3 introduces two ways of accounting for risk in financial transactions: Value at Risk (VaR) and Credit Valuation Adjustment (CVA). The module begins by defining VaR and discusses how to calculate it using Monte-Carlo Methods. Examples of how to implement Monte Carlo Methods in Python for VaR simulation are provided. The module concludes by defining CVA and explaining how it can be calculated using the Black-Scholes model by Merton.."
   ]
  },
  {
   "cell_type": "markdown",
   "metadata": {},
   "source": [
    "## 1.0 Value at Risk\n",
    "---\n",
    "\n",
    "**Introduction**\n",
    "\n",
    "Risk is everywhere and, if you let it, has the potential to destroy a business. This is particularly the case in the financial sector where markets can move in unpredictable and unexpected ways. So, being able to manage risk is a very important skill for any individual in business, and even more so in the financial sector.\n",
    "\n",
    "However, managing risk is more than sitting in a room and brainstorming what can go wrong. In order to truly manage it, we need techniques which allow us to introduce a degree of objectivity and consistency when identifying and quantifying the risk that the business or a project faces. The aim of this module will be to expose you to two popular methods for quantifying risk: Value at Risk (VaR) and Credit Valuation Adjustment (CVA).\n"
   ]
  },
  {
   "cell_type": "markdown",
   "metadata": {},
   "source": [
    "**Risk Metrics**\n",
    "\n",
    "A technique for quantifying the risk in a portfolio is known as a risk metric. This gives us a way of numerically describing the amount of uncertainty in that portfolio. Note that we will be talking about portfolios throughout this unit. A portfolio is just a group of assets.\n",
    "\n",
    "A few examples of potential risk metrics include volatility (or variance) and correlation. These give an idea of the extent to which your portfolio's value could decrease, and how susceptible it is to massive swings in value. However, in order for them to fully characterize the risk inherent in the portfolio, you would need the distribution of returns to be multivariate normal, which is very unlikely. Thus, we would need to use a more general metric: Value at Risk."
   ]
  },
  {
   "cell_type": "markdown",
   "metadata": {},
   "source": [
    "### 1.0.1 Value at Risk (rename)\n",
    "---\n",
    "\n",
    "Value at Risk gives an indication of how much you stand to lose on a portfolio with a given probability, over a specific time period. This can be measured in absolute terms (we could lose $100 in portfolio value) or in relative terms (the value of our portfolio will decrease by 5%). Because of the possible usefulness of both measures, we will present both potential definitions (although they are linked regardless).\n",
    "\n",
    "Now, let our current portfolio value be X(t). We can then define the return on our portfolio, until some fixed time T, as:\n",
    "\n",
    "$$ R_{t,T} = \\frac{X(T-t) - X(t)}{X(t)}$$\n",
    "\n",
    "Note that the $\\alpha$-quantile of a distribution, $x_\\alpha$(t, T), is defined as:\n",
    "\n",
    "$$ \\mathbb{P}[R_{t,T} < x_\\alpha(t,T) = \\alpha$$\n",
    "\n",
    "Thus, we can define VaR as being:\n",
    "\n",
    "$$ VaR_\\alpha(t,T) = $$\n",
    "\n",
    "We can interpret VaR as being a quantile value: what values does the portfolio take on in the worst 5% of cases? We can also interpret this in terms of confidence intervals. We are\n",
    "(1 - $\\alpha$)-percent certain that the value of the portfolio will not fall below $VaR_\\alpha(t, T)$.\n",
    "\n",
    "Note that the definition of VaR is the negative of the quantile; this is an aesthetic definition so that the actual VaR value is positive.\n",
    "\n",
    "For example, suppose we have a portfolio that is worth 100. Say we know that there is a 5% chance that the portfolio will have a value of 20 or less. Then the 5% VaR for the portfolio is 80, or 80%. We are 95% confident that the value of our portfolio will not fall by more than 80.\n",
    "\n",
    "Note that there is a different VaR for different significance levels, and different time periods. It is very important to note that VaR changes when we change these quantities.\n",
    "\n"
   ]
  },
  {
   "cell_type": "markdown",
   "metadata": {},
   "source": [
    "### 1.0.2 Expected Shortfall\n",
    "---\n",
    "\n",
    "Other names for this include conditional VaR or expected tail loss. Expected shortfall tells us how much we stand to lose assuming that our portfolio value does actually fall below our VaR. Put more simply, it is how much we stand to lose, on average, if we only consider the worst $\\alpha$-percentile of cases\n",
    "\n",
    "Conditional VaR is calculated as:\n",
    "\n",
    "$$ EL_\\alpha (t,T) = -\\mathbb{E}[R_{t,T}|R_{t,T} < - VaR_\\alpha (t,T)] \\cdot X(t) $$\n",
    "\n",
    "which is the negative of our expected return, given the expected return is less than the VaR, multiplied by the portfolio value. Note that this means that we are dealing with absolute terms, and not relative terms. We are, again, taking the negative for aesthetic reasons (and other sources may define the expected shortfall without the negative).\n",
    "\n",
    "Another important note here is that, because we are looking at $R_{t,T}$ (the return of the distribution), the VaR value must also be in terms of the portfolio returns, and not the portfolio value."
   ]
  },
  {
   "cell_type": "markdown",
   "metadata": {},
   "source": [
    "## 1.1.0 Calculating VaR\n",
    "---\n",
    "Now that we know what VaR is, we will focus on how to actually calculate VaR. There are many ways to model VaR, so the methods we will present are not an exhaustive list. We will be focusing on the Monte Carlo class of VaR models and historical VaR simulation."
   ]
  },
  {
   "cell_type": "markdown",
   "metadata": {},
   "source": [
    "### 1.1.1 Monte Carlo VaR models\n",
    "---\n",
    "\n",
    "Monte Carlo VaR models make use of Monte Carlo methods to project asset values, in order to get some idea of what happens to your portfolio value in the future. In doing so, you will be able to build a distribution for your portfolio value. You can then use this distribution to estimate the α-percentile of the portfolio, and to estimate a VaR.\n",
    "\n",
    "More explicitly, Monte Carlo VaR models work as follows:\n",
    "\n",
    "- Determine dynamics for the assets in your portfolio.\n",
    "- Use Monte Carlo simulation to simulate the value of these assets n-days into the future.\n",
    "- Determine your portfolio value in each scenario.\n",
    "- Determine the $\\alpha$-quantile of these projected portfolio values."
   ]
  },
  {
   "cell_type": "markdown",
   "metadata": {},
   "source": [
    "### 1.1.2 Historical VaR models\n",
    "---\n",
    "One of the other popular methods to estimate VaR is historical simulation. This simulation process makes no parametric assumptions, and instead entirely uses data to project what may happen. For example, suppose we have three days worth of share data.\n",
    "We can work out two days worth of returns for that share. If we then sample from these two returns, we can then project the value of our share one day into the future. In doing so, we are assuming that the company will be subject to similar conditions as it was in the past, so the past returns will be reflective of future returns. If we were to repeat this process several times (using significantly more data), we could apply a similar process as with Monte Carlo\n",
    "\n",
    "VaR models in order to estimate VaR. Historical simulation works as follows:\n",
    "\n",
    "- Source price data for the assets in the portfolio.\n",
    "- Calculate the daily returns for all assets in the portfolio.\n",
    "- Randomly sample n many log-returns and use these to grow the respective asset. values in the portfolio n-days into the future.\n",
    "- Determine your portfolio value in each scenario.\n",
    "- Determine the $\\alpha$-quantile of these projected portfolio values."
   ]
  },
  {
   "cell_type": "markdown",
   "metadata": {},
   "source": [
    "**Which method is better?**\n",
    "\n",
    "Each method comes with its own pros and cons. The historical method doesn't require any parametric assumptions regarding the returns of your assets; however, it does need a considerable amount of data to be applied. This may force you to use data from further into the past than you would be comfortable (arguably the most recent data would be a better reflection of the future asset performance). In fact, many regulators require that the data used for historical VaR calculations include periods of 'stress'. Thus, the firm may be forced to include data from high stress periods if the most recent data doesn't meet regulatory standards. This implies that the process of selecting appropriate data can be particularly difficult. Monte Carlo methods don't fall prey to this data history issue once you have calibrated your return model; but a model needs to be implied which immediately introduces model risk into your VaR estimate.\n",
    "\n",
    "Historical simulation focuses on assessing what has happened in the past in order to determine the risk we face in the future. Monte Carlo simulation tries to find a balance between what has happened in the past, and what could potentially happen in the future. It makes use of models which can allow for events which haven't explicitly occurred before, and it also uses historical data to calibrate its model parameters, which allows for it to incorporate what has happened in the past into its estimates.\n",
    "\n",
    "As is often the case, the best method would be problem specific. In fact, there will likely be legislature which requires a particular method for assessing VaR.\n",
    "\n",
    "**Conditional tail VaR**\n",
    "\n",
    "In the process of calculating VaR (in terms of the methods given in these notes), you will imply a distribution of portfolio values.\n",
    "In order to determine Conditional Tail VaR, given that you have already determined the VaR, you would just need to work out the average value of the portfolio values which are less the VaR value."
   ]
  },
  {
   "cell_type": "markdown",
   "metadata": {},
   "source": [
    "## 2.0.0 Value at Risk in Python\n",
    "---\n",
    "\n",
    "The code in this unit is particularly dense. I would strongly recommend going through it with Jupyter Notebook open and checking each line as you go along. Being able to visualize the data helps significantly in terms of understanding what the code is trying to achieve.\n",
    "### 2.0.1 Applying Monte Carlo VaR simulation in Python\n",
    "---\n",
    "The goal in this part of the notes will be to develop code for generating Monte Carlo estimates for the VaR.\n",
    "\n",
    "The first thing to do is import all the libraries that we will use for this unit:"
   ]
  },
  {
   "cell_type": "code",
   "execution_count": 1,
   "metadata": {},
   "outputs": [],
   "source": [
    "import math\n",
    "import matplotlib.pyplot as plt\n",
    "import numpy as np\n",
    "import numpy.matlib\n",
    "import random\n",
    "\n",
    "from scipy.stats import norm, uniform"
   ]
  },
  {
   "cell_type": "markdown",
   "metadata": {},
   "source": [
    "Now we need to set up all the relevant share information. These values were chosen just for this example. The code below creates column vectors for the initial share values, and the volatilities for each share. We also have a 3x3 correlation matrix, and a Cholesky decomposition of this matrix (saved as 'L').\n",
    "\n",
    "General share information..."
   ]
  },
  {
   "cell_type": "code",
   "execution_count": 2,
   "metadata": {},
   "outputs": [],
   "source": [
    "S0      = np.array([[100], [95], [50]])\n",
    "sigma   = np.array([[0.15], [0.2], [0.3]])\n",
    "cor_mat = np.array([[1, 0.2, 0.4], [0.2, 1, 0.8], [0.4, 0.8, 1]])\n",
    "\n",
    "L = np.linalg.cholesky(cor_mat)\n",
    "r = 0.1\n",
    "T = 1"
   ]
  },
  {
   "cell_type": "markdown",
   "metadata": {},
   "source": [
    "The output and shape of the S0 array..."
   ]
  },
  {
   "cell_type": "code",
   "execution_count": 3,
   "metadata": {},
   "outputs": [
    {
     "name": "stdout",
     "output_type": "stream",
     "text": [
      "[[100]\n",
      " [ 95]\n",
      " [ 50]]\n",
      "array shape =  (3, 1)\n"
     ]
    }
   ],
   "source": [
    "S0 = np.array([[100], [95], [50]])\n",
    "print(S0)\n",
    "print('array shape = ', S0.shape)"
   ]
  },
  {
   "cell_type": "markdown",
   "metadata": {},
   "source": [
    "The cor_mat array..."
   ]
  },
  {
   "cell_type": "code",
   "execution_count": 4,
   "metadata": {},
   "outputs": [
    {
     "data": {
      "text/plain": [
       "array([[1. , 0.2, 0.4],\n",
       "       [0.2, 1. , 0.8],\n",
       "       [0.4, 0.8, 1. ]])"
      ]
     },
     "execution_count": 4,
     "metadata": {},
     "output_type": "execute_result"
    }
   ],
   "source": [
    "cor_mat"
   ]
  },
  {
   "cell_type": "markdown",
   "metadata": {},
   "source": [
    "and it's shape..."
   ]
  },
  {
   "cell_type": "code",
   "execution_count": 5,
   "metadata": {},
   "outputs": [
    {
     "data": {
      "text/plain": [
       "(3, 3)"
      ]
     },
     "execution_count": 5,
     "metadata": {},
     "output_type": "execute_result"
    }
   ],
   "source": [
    "cor_mat.shape"
   ]
  },
  {
   "cell_type": "markdown",
   "metadata": {},
   "source": [
    "The Cholesky decomposition of this matrix..."
   ]
  },
  {
   "cell_type": "code",
   "execution_count": 6,
   "metadata": {},
   "outputs": [
    {
     "data": {
      "text/plain": [
       "array([[1.        , 0.        , 0.        ],\n",
       "       [0.2       , 0.9797959 , 0.        ],\n",
       "       [0.4       , 0.73484692, 0.54772256]])"
      ]
     },
     "execution_count": 6,
     "metadata": {},
     "output_type": "execute_result"
    }
   ],
   "source": [
    "L = np.linalg.cholesky(cor_mat)\n",
    "L"
   ]
  },
  {
   "cell_type": "markdown",
   "metadata": {},
   "source": [
    "Now we can set up information that is more relevant to our problem. We need to decide on our total number of simulations and the level of confidence for our VaR estimate.\n",
    "\n",
    "Once this is done, we can calculate our initial portfolio value (assuming that we hold one unit of each of the three assets) as the sum of the current asset values.\n"
   ]
  },
  {
   "cell_type": "code",
   "execution_count": 7,
   "metadata": {},
   "outputs": [],
   "source": [
    "np.random.seed(0)\n",
    "t_simulations = 1000\n",
    "alpha = 0.05"
   ]
  },
  {
   "cell_type": "markdown",
   "metadata": {},
   "source": [
    "Current portfolio value..."
   ]
  },
  {
   "cell_type": "code",
   "execution_count": 8,
   "metadata": {},
   "outputs": [
    {
     "data": {
      "text/plain": [
       "245"
      ]
     },
     "execution_count": 8,
     "metadata": {},
     "output_type": "execute_result"
    }
   ],
   "source": [
    "portval_current = np.sum(S0)\n",
    "portval_current"
   ]
  },
  {
   "cell_type": "markdown",
   "metadata": {},
   "source": [
    "We then import our terminal share price function from the previous module..."
   ]
  },
  {
   "cell_type": "code",
   "execution_count": 9,
   "metadata": {
    "code_folding": []
   },
   "outputs": [],
   "source": [
    "def terminal_shareprice(S_0, risk_free_rate, sigma, z, T):\n",
    "    return S_0 * np.exp((risk_free_rate - sigma**2/2) * T + sigma * np.sqrt(T) * z)"
   ]
  },
  {
   "cell_type": "markdown",
   "metadata": {},
   "source": [
    "The next step is to simulate future share values and portfolio values (assuming that we keep our holdings constant). The “Z” variable is a correlated multivariate normal sample."
   ]
  },
  {
   "cell_type": "code",
   "execution_count": 10,
   "metadata": {},
   "outputs": [
    {
     "name": "stdout",
     "output_type": "stream",
     "text": [
      "(3, 1000)\n"
     ]
    },
    {
     "data": {
      "text/plain": [
       "array([[ 1.76405235,  0.40015721,  0.97873798, ...,  0.0941923 ,\n",
       "        -1.14761094, -0.35811408],\n",
       "       [ 0.89754042,  0.95447369, -0.21803474, ...,  0.17407129,\n",
       "        -1.34835251, -1.35610621],\n",
       "       [ 0.27455296, -0.1217901 ,  0.10642766, ...,  0.04871742,\n",
       "        -1.96228935, -1.1507538 ]])"
      ]
     },
     "execution_count": 10,
     "metadata": {},
     "output_type": "execute_result"
    }
   ],
   "source": [
    "Z = np.matmul (L, norm.rvs(size = [3, t_simulations]))\n",
    "print(Z.shape)\n",
    "Z"
   ]
  },
  {
   "cell_type": "code",
   "execution_count": 11,
   "metadata": {},
   "outputs": [
    {
     "data": {
      "text/plain": [
       "(1000,)"
      ]
     },
     "execution_count": 11,
     "metadata": {},
     "output_type": "execute_result"
    }
   ],
   "source": [
    "portval_future = np.sum(terminal_shareprice(S0, r, sigma, Z, T), axis=0)\n",
    "portval_future.shape"
   ]
  },
  {
   "cell_type": "markdown",
   "metadata": {},
   "source": [
    "We can now calculate the expected portfolio returns given our simulations. Before trying to calculate the VaR, it would make things significantly easier to sort this list. Otherwise, we would need to run some form of search algorithm to find the smallest portfolio returns. Lastly, we determine our VaR as the negative of the $\\alpha$-quantile, where our $\\alpha$ is 5%. We use the int function here because, when using matrix indexation, python can only index using integer values. The int function just makes sure that the script doesn't error out."
   ]
  },
  {
   "cell_type": "markdown",
   "metadata": {},
   "source": [
    "Calculating portfolio returns..."
   ]
  },
  {
   "cell_type": "code",
   "execution_count": 12,
   "metadata": {},
   "outputs": [],
   "source": [
    "portreturn = (portval_future - portval_current) / portval_current\n",
    "# portreturn"
   ]
  },
  {
   "cell_type": "markdown",
   "metadata": {},
   "source": [
    "Sorting returns..."
   ]
  },
  {
   "cell_type": "code",
   "execution_count": 13,
   "metadata": {},
   "outputs": [],
   "source": [
    "portreturn = np.sort(portreturn)\n",
    "# portreturn"
   ]
  },
  {
   "cell_type": "markdown",
   "metadata": {},
   "source": [
    "Determining VaR..."
   ]
  },
  {
   "cell_type": "code",
   "execution_count": 14,
   "metadata": {},
   "outputs": [
    {
     "data": {
      "text/plain": [
       "0.14318361044360806"
      ]
     },
     "execution_count": 14,
     "metadata": {},
     "output_type": "execute_result"
    }
   ],
   "source": [
    "mVaR_estimate = -portreturn[int(np.floor(alpha * t_simulations)) - 1]\n",
    "mVaR_estimate"
   ]
  },
  {
   "cell_type": "code",
   "execution_count": 15,
   "metadata": {},
   "outputs": [
    {
     "data": {
      "text/plain": [
       "-0.14318361044360806"
      ]
     },
     "execution_count": 15,
     "metadata": {},
     "output_type": "execute_result"
    }
   ],
   "source": [
    "portreturn[49]"
   ]
  },
  {
   "cell_type": "markdown",
   "metadata": {},
   "source": [
    "**Applying historical simulation to estimate VaR**\n",
    "\n",
    "We now move on to estimating our VaR using historical simulation. \n",
    "\n",
    "Once again, we set up our preliminary information.\n",
    "\n",
    "(code set up like this in notes. It'll break if run now as 'price_path not defined until later on)"
   ]
  },
  {
   "cell_type": "code",
   "execution_count": 16,
   "metadata": {},
   "outputs": [],
   "source": [
    "random.seed(0)\n",
    "\n",
    "t_simulations = 1000\n",
    "alpha = 0.05\n",
    "\n",
    "# hist_S0 = price_path[-1]\n",
    "# hist_portval = np.sum(hist_S0)\n",
    "# hist_portret = [None] * t_simulations"
   ]
  },
  {
   "cell_type": "markdown",
   "metadata": {},
   "source": [
    "At this point, we would source historical share data. However, in this example we will rather generate our own. First, we need a function which produces a share price path. This\n",
    "works in a similar way to our terminal share value function above; the big difference is that it keeps track of the share value on a daily basis. Note the use of the cumsum function within the share_path function.\n",
    "\n",
    "This is a very convenient function which returns the sum of the elements in a matrix at that point in the matrix (so the first element of the resulting matrix will be the same as the original matrix, but the last element in the cumsum matrix will be the sum of the elements up until that point). This allows us to write share prices as being a function of the individual changes up until that point.\n"
   ]
  },
  {
   "cell_type": "markdown",
   "metadata": {},
   "source": [
    "This code generates our price path. The price_path variable can be viewed as a synthetic version of the historical data that we would normally use."
   ]
  },
  {
   "cell_type": "code",
   "execution_count": 17,
   "metadata": {},
   "outputs": [],
   "source": [
    "import math\n",
    "import matplotlib.pyplot as plt\n",
    "import numpy as np\n",
    "import numpy.matlib\n",
    "import random\n",
    "\n",
    "from scipy.stats import norm, uniform"
   ]
  },
  {
   "cell_type": "code",
   "execution_count": 18,
   "metadata": {},
   "outputs": [],
   "source": [
    "S0 = 25\n",
    "sigma = 0.1\n",
    "mu = 0.1\n",
    "T = 1\n",
    "alpha = 0.01\n",
    "\n",
    "np.random.seed(0)\n",
    "dT = 1/365"
   ]
  },
  {
   "cell_type": "code",
   "execution_count": 19,
   "metadata": {},
   "outputs": [],
   "source": [
    "def share_path(S_0, risk_free_rate, sigma, Z, dT):\n",
    "    return S_0 * np.exp(np.cumsum((risk_free_rate - sigma**2/2) * dT + sigma * np.sqrt(dT) * Z, 1))"
   ]
  },
  {
   "cell_type": "code",
   "execution_count": 20,
   "metadata": {},
   "outputs": [
    {
     "data": {
      "text/plain": [
       "(1, 3650)"
      ]
     },
     "execution_count": 20,
     "metadata": {},
     "output_type": "execute_result"
    }
   ],
   "source": [
    "Z_histdata = norm.rvs(size = [1, 10*365])\n",
    "price_path = share_path(S0, mu, sigma, Z_histdata, dT)\n",
    "price_path.shape\n",
    "# print(price_path)"
   ]
  },
  {
   "cell_type": "code",
   "execution_count": 21,
   "metadata": {},
   "outputs": [],
   "source": [
    "hist_lret = np.log(price_path[0, 1:]) - np.log(price_path[0, 0:-1])\n",
    "# hist_lret.shape\n",
    "# hist_lret"
   ]
  },
  {
   "cell_type": "code",
   "execution_count": 22,
   "metadata": {},
   "outputs": [],
   "source": [
    "mc_mu = np.mean(hist_lret) * 365\n",
    "mc_sigma = np.std(hist_lret) * np.sqrt(365)"
   ]
  },
  {
   "cell_type": "code",
   "execution_count": 23,
   "metadata": {},
   "outputs": [],
   "source": [
    "def terminal_shareprice_adj(S_0, mu, sigma, Z, T):\n",
    "    return S_0 * np.exp((mu) * T + sigma * np.sqrt(T) * Z)"
   ]
  },
  {
   "cell_type": "code",
   "execution_count": 24,
   "metadata": {},
   "outputs": [],
   "source": [
    "alpha = 0.01\n",
    "S0 = price_path[0, -1]\n",
    "mportval_current = S0\n",
    "\n",
    "mV_estimate    = [None] * 50\n",
    "histV_estimate = [None] * 50\n",
    "# S0"
   ]
  },
  {
   "cell_type": "code",
   "execution_count": 25,
   "metadata": {},
   "outputs": [],
   "source": [
    "for i in range(1, 51):\n",
    "    Z = norm.rvs(size = i * 1000)\n",
    "    montportval_future = terminal_shareprice_adj(S0, mc_mu, mc_sigma, Z, T)\n",
    "    hist_portret = [None] * i * 1000\n",
    "    \n",
    "    for j in range(1, i * 1000 + 1):\n",
    "        rand_samp = uniform.rvs(size = 365) * (len(price_path[0]) - 1)\n",
    "        rand_samp = [int(x) for x in rand_samp]\n",
    "        share_returns = hist_lret[rand_samp]\n",
    "        s_term = S0 * np.exp(np.sum(share_returns, axis = 0))\n",
    "        hist_portret[j - i] = (s_term - mportval_current) / mportval_current\n",
    "        \n",
    "    montport_return  = np.sort((montportval_future - mportval_current) / mportval_current)\n",
    "    hist_portret     = np.sort(hist_portret)\n",
    "    \n",
    "    mV_estimate[i-1] = -montport_return[int(alpha * i * 1000) - 1]\n",
    "    histV_estimate[i-1] = -hist_portret[int(np.floor(alpha * i * 1000)) - 1]"
   ]
  },
  {
   "cell_type": "code",
   "execution_count": 26,
   "metadata": {},
   "outputs": [
    {
     "data": {
      "text/plain": [
       "0.16470338889502079"
      ]
     },
     "execution_count": 26,
     "metadata": {},
     "output_type": "execute_result"
    }
   ],
   "source": [
    "np.mean(histV_estimate)"
   ]
  },
  {
   "cell_type": "markdown",
   "metadata": {},
   "source": [
    "Line 1 to Line 16 is essentially just pre-amble (they shouldn't be anything you haven't seen before). From lines 18 to 25, we implement code to generate synthetic historical data. More\n",
    "detail on the mechanics for synthetic data generation can be found in the notes. In lines 31 to 33, we define an adjusted terminal share price function. The reason we need this is because we\n",
    "will be using our historical returns to estimate the drift. When doing this, the average historical return is estimating the whole $ \\mu - \\frac{1}{2}\\sigma^2$ and not just $\\mu$, which is calculated in line 28. The adjusted terminal share price function accounts for this.\n",
    "\n",
    "In line 36 we set our current share price to the latest value in our synthetic historical data, and in line 37 we set up the initial value of the portfolio as the current price of the share. This is assuming that we are holding one unit in the share.\n",
    "\n",
    "Note that we will be working out VaR as a function of sample size for both methods. So, we pre- allocate space to store these values, which we do in lines 39 and 40. We also use our sample mean and volatility to project our share value. We do this so that our Monte Carlo and historical simulation estimates will be more similar. They will likely still differ slightly, however, because we will essentially be comparing a sample of returns against the mean return for the sample as a whole. These estimations happen in lines 28 and 29.\n",
    "\n",
    "From Line 42 to 58, we loop through sample size and calculate VaR under both methods. Lines 43, 44, 54, and 57 are relevant to Monte Carlo simulation. The rest are relevant to historical simulation. The Monte Carlo unit samples from a random normal distribution, calculates the future portfolio value as the future share price, calculates the portfolio return, then calculates the VaR. The historical simulation parts are a bit more involved. The nested loop is necessary to generate a distribution for the future portfolio values through the historical simulation method. Briefly, we sample from a uniform distribution, use this sample to pick from our historical returns, use these returns to project our share price one year forward, and calculate the future portfolio value.\n",
    "\n",
    "Finally, under both methods, we calculate the returns on these portfolios, work out the 1% quantile, and determine the Value at Risk. If we plot the results, we should get the following graph:"
   ]
  },
  {
   "cell_type": "markdown",
   "metadata": {},
   "source": [
    "## 3.0 Credit Valuation Adjustment\n",
    "\n",
    "Up until this point, we have been running our Monte Carlo simulations within a Black-Scholes framework. This has been useful because of the ease with which we can implement it; however, it does rely on some unrealistic assumptions. One of these is that there is no risk of default. In this set of notes, we will introduce the concept of credit risk, and give an overview of how it can be accounted for.\n",
    "\n",
    "Definitions\n",
    "When contracts are traded on an exchange, the exchange itself takes responsibility for ensuring that the parties receive the payments they are due. This is not the case for over-the-counter (OTC) contracts. For example, suppose you entered into an agreement for a company to buy an asset from you at some point in the future. If this company were to become bankrupt, you would miss out on any profit you were entitled to. This danger is known as counterparty credit risk. It is also often called default risk. We will use these two terms interchangeably. It is important to note that counterparty risk is faced by both parties in any transaction. In our above example, you could have insufficient funds to buy the asset to sell it to the company – in this case, they could lose out on profit. Since both parties are exposed to default risk, it is bilateral.\n",
    "\n",
    "We now introduce a concept known as exposure. Your exposure at any time t is what you are at risk of losing, were the counterparty to default. It is the higher of the value of the portfolio and 0, i.e.\n",
    "\n",
    "\n",
    "$$ E(t) = max(V(t), 0)$$\n",
    "\n",
    "You can think of it this way: if your portfolio has a negative value (meaning you would owe the other party money), and they default, you don't lose out on any profit. If the value of the portfolio was positive and they defaulted, you would lose the value of the portfolio (the amount they owed you).\n",
    "\n",
    "There are a number of further concepts which follow on from exposure:\n",
    "\n",
    "- Current exposure, which is the exposure when 𝑡 is the current time,\n",
    "- Expected exposure, which is what you predict the exposure to be at a future time 𝑡,\n",
    "- Potential future exposure, which confidence level on exposure at some future time (this is very similar in concept to Value at Risk).\n",
    "\n",
    "With these ideas of counterparty risk and exposure, we can now define credit valuation adjustments (CVA). CVA is calculated as the difference between the value of a portfolio which we assume is risk-free, and a portfolio where we account for default risk. As such, CVA can be thought of as the market value of the counterparty credit risk. As you might expect, the higher your exposure, the higher your CVA, since you stand to lose more.\n",
    "\n",
    "For a mathematical definition of counterparty risk, we need to define two variables: $\\delta$ and $\\tau$. $\\delta$ will be our recovery rate - this is the fraction of our portfolio that we would receive if the counterparty defaults. In other words, if our portfolio is worth V(t) at time t and the counterparty defaults at time t, we would only receive $\\delta$V(t). So, we would lose (1 - $\\delta$)V(t). Our second variable, $\\tau$, is a stopping time. This will be the time that the counterparty defaults. If the counterparty never defaults, $\\tau = \\infty$. We only lose out if the counterparty defaults before the time we close-out our position with them. Our CVA is thus as follows:\n",
    "\n",
    "$$CVA = \\mathbb{E}^\\mathbb{Q}[𝑒^{−r\\tauτ}(1 - \\delta)V(\\tau)\\mathbb{I}_{(\\tau \\leq T)}]$$\n",
    "\n",
    "where r is our risk-free interest rate and 𝑇 is the close-out time for our portfolio. Let's go through each element in this expression.\n",
    "\n",
    "- $\\mathbb{E}^\\mathbb{Q}$: we are calculated our expectation under the risk-neutral measure, as we always do for pricing.\n",
    "- $e^{−r\\tau}$: we are discounting our value to the present time.\n",
    "- $1 - \\delta$: this is the proportion of our portfolio that we lose if there is a default.\n",
    "- $V(\\tau)$: this is how much our portfolio is worth in total at the time of default\n",
    "- $\\mathbb{I}_{(\\tau \\leq T)}$: we only lose out if the counterparty defaults before we have closed-out our position with them.\n",
    "\n",
    "The biggest issue we face with CVA is the difficulty in calculating it, as there are a number of factors which affect it, such as credit spreads and market factors. As a result, we introduce an extension to the Black-Scholes model, known as the Merton model."
   ]
  },
  {
   "cell_type": "markdown",
   "metadata": {},
   "source": [
    "**Merton model**\n",
    "\n",
    "In order to account for the risk of default, we introduce the notion of firm value at time 𝑡. We keep all the assumptions which we had in the Black-Scholes model (besides for the no risk of default) and treat our firm value as an asset. This means it follows geometric Brownian motion and has the following SDE under the risk-neutral measure:\n",
    "\n",
    "$$ dV_t = rV_t dt + \\sigma V_t dW_t; V_t = V $$\n",
    "\n",
    "() where V is the value of the firm at time t. We assume that the value of the firm is the maximum\n",
    "amount which they can pay towards settling their debt. For the sake of modeling, we assume that the total debt which the firm has is some fixed amount, D, which is due at some future time T, and that default can only happen at time T. This means that, at time T, the debt holders receive\n",
    "\n",
    "$$min(V_T, D) = D - (D - V_T )^+ $$\n",
    "\n",
    "You'll notice that the positive-only portion, $(D - V_T )^+$, is the same payoff as a put on the firm value. The expected present value of the debt is thus equal to:\n",
    "\n",
    "$$De^{-rT} - P(V, r, \\sigma, D, T)$$\n",
    "\n",
    "where $P(V, r, \\sigma, D, T)$ is the Black-Scholes price for a put with initial asset value $V_0$ , risk-free rate r, volatility $\\sigma$, strike D, and maturity T. Using our closed-form solution for the price of a put in Black-Scholes, we get:\n",
    "\n",
    "$$ V_0\\Phi(-d_1) + (1 - \\Phi(-d_2))\\cdot De^{-rT}$$"
   ]
  },
  {
   "cell_type": "markdown",
   "metadata": {},
   "source": [
    "In this model, the probability of default is given by:\n",
    "\n",
    "$$\\mathbb{Q}[V_T < D]\\,=\\, \\Phi(-d_2 )$$\n",
    "\n",
    "These two formulas allow us to give values to the total debt of the firm. Now, let's consider the value of CVA for a particular portfolio. Suppose our portfolio has value $X_t$ at time t, where $X_t$ is some random variable with maturity time T. Now, implementing our assumption that default only happens at time T, our CVA given by equation (2) becomes:\n",
    "\n",
    "$$ CVA = \\mathbb{E}^\\mathbb{Q}[e^{-rT}(1 - \\delta)\\cdot X_T\\mathbb{I}_{\\{\\tau=T\\}}] $$\n",
    "<br>\n",
    "$$ = \\mathbb{E}^\\mathbb{Q}[e^{-rT}(1 - \\delta)\\cdot X_T\\mathbb{I}_{\\{V_T < D|\\}}] $$\n",
    "\n",
    "\n",
    "If the value of our portfolio is independent of the value of the counter party firm, we can calculate this expectation as:\n",
    "\n",
    "$$ (1 - \\delta)\\cdot\\mathbb{E}^\\mathbb{Q}[e^{-rT} X_T] \\cdot \\mathbb{Q}[V_T < D] = (1 - \\delta)X_0 \\Phi(-d_2)$$\n",
    "\n",
    "which follows from the fact that discounted assets are martingales under the risk-neutral measure.\n",
    "\n",
    "In the case of correlated portfolio values and firm values, we will need to resort to Monte Carlo methods. This will be done in the next unit, but we briefly introduce the concept of right way and wrong way risk. Wrong way risk is where, as the value of your portfolio increases relative to the counterparty, the likelihood of the counterparty defaulting increases. This means that the more you stand to gain, the more risk of default you face. Right way risk is simply the opposite: the more valuable your portfolio, the less likely the counterparty will default. The more negative this correlation, the more careful we have to be when performing our valuations.\n",
    "In the next unit, we will be implementing the Monte Carlo algorithms for CVA. Refer back to these notes as necessary when doing the coding yourself.\n",
    " "
   ]
  },
  {
   "cell_type": "markdown",
   "metadata": {},
   "source": [
    "## 4.0 CVA in Python\n",
    "---\n",
    "\n",
    "A number of the concepts introduced in the previous set of notes can be difficult to grasp at first. In this set of notes, we are going to be going through code that implements a Monte Carlo simulation for calculating CVA - this should help to make things a bit more concrete.\n",
    "\n",
    "We are going to be considering the following scenario: you hold a call option on a stock, with an initial stock value of \\\\$100, a volatility of 30%, a strike of \\\\$110, and a term of one year. The continuously-compounded risk-free rate prevalent in the market is 10%. The counterparty to your call has some probability of default. The firm/counterparty is currently valued at \\\\$200, with a volatility of 25%, and has a debt of \\\\$180 which it owes in one year. If the firm were to default, you would receive 20% of what they owe you - this is their recovery rate.\n",
    "\n",
    "We are going to be modeling your CVA for a number of different levels of correlation between the stock on which the option is written and the value of the counterparty. Let's go through the code that does this.\n"
   ]
  },
  {
   "cell_type": "code",
   "execution_count": 35,
   "metadata": {},
   "outputs": [],
   "source": [
    "import numpy as np\n",
    "from scipy.stats import norm\n",
    "import matplotlib.pyplot as plt\n",
    "import random"
   ]
  },
  {
   "cell_type": "markdown",
   "metadata": {},
   "source": [
    "As per usual, we import the libraries necessary. Since we are working within the Merton model, we are going to be simulating our assets using a standard normal distribution – this is done in the same way as in the Black-Scholes model."
   ]
  },
  {
   "cell_type": "code",
   "execution_count": 36,
   "metadata": {},
   "outputs": [],
   "source": [
    "# market information\n",
    "risk_free = 0.1\n",
    "\n",
    "# share price information\n",
    "S_0   = 100\n",
    "sigma = 0.3\n",
    "\n",
    "# call option information \n",
    "strike = 110\n",
    "T = 1\n",
    "\n",
    "# firm information\n",
    "V_0  = 200\n",
    "debt = 180\n",
    "sigma_firm    = 0.25\n",
    "recovery_rate = 0.2"
   ]
  },
  {
   "cell_type": "markdown",
   "metadata": {},
   "source": [
    "Here we are capturing the information as per the problem statement. The share is the asset on which we hold a call option, and the firm is the counterparty for the option. The following function generates the terminal share price given some  random normal values, z."
   ]
  },
  {
   "cell_type": "code",
   "execution_count": 37,
   "metadata": {},
   "outputs": [],
   "source": [
    "def terminal_value(S_0, risk_free_rate, sigma, z, T):\n",
    "    return S_0 * np.exp((risk_free_rate - sigma**2/2) * T + sigma * np.sqrt(T) * z)"
   ]
  },
  {
   "cell_type": "markdown",
   "metadata": {},
   "source": [
    "Function for evaluating the call price in Monte Carlo Estimation..."
   ]
  },
  {
   "cell_type": "code",
   "execution_count": 38,
   "metadata": {},
   "outputs": [],
   "source": [
    "def call_payoff(S_T, K):\n",
    "    return np.maximum(S_T - K, 0)"
   ]
  },
  {
   "cell_type": "markdown",
   "metadata": {},
   "source": [
    "It is necessary to create the functions which transform our random standard normals into terminal values. Note that we are going to be modeling our firm value in the same way which we have been modeling stock values - hence, we are going to be using the terminal_value function for both our stock and our firm. The call_payoff function finds the payoff for a call option at terminal time."
   ]
  },
  {
   "cell_type": "code",
   "execution_count": 39,
   "metadata": {},
   "outputs": [],
   "source": [
    "np.random.seed(0)\n",
    "\n",
    "corr_tested   = np.linspace(-1, 1, 21)\n",
    "cva_estimates = [None] * len(corr_tested)\n",
    "cva_std       = [None] * len(corr_tested)"
   ]
  },
  {
   "cell_type": "markdown",
   "metadata": {},
   "source": [
    "We set our seed so that we can easily compare our answers. Line 3 creates an array of the correlations we are going to be testing. Run this code and have a look at the array created – it has numbers from −1 to 1, going up in steps of 0.1."
   ]
  },
  {
   "cell_type": "code",
   "execution_count": 40,
   "metadata": {},
   "outputs": [
    {
     "data": {
      "text/plain": [
       "array([-1. , -0.9, -0.8, -0.7, -0.6, -0.5, -0.4, -0.3, -0.2, -0.1,  0. ,\n",
       "        0.1,  0.2,  0.3,  0.4,  0.5,  0.6,  0.7,  0.8,  0.9,  1. ])"
      ]
     },
     "execution_count": 40,
     "metadata": {},
     "output_type": "execute_result"
    }
   ],
   "source": [
    "corr_tested"
   ]
  },
  {
   "cell_type": "markdown",
   "metadata": {},
   "source": [
    "For each correlation we test, we will have a CVA estimate and a CVA standard deviation."
   ]
  },
  {
   "cell_type": "code",
   "execution_count": 41,
   "metadata": {},
   "outputs": [],
   "source": [
    "for i in range(len(corr_tested)):\n",
    "    \n",
    "    correlation = corr_tested[i]\n",
    "    if (correlation == 1 or correlation == -1):\n",
    "        norm_vec_0 = norm.rvs(size = 50000)\n",
    "        norm_vec_1 = correlation * norm_vec_0\n",
    "        corr_norm_matrix = np.array([norm_vec_0, norm_vec_1])\n",
    "        # print(corr_norm_matrix)\n",
    "    else:\n",
    "        corr_matrix = np.array([[1, correlation], [correlation, 1]])\n",
    "        norm_matrix = norm.rvs(size = np.array([2, 50000]))\n",
    "        corr_norm_matrix = np.matmul(np.linalg.cholesky(corr_matrix), norm_matrix)\n",
    "        # print(corr_norm_matrix)\n",
    "        \n",
    "    term_stock_val = terminal_value(S_0, risk_free, sigma, corr_norm_matrix[0,], T)\n",
    "    call_val       = call_payoff(term_stock_val, strike)\n",
    "    term_firm_val  = terminal_value(V_0, risk_free, sigma_firm, corr_norm_matrix[1,], T)\n",
    "    amount_lost    = np.exp(-risk_free * T) * (1 - recovery_rate) * (term_firm_val < debt) * call_val\n",
    "    cva_estimates[i] = np.mean(amount_lost)\n",
    "    cva_std[i] = np.std(amount_lost) / np.sqrt(50000)\n",
    "\n",
    "# len(term_firm_val[term_firm_val < debt])\n",
    "# len(call_vall[call_vall == 0])"
   ]
  },
  {
   "cell_type": "markdown",
   "metadata": {},
   "source": [
    "In this loop we are running our Monte Carlo estimation. We are going to be using a sample size of 50 000 – this means that we have 50 000 estimates for our stock price and 50 000 estimates for our firm value. If our correlation is equal to 1 or -1, our standard normal numbers for each asset (the stock and the firm) are generated as follows:\n",
    "\n",
    "- Generate 50 000 standard normal random variables,\n",
    "- Take the vector of these standard normals and multiply them by the correlation, and\n",
    "- Combine these two vectors into a matrix with each array making up a row.\n",
    "\n",
    "Ensure that you understand why this works. Try a few smaller examples in your own code, and check the matrices generated.\n",
    "\n",
    "If the correlation lies between -0.9 and 0.9 inclusive, we generate the correlated standard normal numbers using a Cholesky decomposition.\n",
    "\n",
    "Once we have our matrix of standard normal random numbers, we can generate our terminal stock and firm values. Line 14 creates an array of stock values using the first row of the matrix of correlated standard normals. Note that this will create an array of 50 000 stock values. Line 16 creates an array of terminal firm values.\n",
    "\n",
    "With these terminal values generated, we can calculate our lost profit in each case. Line 15 creates an array of call values for the given stock values. Line 17 using these call values in the formula:\n",
    "\n",
    "\n",
    "$$ e^{-rT}(1-\\delta)X_T\\mathbb{I}_{\\{V_T < D\\}}$$\n",
    "\n",
    "where X are the call values, V is the firm value, D is the debt of the firm, $\\delta$ is the recovery rate, \n",
    "and r is the risk-free rate.\n",
    "\n",
    "Our CVA estimate and standard deviation are calculated in the same way in which our usual Monte Carlo estimates are calculated. Before plotting our CVA estimates, we are going to calculate our CVA assuming that the correlation is 0.\n",
    "\n",
    "Code to calculate default probability..."
   ]
  },
  {
   "cell_type": "code",
   "execution_count": 43,
   "metadata": {},
   "outputs": [],
   "source": [
    "d_1 = (np.log(V_0 / debt) + (risk_free + sigma_firm**2/2) * T) / (sigma_firm * np.sqrt(T))\n",
    "d_2 = d_1 - sigma_firm * np.sqrt(T)\n",
    "\n",
    "default_prob = norm.cdf(-d_2)"
   ]
  },
  {
   "cell_type": "markdown",
   "metadata": {},
   "source": [
    "This code calculates the probability of default, which is given by:\n",
    "\n",
    "$$ \\Phi(-d2) $$"
   ]
  },
  {
   "cell_type": "code",
   "execution_count": 45,
   "metadata": {},
   "outputs": [],
   "source": [
    "d_1_stock = (np.log(S_0 / strike) + (risk_free + sigma**2/2) * T) / (sigma * np.sqrt(T))\n",
    "d_2_stock = d_1_stock - sigma * np.sqrt(T)\n",
    "\n",
    "analytic_callprice =  S_0 * norm.cdf(d_1_stock) - strike * np.exp(-risk_free * (T)) * norm.cdf(d_2_stock)"
   ]
  },
  {
   "cell_type": "markdown",
   "metadata": {},
   "source": [
    "Here we have calculated our closed-form solution for the call option on the share, as per our usual Black-Scholes formula."
   ]
  },
  {
   "cell_type": "code",
   "execution_count": 46,
   "metadata": {},
   "outputs": [],
   "source": [
    "uncorr_cva = (1 - recovery_rate) * default_prob * analytic_callprice"
   ]
  },
  {
   "cell_type": "markdown",
   "metadata": {},
   "source": [
    "We are finally able to compute our CVA assuming 0 correlation. We use the formula given by: \n",
    "\n",
    "$$(1 - \\delta)X_0\\cdot \\Phi(-d_2)$$\n",
    "\n",
    "where $X_0$ is the closed-form solution to the price of the call.\n"
   ]
  },
  {
   "cell_type": "code",
   "execution_count": 47,
   "metadata": {},
   "outputs": [
    {
     "data": {
      "image/png": "[encoded data removed]",
      "text/plain": [
       "<Figure size 432x288 with 1 Axes>"
      ]
     },
     "metadata": {
      "needs_background": "light"
     },
     "output_type": "display_data"
    }
   ],
   "source": [
    "plt.plot(corr_tested, [uncorr_cva] * 21)\n",
    "plt.plot(corr_tested, cva_estimates, '.')\n",
    "plt.plot(corr_tested, cva_estimates + (3 * np.array(cva_std)), 'r')\n",
    "plt.plot(corr_tested, cva_estimates - (3 * np.array(cva_std)), 'r')\n",
    "plt.xlabel('Correlation')\n",
    "plt.ylabel('CVA')\n",
    "plt.show()"
   ]
  },
  {
   "cell_type": "markdown",
   "metadata": {},
   "source": [
    "Finally, we plot our Monte Carlo CVA estimates for different correlations, alongside three standard deviation error bounds and the 0 correlation CVA. If you have implemented your code properly, your plot should look like the one in Figure 2."
   ]
  }
 ],
 "metadata": {
  "kernelspec": {
   "display_name": "Python 3",
   "language": "python",
   "name": "python3"
  },
  "language_info": {
   "codemirror_mode": {
    "name": "ipython",
    "version": 3
   },
   "file_extension": ".py",
   "mimetype": "text/x-python",
   "name": "python",
   "nbconvert_exporter": "python",
   "pygments_lexer": "ipython3",
   "version": "3.7.5"
  }
 },
 "nbformat": 4,
 "nbformat_minor": 4
}
