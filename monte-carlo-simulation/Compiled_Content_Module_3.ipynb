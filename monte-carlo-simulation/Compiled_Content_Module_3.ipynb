{
 "cells": [
  {
   "cell_type": "markdown",
   "metadata": {},
   "source": [
    "# Monte Carlo Methods for Risk Management\n",
    "---\n",
    "\n",
    "Module 3 introduces two ways of accounting for risk in financial transactions: Value at Risk (VaR) and Credit Valuation Adjustment (CVA). The module begins by defining VaR and discusses how to calculate it using Monte-Carlo Methods. Examples of how to implement Monte Carlo Methods in Python for VaR simulation are provided. The module concludes by defining CVA and explaining how it can be calculated using the Black-Scholes model by Merton.."
   ]
  },
  {
   "cell_type": "markdown",
   "metadata": {},
   "source": [
    "## 1.0 Value at Risk\n",
    "---\n",
    "\n",
    "**Introduction**\n",
    "\n",
    "Risk is everywhere and, if you let it, has the potential to destroy a business. This is particularly the case in the financial sector where markets can move in unpredictable and unexpected ways. So, being able to manage risk is a very important skill for any individual in business, and even more so in the financial sector.\n",
    "\n",
    "However, managing risk is more than sitting in a room and brainstorming what can go wrong. In order to truly manage it, we need techniques which allow us to introduce a degree of objectivity and consistency when identifying and quantifying the risk that the business or a project faces. The aim of this module will be to expose you to two popular methods for quantifying risk: Value at Risk (VaR) and Credit Valuation Adjustment (CVA).\n"
   ]
  },
  {
   "cell_type": "markdown",
   "metadata": {},
   "source": [
    "**Risk Metrics**\n",
    "\n",
    "A technique for quantifying the risk in a portfolio is known as a risk metric. This gives us a way of numerically describing the amount of uncertainty in that portfolio. Note that we will be talking about portfolios throughout this unit. A portfolio is just a group of assets.\n",
    "\n",
    "A few examples of potential risk metrics include volatility (or variance) and correlation. These give an idea of the extent to which your portfolio's value could decrease, and how susceptible it is to massive swings in value. However, in order for them to fully characterize the risk inherent in the portfolio, you would need the distribution of returns to be multivariate normal, which is very unlikely. Thus, we would need to use a more general metric: Value at Risk."
   ]
  },
  {
   "cell_type": "markdown",
   "metadata": {},
   "source": [
    "### 1.0.1 Value at Risk (rename)\n",
    "---\n",
    "\n",
    "Value at Risk gives an indication of how much you stand to lose on a portfolio with a given probability, over a specific time period. This can be measured in absolute terms (we could lose $100 in portfolio value) or in relative terms (the value of our portfolio will decrease by 5%). Because of the possible usefulness of both measures, we will present both potential definitions (although they are linked regardless).\n",
    "\n",
    "Now, let our current portfolio value be X(t). We can then define the return on our portfolio, until some fixed time T, as:\n",
    "\n",
    "$$ R_{t,T} = \\frac{X(T-t) - X(t)}{X(t)}$$\n",
    "\n",
    "Note that the $\\alpha$-quantile of a distribution, $x_\\alpha$(t, T), is defined as:\n",
    "\n",
    "$$ \\mathbb{P}[R_{t,T} < x_\\alpha(t,T) = \\alpha$$\n",
    "\n",
    "Thus, we can define VaR as being:\n",
    "\n",
    "$$ VaR_\\alpha(t,T) = $$\n",
    "\n",
    "We can interpret VaR as being a quantile value: what values does the portfolio take on in the worst 5% of cases? We can also interpret this in terms of confidence intervals. We are\n",
    "(1 - $\\alpha$)-percent certain that the value of the portfolio will not fall below $VaR_\\alpha(t, T)$.\n",
    "\n",
    "Note that the definition of VaR is the negative of the quantile; this is an aesthetic definition so that the actual VaR value is positive.\n",
    "\n",
    "For example, suppose we have a portfolio that is worth 100. Say we know that there is a 5% chance that the portfolio will have a value of 20 or less. Then the 5% VaR for the portfolio is 80, or 80%. We are 95% confident that the value of our portfolio will not fall by more than 80.\n",
    "\n",
    "Note that there is a different VaR for different significance levels, and different time periods. It is very important to note that VaR changes when we change these quantities.\n",
    "\n"
   ]
  },
  {
   "cell_type": "markdown",
   "metadata": {},
   "source": [
    "### 1.0.2 Expected Shortfall\n",
    "---\n",
    "\n",
    "Other names for this include conditional VaR or expected tail loss. Expected shortfall tells us how much we stand to lose assuming that our portfolio value does actually fall below our VaR. Put more simply, it is how much we stand to lose, on average, if we only consider the worst $\\alpha$-percentile of cases\n",
    "\n",
    "Conditional VaR is calculated as:\n",
    "\n",
    "$$ EL_\\alpha (t,T) = -\\mathbb{E}[R_{t,T}|R_{t,T} < - VaR_\\alpha (t,T)] \\cdot X(t) $$\n",
    "\n",
    "which is the negative of our expected return, given the expected return is less than the VaR, multiplied by the portfolio value. Note that this means that we are dealing with absolute terms, and not relative terms. We are, again, taking the negative for aesthetic reasons (and other sources may define the expected shortfall without the negative).\n",
    "\n",
    "Another important note here is that, because we are looking at $R_{t,T}$ (the return of the distribution), the VaR value must also be in terms of the portfolio returns, and not the portfolio value."
   ]
  },
  {
   "cell_type": "markdown",
   "metadata": {},
   "source": [
    "## 1.1.0 Calculating VaR\n",
    "---\n",
    "Now that we know what VaR is, we will focus on how to actually calculate VaR. There are many ways to model VaR, so the methods we will present are not an exhaustive list. We will be focusing on the Monte Carlo class of VaR models and historical VaR simulation."
   ]
  },
  {
   "cell_type": "markdown",
   "metadata": {},
   "source": [
    "### 1.1.1 Monte Carlo VaR models\n",
    "---\n",
    "\n",
    "Monte Carlo VaR models make use of Monte Carlo methods to project asset values, in order to get some idea of what happens to your portfolio value in the future. In doing so, you will be able to build a distribution for your portfolio value. You can then use this distribution to estimate the α-percentile of the portfolio, and to estimate a VaR.\n",
    "\n",
    "More explicitly, Monte Carlo VaR models work as follows:\n",
    "\n",
    "- Determine dynamics for the assets in your portfolio.\n",
    "- Use Monte Carlo simulation to simulate the value of these assets n-days into the future.\n",
    "- Determine your portfolio value in each scenario.\n",
    "- Determine the $\\alpha$-quantile of these projected portfolio values."
   ]
  },
  {
   "cell_type": "markdown",
   "metadata": {},
   "source": [
    "### 1.1.2 Historical VaR models\n",
    "---\n",
    "One of the other popular methods to estimate VaR is historical simulation. This simulation process makes no parametric assumptions, and instead entirely uses data to project what may happen. For example, suppose we have three days worth of share data.\n",
    "We can work out two days worth of returns for that share. If we then sample from these two returns, we can then project the value of our share one day into the future. In doing so, we are assuming that the company will be subject to similar conditions as it was in the past, so the past returns will be reflective of future returns. If we were to repeat this process several times (using significantly more data), we could apply a similar process as with Monte Carlo\n",
    "\n",
    "VaR models in order to estimate VaR. Historical simulation works as follows:\n",
    "\n",
    "- Source price data for the assets in the portfolio.\n",
    "- Calculate the daily returns for all assets in the portfolio.\n",
    "- Randomly sample n many log-returns and use these to grow the respective asset. values in the portfolio n-days into the future.\n",
    "- Determine your portfolio value in each scenario.\n",
    "- Determine the $\\alpha$-quantile of these projected portfolio values."
   ]
  },
  {
   "cell_type": "markdown",
   "metadata": {},
   "source": [
    "**Which method is better?**\n",
    "\n",
    "Each method comes with its own pros and cons. The historical method doesn't require any parametric assumptions regarding the returns of your assets; however, it does need a considerable amount of data to be applied. This may force you to use data from further into the past than you would be comfortable (arguably the most recent data would be a better reflection of the future asset performance). In fact, many regulators require that the data used for historical VaR calculations include periods of 'stress'. Thus, the firm may be forced to include data from high stress periods if the most recent data doesn't meet regulatory standards. This implies that the process of selecting appropriate data can be particularly difficult. Monte Carlo methods don't fall prey to this data history issue once you have calibrated your return model; but a model needs to be implied which immediately introduces model risk into your VaR estimate.\n",
    "\n",
    "Historical simulation focuses on assessing what has happened in the past in order to determine the risk we face in the future. Monte Carlo simulation tries to find a balance between what has happened in the past, and what could potentially happen in the future. It makes use of models which can allow for events which haven't explicitly occurred before, and it also uses historical data to calibrate its model parameters, which allows for it to incorporate what has happened in the past into its estimates.\n",
    "\n",
    "As is often the case, the best method would be problem specific. In fact, there will likely be legislature which requires a particular method for assessing VaR.\n",
    "\n",
    "**Conditional tail VaR**\n",
    "\n",
    "In the process of calculating VaR (in terms of the methods given in these notes), you will imply a distribution of portfolio values.\n",
    "In order to determine Conditional Tail VaR, given that you have already determined the VaR, you would just need to work out the average value of the portfolio values which are less the VaR value."
   ]
  },
  {
   "cell_type": "markdown",
   "metadata": {},
   "source": [
    "## 2.0.0 Value at Risk in Python\n",
    "---\n",
    "\n",
    "The code in this unit is particularly dense. I would strongly recommend going through it with Jupyter Notebook open and checking each line as you go along. Being able to visualize the data helps significantly in terms of understanding what the code is trying to achieve.\n",
    "### 2.0.1 Applying Monte Carlo VaR simulation in Python\n",
    "---\n",
    "The goal in this part of the notes will be to develop code for generating Monte Carlo estimates for the VaR.\n",
    "\n",
    "The first thing to do is import all the libraries that we will use for this unit:"
   ]
  },
  {
   "source": [
    "import math\n",
    "import matplotlib.pyplot as plt\n",
    "import numpy as np\n",
    "import numpy.matlib\n",
    "import random\n",
    "\n",
    "from scipy.stats import norm, uniform"
   ],
   "cell_type": "code",
   "outputs": [],
   "metadata": {},
   "execution_count": 1
  },
  {
   "cell_type": "markdown",
   "metadata": {},
   "source": [
    "Now we need to set up all the relevant share information. These values were chosen just for this example. The code below creates column vectors for the initial share values, and the volatilities for each share. We also have a 3x3 correlation matrix, and a Cholesky decomposition of this matrix (saved as 'L').\n",
    "\n",
    "General share information..."
   ]
  },
  {
   "source": [
    "S0      = np.array([[100], [95], [50]])\n",
    "sigma   = np.array([[0.15], [0.2], [0.3]])\n",
    "cor_mat = np.array([[1, 0.2, 0.4], [0.2, 1, 0.8], [0.4, 0.8, 1]])\n",
    "\n",
    "L = np.linalg.cholesky(cor_mat)\n",
    "r = 0.1\n",
    "T = 1"
   ],
   "cell_type": "code",
   "outputs": [],
   "metadata": {},
   "execution_count": 2
  },
  {
   "cell_type": "markdown",
   "metadata": {},
   "source": [
    "The output and shape of the S0 array..."
   ]
  },
  {
   "source": [
    "S0 = np.array([[100], [95], [50]])\n",
    "print(S0)\n",
    "print('array shape = ', S0.shape)"
   ],
   "cell_type": "code",
   "outputs": [
    {
     "output_type": "stream",
     "name": "stdout",
     "text": "[[100]\n [ 95]\n [ 50]]\narray shape =  (3, 1)\n"
    }
   ],
   "metadata": {},
   "execution_count": 3
  },
  {
   "cell_type": "markdown",
   "metadata": {},
   "source": [
    "The cor_mat array..."
   ]
  },
  {
   "source": [
    "cor_mat"
   ],
   "cell_type": "code",
   "outputs": [
    {
     "output_type": "execute_result",
     "data": {
      "text/plain": "array([[1. , 0.2, 0.4],\n       [0.2, 1. , 0.8],\n       [0.4, 0.8, 1. ]])"
     },
     "metadata": {},
     "execution_count": 4
    }
   ],
   "metadata": {},
   "execution_count": 4
  },
  {
   "cell_type": "markdown",
   "metadata": {},
   "source": [
    "and it's shape..."
   ]
  },
  {
   "source": [
    "cor_mat.shape"
   ],
   "cell_type": "code",
   "outputs": [
    {
     "output_type": "execute_result",
     "data": {
      "text/plain": "(3, 3)"
     },
     "metadata": {},
     "execution_count": 5
    }
   ],
   "metadata": {},
   "execution_count": 5
  },
  {
   "cell_type": "markdown",
   "metadata": {},
   "source": [
    "The Cholesky decomposition of this matrix..."
   ]
  },
  {
   "source": [
    "L = np.linalg.cholesky(cor_mat)\n",
    "L"
   ],
   "cell_type": "code",
   "outputs": [
    {
     "output_type": "execute_result",
     "data": {
      "text/plain": "array([[1.        , 0.        , 0.        ],\n       [0.2       , 0.9797959 , 0.        ],\n       [0.4       , 0.73484692, 0.54772256]])"
     },
     "metadata": {},
     "execution_count": 6
    }
   ],
   "metadata": {},
   "execution_count": 6
  },
  {
   "cell_type": "markdown",
   "metadata": {},
   "source": [
    "Now we can set up information that is more relevant to our problem. We need to decide on our total number of simulations and the level of confidence for our VaR estimate.\n",
    "\n",
    "Once this is done, we can calculate our initial portfolio value (assuming that we hold one unit of each of the three assets) as the sum of the current asset values.\n"
   ]
  },
  {
   "source": [
    "np.random.seed(0)\n",
    "t_simulations = 1000\n",
    "alpha = 0.05"
   ],
   "cell_type": "code",
   "outputs": [],
   "metadata": {},
   "execution_count": 7
  },
  {
   "cell_type": "markdown",
   "metadata": {},
   "source": [
    "Current portfolio value..."
   ]
  },
  {
   "source": [
    "portval_current = np.sum(S0)\n",
    "portval_current"
   ],
   "cell_type": "code",
   "outputs": [
    {
     "output_type": "execute_result",
     "data": {
      "text/plain": "245"
     },
     "metadata": {},
     "execution_count": 8
    }
   ],
   "metadata": {},
   "execution_count": 8
  },
  {
   "cell_type": "markdown",
   "metadata": {},
   "source": [
    "We then import our terminal share price function from the previous module..."
   ]
  },
  {
   "source": [
    "def terminal_shareprice(S_0, risk_free_rate, sigma, z, T):\n",
    "    return S_0 * np.exp((risk_free_rate - sigma**2/2) * T + sigma * np.sqrt(T) * z)"
   ],
   "cell_type": "code",
   "outputs": [],
   "metadata": {},
   "execution_count": 9
  },
  {
   "cell_type": "markdown",
   "metadata": {},
   "source": [
    "The next step is to simulate future share values and portfolio values (assuming that we keep our holdings constant). The “Z” variable is a correlated multivariate normal sample."
   ]
  },
  {
   "source": [
    "Z = np.matmul (L, norm.rvs(size = [3, t_simulations]))\n",
    "print(Z.shape)\n",
    "Z"
   ],
   "cell_type": "code",
   "outputs": [
    {
     "output_type": "stream",
     "name": "stdout",
     "text": "(3, 1000)\n"
    },
    {
     "output_type": "execute_result",
     "data": {
      "text/plain": "array([[ 1.76405235,  0.40015721,  0.97873798, ...,  0.0941923 ,\n        -1.14761094, -0.35811408],\n       [ 0.89754042,  0.95447369, -0.21803474, ...,  0.17407129,\n        -1.34835251, -1.35610621],\n       [ 0.27455296, -0.1217901 ,  0.10642766, ...,  0.04871742,\n        -1.96228935, -1.1507538 ]])"
     },
     "metadata": {},
     "execution_count": 10
    }
   ],
   "metadata": {},
   "execution_count": 10
  },
  {
   "source": [
    "portval_future = np.sum(terminal_shareprice(S0, r, sigma, Z, T), axis=0)\n",
    "portval_future.shape"
   ],
   "cell_type": "code",
   "outputs": [
    {
     "output_type": "execute_result",
     "data": {
      "text/plain": "(1000,)"
     },
     "metadata": {},
     "execution_count": 11
    }
   ],
   "metadata": {},
   "execution_count": 11
  },
  {
   "cell_type": "markdown",
   "metadata": {},
   "source": [
    "We can now calculate the expected portfolio returns given our simulations. Before trying to calculate the VaR, it would make things significantly easier to sort this list. Otherwise, we would need to run some form of search algorithm to find the smallest portfolio returns. Lastly, we determine our VaR as the negative of the $\\alpha$-quantile, where our $\\alpha$ is 5%. We use the int function here because, when using matrix indexation, python can only index using integer values. The int function just makes sure that the script doesn't error out."
   ]
  },
  {
   "cell_type": "markdown",
   "metadata": {},
   "source": [
    "Calculating portfolio returns..."
   ]
  },
  {
   "source": [
    "portreturn = (portval_future - portval_current) / portval_current\n",
    "# portreturn"
   ],
   "cell_type": "code",
   "outputs": [],
   "metadata": {},
   "execution_count": 12
  },
  {
   "cell_type": "markdown",
   "metadata": {},
   "source": [
    "Sorting returns..."
   ]
  },
  {
   "source": [
    "portreturn = np.sort(portreturn)\n",
    "# portreturn"
   ],
   "cell_type": "code",
   "outputs": [],
   "metadata": {},
   "execution_count": 13
  },
  {
   "cell_type": "markdown",
   "metadata": {},
   "source": [
    "Determining VaR..."
   ]
  },
  {
   "source": [
    "mVaR_estimate = -portreturn[int(np.floor(alpha * t_simulations)) - 1]\n",
    "mVaR_estimate"
   ],
   "cell_type": "code",
   "outputs": [
    {
     "output_type": "execute_result",
     "data": {
      "text/plain": "0.14318361044360806"
     },
     "metadata": {},
     "execution_count": 14
    }
   ],
   "metadata": {},
   "execution_count": 14
  },
  {
   "source": [
    "portreturn[49]"
   ],
   "cell_type": "code",
   "outputs": [
    {
     "output_type": "execute_result",
     "data": {
      "text/plain": "-0.14318361044360806"
     },
     "metadata": {},
     "execution_count": 15
    }
   ],
   "metadata": {},
   "execution_count": 15
  },
  {
   "cell_type": "markdown",
   "metadata": {},
   "source": [
    "**Applying historical simulation to estimate VaR**\n",
    "\n",
    "We now move on to estimating our VaR using historical simulation. \n",
    "\n",
    "Once again, we set up our preliminary information.\n",
    "\n",
    "(code set up like this in notes. It'll break if run now as 'price_path not defined until later on)"
   ]
  },
  {
   "source": [
    "random.seed(0)\n",
    "\n",
    "t_simulations = 1000\n",
    "alpha = 0.05\n",
    "\n",
    "# hist_S0 = price_path[-1]\n",
    "# hist_portval = np.sum(hist_S0)\n",
    "# hist_portret = [None] * t_simulations"
   ],
   "cell_type": "code",
   "outputs": [],
   "metadata": {},
   "execution_count": 16
  },
  {
   "cell_type": "markdown",
   "metadata": {},
   "source": [
    "At this point, we would source historical share data. However, in this example we will rather generate our own. First, we need a function which produces a share price path. This\n",
    "works in a similar way to our terminal share value function above; the big difference is that it keeps track of the share value on a daily basis. Note the use of the cumsum function within the share_path function.\n",
    "\n",
    "This is a very convenient function which returns the sum of the elements in a matrix at that point in the matrix (so the first element of the resulting matrix will be the same as the original matrix, but the last element in the cumsum matrix will be the sum of the elements up until that point). This allows us to write share prices as being a function of the individual changes up until that point.\n"
   ]
  },
  {
   "cell_type": "markdown",
   "metadata": {},
   "source": [
    "This code generates our price path. The price_path variable can be viewed as a synthetic version of the historical data that we would normally use."
   ]
  },
  {
   "source": [
    "import math\n",
    "import matplotlib.pyplot as plt\n",
    "import numpy as np\n",
    "import numpy.matlib\n",
    "import random\n",
    "\n",
    "from scipy.stats import norm, uniform"
   ],
   "cell_type": "code",
   "outputs": [],
   "metadata": {},
   "execution_count": 31
  },
  {
   "source": [
    "S0 = 25\n",
    "sigma = 0.1\n",
    "mu = 0.1\n",
    "T = 1\n",
    "alpha = 0.01\n",
    "\n",
    "np.random.seed(0)\n",
    "dT = 1/365"
   ],
   "cell_type": "code",
   "outputs": [],
   "metadata": {},
   "execution_count": 32
  },
  {
   "source": [
    "def share_path(S_0, risk_free_rate, sigma, Z, dT):\n",
    "    return S_0 * np.exp(np.cumsum((risk_free_rate - sigma**2/2) * dT + sigma * np.sqrt(dT) * Z, 1))"
   ],
   "cell_type": "code",
   "outputs": [],
   "metadata": {},
   "execution_count": 33
  },
  {
   "source": [
    "Z_histdata = norm.rvs(size = [1, 10*365])\n",
    "price_path = share_path(S0, mu, sigma, Z_histdata, dT)\n",
    "price_path.shape\n",
    "# print(price_path)"
   ],
   "cell_type": "code",
   "outputs": [
    {
     "output_type": "execute_result",
     "data": {
      "text/plain": "(1, 3650)"
     },
     "metadata": {},
     "execution_count": 34
    }
   ],
   "metadata": {},
   "execution_count": 34
  },
  {
   "source": [
    "hist_lret = np.log(price_path[0, 1:]) - np.log(price_path[0, 0:-1])\n",
    "# hist_lret.shape\n",
    "# hist_lret"
   ],
   "cell_type": "code",
   "outputs": [],
   "metadata": {},
   "execution_count": 35
  },
  {
   "source": [
    "mc_mu = np.mean(hist_lret) * 365\n",
    "mc_sigma = np.std(hist_lret) * np.sqrt(365)"
   ],
   "cell_type": "code",
   "outputs": [],
   "metadata": {},
   "execution_count": 36
  },
  {
   "source": [
    "def terminal_shareprice_adj(S_0, mu, sigma, Z, T):\n",
    "    return S_0 * np.exp((mu) * T + sigma * np.sqrt(T) * Z)"
   ],
   "cell_type": "code",
   "outputs": [],
   "metadata": {},
   "execution_count": 0
  },
  {
   "source": [
    "alpha = 0.01\n",
    "S0 = price_path[0, -1]\n",
    "mportval_current = S0\n",
    "\n",
    "mV_estimate    = [None] * 50\n",
    "histV_estimate = [None] * 50\n",
    "# S0"
   ],
   "cell_type": "code",
   "outputs": [],
   "metadata": {},
   "execution_count": 0
  },
  {
   "source": [
    "for i in range(1, 51):\n",
    "    Z = norm.rvs(size = i * 1000)\n",
    "    montportval_future = terminal_shareprice_adj(S0, mc_mu, mc_sigma, Z, T)\n",
    "    hist_portret = [None] * i * 1000\n",
    "    \n",
    "    for j in range(1, i * 1000 + 1):\n",
    "        rand_samp = uniform.rvs(size = 365) * (len(price_path[0]) - 1)\n",
    "        rand_samp = [int(x) for x in rand_samp]\n",
    "        share_returns = hist_lret[rand_samp]\n",
    "        s_term = S0 * np.exp(np.sum(share_returns, axis = 0))\n",
    "        hist_portret[j - i] = (s_term - mportval_current) / mportval_current\n",
    "        \n",
    "    montport_return  = np.sort((montportval_future - mportval_current) / mportval_current)\n",
    "    hist_portret     = np.sort(hist_portret)\n",
    "    \n",
    "    mV_estimate[i-1] = -montport_return[int(alpha * i * 1000) - 1]\n",
    "    histV_estimate[i-1] = -hist_portret[int(np.floor(alpha * i * 1000)) - 1]"
   ],
   "cell_type": "code",
   "outputs": [],
   "metadata": {},
   "execution_count": 39
  },
  {
   "cell_type": "code",
   "execution_count": 26,
   "metadata": {},
   "outputs": [
    {
     "data": {
      "text/plain": [
       "0.16470338889502079"
      ]
     },
     "execution_count": 26,
     "metadata": {},
     "output_type": "execute_result"
    }
   ],
   "source": [
    "np.mean(histV_estimate)"
   ]
  },
  {
   "cell_type": "markdown",
   "metadata": {},
   "source": [
    "Line 1 to Line 16 is essentially just pre-amble (they shouldn't be anything you haven't seen before). From lines 18 to 25, we implement code to generate synthetic historical data. More\n",
    "detail on the mechanics for synthetic data generation can be found in the notes. In lines 31 to 33, we define an adjusted terminal share price function. The reason we need this is because we\n",
    "will be using our historical returns to estimate the drift. When doing this, the average historical return is estimating the whole $ \\mu - \\frac{1}{2}\\sigma^2$ and not just $\\mu$, which is calculated in line 28. The adjusted terminal share price function accounts for this.\n",
    "\n",
    "In line 36 we set our current share price to the latest value in our synthetic historical data, and in line 37 we set up the initial value of the portfolio as the current price of the share. This is assuming that we are holding one unit in the share.\n",
    "\n",
    "Note that we will be working out VaR as a function of sample size for both methods. So, we pre- allocate space to store these values, which we do in lines 39 and 40. We also use our sample mean and volatility to project our share value. We do this so that our Monte Carlo and historical simulation estimates will be more similar. They will likely still differ slightly, however, because we will essentially be comparing a sample of returns against the mean return for the sample as a whole. These estimations happen in lines 28 and 29.\n",
    "\n",
    "From Line 42 to 58, we loop through sample size and calculate VaR under both methods. Lines 43, 44, 54, and 57 are relevant to Monte Carlo simulation. The rest are relevant to historical simulation. The Monte Carlo unit samples from a random normal distribution, calculates the future portfolio value as the future share price, calculates the portfolio return, then calculates the VaR. The historical simulation parts are a bit more involved. The nested loop is necessary to generate a distribution for the future portfolio values through the historical simulation method. Briefly, we sample from a uniform distribution, use this sample to pick from our historical returns, use these returns to project our share price one year forward, and calculate the future portfolio value.\n",
    "\n",
    "Finally, under both methods, we calculate the returns on these portfolios, work out the 1% quantile, and determine the Value at Risk. If we plot the results, we should get the following graph:"
   ]
  },
  {
   "cell_type": "markdown",
   "metadata": {},
   "source": [
    "## 3.0 Credit Valuation Adjustment\n",
    "\n",
    "Up until this point, we have been running our Monte Carlo simulations within a Black-Scholes framework. This has been useful because of the ease with which we can implement it; however, it does rely on some unrealistic assumptions. One of these is that there is no risk of default. In this set of notes, we will introduce the concept of credit risk, and give an overview of how it can be accounted for.\n",
    "\n",
    "Definitions\n",
    "When contracts are traded on an exchange, the exchange itself takes responsibility for ensuring that the parties receive the payments they are due. This is not the case for over-the-counter (OTC) contracts. For example, suppose you entered into an agreement for a company to buy an asset from you at some point in the future. If this company were to become bankrupt, you would miss out on any profit you were entitled to. This danger is known as counterparty credit risk. It is also often called default risk. We will use these two terms interchangeably. It is important to note that counterparty risk is faced by both parties in any transaction. In our above example, you could have insufficient funds to buy the asset to sell it to the company – in this case, they could lose out on profit. Since both parties are exposed to default risk, it is bilateral.\n",
    "\n",
    "We now introduce a concept known as exposure. Your exposure at any time t is what you are at risk of losing, were the counterparty to default. It is the higher of the value of the portfolio and 0, i.e.\n",
    "\n",
    "\n",
    "$$ E(t) = max(V(t), 0)$$\n",
    "\n",
    "You can think of it this way: if your portfolio has a negative value (meaning you would owe the other party money), and they default, you don't lose out on any profit. If the value of the portfolio was positive and they defaulted, you would lose the value of the portfolio (the amount they owed you).\n",
    "\n",
    "There are a number of further concepts which follow on from exposure:\n",
    "\n",
    "- Current exposure, which is the exposure when 𝑡 is the current time,\n",
    "- Expected exposure, which is what you predict the exposure to be at a future time 𝑡,\n",
    "- Potential future exposure, which confidence level on exposure at some future time (this is very similar in concept to Value at Risk).\n",
    "\n",
    "With these ideas of counterparty risk and exposure, we can now define credit valuation adjustments (CVA). CVA is calculated as the difference between the value of a portfolio which we assume is risk-free, and a portfolio where we account for default risk. As such, CVA can be thought of as the market value of the counterparty credit risk. As you might expect, the higher your exposure, the higher your CVA, since you stand to lose more.\n",
    "\n",
    "For a mathematical definition of counterparty risk, we need to define two variables: $\\delta$ and $\\tau$. $\\delta$ will be our recovery rate - this is the fraction of our portfolio that we would receive if the counterparty defaults. In other words, if our portfolio is worth V(t) at time t and the counterparty defaults at time t, we would only receive $\\delta$V(t). So, we would lose (1 - $\\delta$)V(t). Our second variable, $\\tau$, is a stopping time. This will be the time that the counterparty defaults. If the counterparty never defaults, $\\tau = \\infty$. We only lose out if the counterparty defaults before the time we close-out our position with them. Our CVA is thus as follows:\n",
    "\n",
    "$$CVA = \\mathbb{E}^\\mathbb{Q}[𝑒^{−r\\tauτ}(1 - \\delta)V(\\tau)\\mathbb{I}_{(\\tau \\leq T)}]$$\n",
    "\n",
    "where r is our risk-free interest rate and 𝑇 is the close-out time for our portfolio. Let's go through each element in this expression.\n",
    "\n",
    "- $\\mathbb{E}^\\mathbb{Q}$: we are calculated our expectation under the risk-neutral measure, as we always do for pricing.\n",
    "- $e^{−r\\tau}$: we are discounting our value to the present time.\n",
    "- $1 - \\delta$: this is the proportion of our portfolio that we lose if there is a default.\n",
    "- $V(\\tau)$: this is how much our portfolio is worth in total at the time of default\n",
    "- $\\mathbb{I}_{(\\tau \\leq T)}$: we only lose out if the counterparty defaults before we have closed-out our position with them.\n",
    "\n",
    "The biggest issue we face with CVA is the difficulty in calculating it, as there are a number of factors which affect it, such as credit spreads and market factors. As a result, we introduce an extension to the Black-Scholes model, known as the Merton model."
   ]
  },
  {
   "cell_type": "markdown",
   "metadata": {},
   "source": [
    "**Merton model**\n",
    "\n",
    "In order to account for the risk of default, we introduce the notion of firm value at time 𝑡. We keep all the assumptions which we had in the Black-Scholes model (besides for the no risk of default) and treat our firm value as an asset. This means it follows geometric Brownian motion and has the following SDE under the risk-neutral measure:\n",
    "\n",
    "$$ dV_t = rV_t dt + \\sigma V_t dW_t; V_t = V $$\n",
    "\n",
    "() where V is the value of the firm at time t. We assume that the value of the firm is the maximum\n",
    "amount which they can pay towards settling their debt. For the sake of modeling, we assume that the total debt which the firm has is some fixed amount, D, which is due at some future time T, and that default can only happen at time T. This means that, at time T, the debt holders receive\n",
    "\n",
    "$$min(V_T, D) = D - (D - V_T )^+ $$\n",
    "\n",
    "You'll notice that the positive-only portion, $(D - V_T )^+$, is the same payoff as a put on the firm value. The expected present value of the debt is thus equal to:\n",
    "\n",
    "$$De^{-rT} - P(V, r, \\sigma, D, T)$$\n",
    "\n",
    "where $P(V, r, \\sigma, D, T)$ is the Black-Scholes price for a put with initial asset value $V_0$ , risk-free rate r, volatility $\\sigma$, strike D, and maturity T. Using our closed-form solution for the price of a put in Black-Scholes, we get:\n",
    "\n",
    "$$ V_0\\Phi(-d_1) + (1 - \\Phi(-d_2))\\cdot De^{-rT}$$"
   ]
  },
  {
   "cell_type": "markdown",
   "metadata": {},
   "source": [
    "In this model, the probability of default is given by:\n",
    "\n",
    "$$\\mathbb{Q}[V_T < D]\\,=\\, \\Phi(-d_2 )$$\n",
    "\n",
    "These two formulas allow us to give values to the total debt of the firm. Now, let's consider the value of CVA for a particular portfolio. Suppose our portfolio has value $X_t$ at time t, where $X_t$ is some random variable with maturity time T. Now, implementing our assumption that default only happens at time T, our CVA given by equation (2) becomes:\n",
    "\n",
    "$$ CVA = \\mathbb{E}^\\mathbb{Q}[e^{-rT}(1 - \\delta)\\cdot X_T\\mathbb{I}_{\\{\\tau=T\\}}] $$\n",
    "<br>\n",
    "$$ = \\mathbb{E}^\\mathbb{Q}[e^{-rT}(1 - \\delta)\\cdot X_T\\mathbb{I}_{\\{V_T < D|\\}}] $$\n",
    "\n",
    "\n",
    "If the value of our portfolio is independent of the value of the counter party firm, we can calculate this expectation as:\n",
    "\n",
    "$$ (1 - \\delta)\\cdot\\mathbb{E}^\\mathbb{Q}[e^{-rT} X_T] \\cdot \\mathbb{Q}[V_T < D] = (1 - \\delta)X_0 \\Phi(-d_2)$$\n",
    "\n",
    "which follows from the fact that discounted assets are martingales under the risk-neutral measure.\n",
    "\n",
    "In the case of correlated portfolio values and firm values, we will need to resort to Monte Carlo methods. This will be done in the next unit, but we briefly introduce the concept of right way and wrong way risk. Wrong way risk is where, as the value of your portfolio increases relative to the counterparty, the likelihood of the counterparty defaulting increases. This means that the more you stand to gain, the more risk of default you face. Right way risk is simply the opposite: the more valuable your portfolio, the less likely the counterparty will default. The more negative this correlation, the more careful we have to be when performing our valuations.\n",
    "In the next unit, we will be implementing the Monte Carlo algorithms for CVA. Refer back to these notes as necessary when doing the coding yourself.\n",
    " "
   ]
  },
  {
   "cell_type": "markdown",
   "metadata": {},
   "source": [
    "## 4.0 CVA in Python\n",
    "---\n",
    "\n",
    "A number of the concepts introduced in the previous set of notes can be difficult to grasp at first. In this set of notes, we are going to be going through code that implements a Monte Carlo simulation for calculating CVA - this should help to make things a bit more concrete.\n",
    "\n",
    "We are going to be considering the following scenario: you hold a call option on a stock, with an initial stock value of \\\\$100, a volatility of 30%, a strike of \\\\$110, and a term of one year. The continuously-compounded risk-free rate prevalent in the market is 10%. The counterparty to your call has some probability of default. The firm/counterparty is currently valued at \\\\$200, with a volatility of 25%, and has a debt of \\\\$180 which it owes in one year. If the firm were to default, you would receive 20% of what they owe you - this is their recovery rate.\n",
    "\n",
    "We are going to be modeling your CVA for a number of different levels of correlation between the stock on which the option is written and the value of the counterparty. Let's go through the code that does this.\n"
   ]
  },
  {
   "source": [
    "import numpy as np\n",
    "from scipy.stats import norm\n",
    "import matplotlib.pyplot as plt\n",
    "import random"
   ],
   "cell_type": "code",
   "outputs": [],
   "metadata": {},
   "execution_count": 20
  },
  {
   "cell_type": "markdown",
   "metadata": {},
   "source": [
    "As per usual, we import the libraries necessary. Since we are working within the Merton model, we are going to be simulating our assets using a standard normal distribution – this is done in the same way as in the Black-Scholes model."
   ]
  },
  {
   "source": [
    "# market information\n",
    "risk_free = 0.1\n",
    "\n",
    "# share price information\n",
    "S_0   = 100\n",
    "sigma = 0.3\n",
    "\n",
    "# call option information \n",
    "strike = 110\n",
    "T = 1\n",
    "\n",
    "# firm information\n",
    "V_0  = 200\n",
    "debt = 180\n",
    "sigma_firm    = 0.25\n",
    "recovery_rate = 0.2"
   ],
   "cell_type": "code",
   "outputs": [],
   "metadata": {},
   "execution_count": 21
  },
  {
   "cell_type": "markdown",
   "metadata": {},
   "source": [
    "Here we are capturing the information as per the problem statement. The share is the asset on which we hold a call option, and the firm is the counterparty for the option. The following function generates the terminal share price given some  random normal values, z."
   ]
  },
  {
   "source": [
    "def terminal_value(S_0, risk_free_rate, sigma, z, T):\n",
    "    return S_0 * np.exp((risk_free_rate - sigma**2/2) * T + sigma * np.sqrt(T) * z)"
   ],
   "cell_type": "code",
   "outputs": [],
   "metadata": {},
   "execution_count": 22
  },
  {
   "cell_type": "markdown",
   "metadata": {},
   "source": [
    "Function for evaluating the call price in Monte Carlo Estimation..."
   ]
  },
  {
   "source": [
    "def call_payoff(S_T, K):\n",
    "    return np.maximum(S_T - K, 0)"
   ],
   "cell_type": "code",
   "outputs": [],
   "metadata": {},
   "execution_count": 23
  },
  {
   "cell_type": "markdown",
   "metadata": {},
   "source": [
    "It is necessary to create the functions which transform our random standard normals into terminal values. Note that we are going to be modeling our firm value in the same way which we have been modeling stock values - hence, we are going to be using the terminal_value function for both our stock and our firm. The call_payoff function finds the payoff for a call option at terminal time."
   ]
  },
  {
   "source": [
    "np.random.seed(0)\n",
    "\n",
    "corr_tested   = np.linspace(-1, 1, 21)\n",
    "cva_estimates = [None] * len(corr_tested)\n",
    "cva_std       = [None] * len(corr_tested)"
   ],
   "cell_type": "code",
   "outputs": [],
   "metadata": {},
   "execution_count": 24
  },
  {
   "cell_type": "markdown",
   "metadata": {},
   "source": [
    "We set our seed so that we can easily compare our answers. Line 3 creates an array of the correlations we are going to be testing. Run this code and have a look at the array created – it has numbers from −1 to 1, going up in steps of 0.1."
   ]
  },
  {
   "source": [
    "corr_tested"
   ],
   "cell_type": "code",
   "outputs": [
    {
     "output_type": "execute_result",
     "data": {
      "text/plain": "array([-1. , -0.9, -0.8, -0.7, -0.6, -0.5, -0.4, -0.3, -0.2, -0.1,  0. ,\n        0.1,  0.2,  0.3,  0.4,  0.5,  0.6,  0.7,  0.8,  0.9,  1. ])"
     },
     "metadata": {},
     "execution_count": 25
    }
   ],
   "metadata": {},
   "execution_count": 25
  },
  {
   "cell_type": "markdown",
   "metadata": {},
   "source": [
    "For each correlation we test, we will have a CVA estimate and a CVA standard deviation."
   ]
  },
  {
   "source": [
    "for i in range(len(corr_tested)):\n",
    "    \n",
    "    correlation = corr_tested[i]\n",
    "    if (correlation == 1 or correlation == -1):\n",
    "        norm_vec_0 = norm.rvs(size = 50000)\n",
    "        norm_vec_1 = correlation * norm_vec_0\n",
    "        corr_norm_matrix = np.array([norm_vec_0, norm_vec_1])\n",
    "        # print(corr_norm_matrix)\n",
    "    else:\n",
    "        corr_matrix = np.array([[1, correlation], [correlation, 1]])\n",
    "        norm_matrix = norm.rvs(size = np.array([2, 50000]))\n",
    "        corr_norm_matrix = np.matmul(np.linalg.cholesky(corr_matrix), norm_matrix)\n",
    "        # print(corr_norm_matrix)\n",
    "        \n",
    "    term_stock_val = terminal_value(S_0, risk_free, sigma, corr_norm_matrix[0,], T)\n",
    "    call_val       = call_payoff(term_stock_val, strike)\n",
    "    term_firm_val  = terminal_value(V_0, risk_free, sigma_firm, corr_norm_matrix[1,], T)\n",
    "    amount_lost    = np.exp(-risk_free * T) * (1 - recovery_rate) * (term_firm_val < debt) * call_val\n",
    "    cva_estimates[i] = np.mean(amount_lost)\n",
    "    cva_std[i] = np.std(amount_lost) / np.sqrt(50000)\n",
    "\n",
    "# len(term_firm_val[term_firm_val < debt])\n",
    "# len(call_vall[call_vall == 0])"
   ],
   "cell_type": "code",
   "outputs": [],
   "metadata": {},
   "execution_count": 26
  },
  {
   "cell_type": "markdown",
   "metadata": {},
   "source": [
    "In this loop we are running our Monte Carlo estimation. We are going to be using a sample size of 50 000 – this means that we have 50 000 estimates for our stock price and 50 000 estimates for our firm value. If our correlation is equal to 1 or -1, our standard normal numbers for each asset (the stock and the firm) are generated as follows:\n",
    "\n",
    "- Generate 50 000 standard normal random variables,\n",
    "- Take the vector of these standard normals and multiply them by the correlation, and\n",
    "- Combine these two vectors into a matrix with each array making up a row.\n",
    "\n",
    "Ensure that you understand why this works. Try a few smaller examples in your own code, and check the matrices generated.\n",
    "\n",
    "If the correlation lies between -0.9 and 0.9 inclusive, we generate the correlated standard normal numbers using a Cholesky decomposition.\n",
    "\n",
    "Once we have our matrix of standard normal random numbers, we can generate our terminal stock and firm values. Line 14 creates an array of stock values using the first row of the matrix of correlated standard normals. Note that this will create an array of 50 000 stock values. Line 16 creates an array of terminal firm values.\n",
    "\n",
    "With these terminal values generated, we can calculate our lost profit in each case. Line 15 creates an array of call values for the given stock values. Line 17 using these call values in the formula:\n",
    "\n",
    "\n",
    "$$ e^{-rT}(1-\\delta)X_T\\mathbb{I}_{\\{V_T < D\\}}$$\n",
    "\n",
    "where X are the call values, V is the firm value, D is the debt of the firm, $\\delta$ is the recovery rate, \n",
    "and r is the risk-free rate.\n",
    "\n",
    "Our CVA estimate and standard deviation are calculated in the same way in which our usual Monte Carlo estimates are calculated. Before plotting our CVA estimates, we are going to calculate our CVA assuming that the correlation is 0.\n",
    "\n",
    "Code to calculate default probability..."
   ]
  },
  {
   "source": [
    "d_1 = (np.log(V_0 / debt) + (risk_free + sigma_firm**2/2) * T) / (sigma_firm * np.sqrt(T))\n",
    "d_2 = d_1 - sigma_firm * np.sqrt(T)\n",
    "\n",
    "default_prob = norm.cdf(-d_2)"
   ],
   "cell_type": "code",
   "outputs": [],
   "metadata": {},
   "execution_count": 27
  },
  {
   "cell_type": "markdown",
   "metadata": {},
   "source": [
    "This code calculates the probability of default, which is given by:\n",
    "\n",
    "$$ \\Phi(-d2) $$"
   ]
  },
  {
   "source": [
    "d_1_stock = (np.log(S_0 / strike) + (risk_free + sigma**2/2) * T) / (sigma * np.sqrt(T))\n",
    "d_2_stock = d_1_stock - sigma * np.sqrt(T)\n",
    "\n",
    "analytic_callprice =  S_0 * norm.cdf(d_1_stock) - strike * np.exp(-risk_free * (T)) * norm.cdf(d_2_stock)"
   ],
   "cell_type": "code",
   "outputs": [],
   "metadata": {},
   "execution_count": 28
  },
  {
   "cell_type": "markdown",
   "metadata": {},
   "source": [
    "Here we have calculated our closed-form solution for the call option on the share, as per our usual Black-Scholes formula."
   ]
  },
  {
   "source": [
    "uncorr_cva = (1 - recovery_rate) * default_prob * analytic_callprice"
   ],
   "cell_type": "code",
   "outputs": [],
   "metadata": {},
   "execution_count": 29
  },
  {
   "cell_type": "markdown",
   "metadata": {},
   "source": [
    "We are finally able to compute our CVA assuming 0 correlation. We use the formula given by: \n",
    "\n",
    "$$(1 - \\delta)X_0\\cdot \\Phi(-d_2)$$\n",
    "\n",
    "where $X_0$ is the closed-form solution to the price of the call.\n"
   ]
  },
  {
   "source": [
    "plt.plot(corr_tested, [uncorr_cva] * 21)\n",
    "plt.plot(corr_tested, cva_estimates, '.')\n",
    "plt.plot(corr_tested, cva_estimates + (3 * np.array(cva_std)), 'r')\n",
    "plt.plot(corr_tested, cva_estimates - (3 * np.array(cva_std)), 'r')\n",
    "plt.xlabel('Correlation')\n",
    "plt.ylabel('CVA')\n",
    "plt.show()"
   ],
   "cell_type": "code",
   "outputs": [
    {
     "output_type": "display_data",
     "data": {
      "text/plain": "<Figure size 432x288 with 1 Axes>",
      "image/svg+xml": "<?xml version=\"1.0\" encoding=\"utf-8\" standalone=\"no\"?>\n<!DOCTYPE svg PUBLIC \"-//W3C//DTD SVG 1.1//EN\"\n  \"http://www.w3.org/Graphics/SVG/1.1/DTD/svg11.dtd\">\n<!-- Created with matplotlib (https://matplotlib.org/) -->\n<svg height=\"262.19625pt\" version=\"1.1\" viewBox=\"0 0 376.240625 262.19625\" width=\"376.240625pt\" xmlns=\"http://www.w3.org/2000/svg\" xmlns:xlink=\"http://www.w3.org/1999/xlink\">\n <defs>\n  <style type=\"text/css\">\n*{stroke-linecap:butt;stroke-linejoin:round;}\n  </style>\n </defs>\n <g id=\"figure_1\">\n  <g id=\"patch_1\">\n   <path d=\"M 0 262.19625 \nL 376.240625 262.19625 \nL 376.240625 0 \nL 0 0 \nz\n\" style=\"fill:none;\"/>\n  </g>\n  <g id=\"axes_1\">\n   <g id=\"patch_2\">\n    <path d=\"M 34.240625 224.64 \nL 369.040625 224.64 \nL 369.040625 7.2 \nL 34.240625 7.2 \nz\n\" style=\"fill:#ffffff;\"/>\n   </g>\n   <g id=\"matplotlib.axis_1\">\n    <g id=\"xtick_1\">\n     <g id=\"line2d_1\">\n      <defs>\n       <path d=\"M 0 0 \nL 0 3.5 \n\" id=\"ma8e6ab633a\" style=\"stroke:#000000;stroke-width:0.8;\"/>\n      </defs>\n      <g>\n       <use style=\"stroke:#000000;stroke-width:0.8;\" x=\"49.458807\" xlink:href=\"#ma8e6ab633a\" y=\"224.64\"/>\n      </g>\n     </g>\n     <g id=\"text_1\">\n      <!-- −1.00 -->\n      <defs>\n       <path d=\"M 10.59375 35.5 \nL 73.1875 35.5 \nL 73.1875 27.203125 \nL 10.59375 27.203125 \nz\n\" id=\"DejaVuSans-8722\"/>\n       <path d=\"M 12.40625 8.296875 \nL 28.515625 8.296875 \nL 28.515625 63.921875 \nL 10.984375 60.40625 \nL 10.984375 69.390625 \nL 28.421875 72.90625 \nL 38.28125 72.90625 \nL 38.28125 8.296875 \nL 54.390625 8.296875 \nL 54.390625 0 \nL 12.40625 0 \nz\n\" id=\"DejaVuSans-49\"/>\n       <path d=\"M 10.6875 12.40625 \nL 21 12.40625 \nL 21 0 \nL 10.6875 0 \nz\n\" id=\"DejaVuSans-46\"/>\n       <path d=\"M 31.78125 66.40625 \nQ 24.171875 66.40625 20.328125 58.90625 \nQ 16.5 51.421875 16.5 36.375 \nQ 16.5 21.390625 20.328125 13.890625 \nQ 24.171875 6.390625 31.78125 6.390625 \nQ 39.453125 6.390625 43.28125 13.890625 \nQ 47.125 21.390625 47.125 36.375 \nQ 47.125 51.421875 43.28125 58.90625 \nQ 39.453125 66.40625 31.78125 66.40625 \nz\nM 31.78125 74.21875 \nQ 44.046875 74.21875 50.515625 64.515625 \nQ 56.984375 54.828125 56.984375 36.375 \nQ 56.984375 17.96875 50.515625 8.265625 \nQ 44.046875 -1.421875 31.78125 -1.421875 \nQ 19.53125 -1.421875 13.0625 8.265625 \nQ 6.59375 17.96875 6.59375 36.375 \nQ 6.59375 54.828125 13.0625 64.515625 \nQ 19.53125 74.21875 31.78125 74.21875 \nz\n\" id=\"DejaVuSans-48\"/>\n      </defs>\n      <g transform=\"translate(34.136151 239.238437)scale(0.1 -0.1)\">\n       <use xlink:href=\"#DejaVuSans-8722\"/>\n       <use x=\"83.789062\" xlink:href=\"#DejaVuSans-49\"/>\n       <use x=\"147.412109\" xlink:href=\"#DejaVuSans-46\"/>\n       <use x=\"179.199219\" xlink:href=\"#DejaVuSans-48\"/>\n       <use x=\"242.822266\" xlink:href=\"#DejaVuSans-48\"/>\n      </g>\n     </g>\n    </g>\n    <g id=\"xtick_2\">\n     <g id=\"line2d_2\">\n      <g>\n       <use style=\"stroke:#000000;stroke-width:0.8;\" x=\"87.504261\" xlink:href=\"#ma8e6ab633a\" y=\"224.64\"/>\n      </g>\n     </g>\n     <g id=\"text_2\">\n      <!-- −0.75 -->\n      <defs>\n       <path d=\"M 8.203125 72.90625 \nL 55.078125 72.90625 \nL 55.078125 68.703125 \nL 28.609375 0 \nL 18.3125 0 \nL 43.21875 64.59375 \nL 8.203125 64.59375 \nz\n\" id=\"DejaVuSans-55\"/>\n       <path d=\"M 10.796875 72.90625 \nL 49.515625 72.90625 \nL 49.515625 64.59375 \nL 19.828125 64.59375 \nL 19.828125 46.734375 \nQ 21.96875 47.46875 24.109375 47.828125 \nQ 26.265625 48.1875 28.421875 48.1875 \nQ 40.625 48.1875 47.75 41.5 \nQ 54.890625 34.8125 54.890625 23.390625 \nQ 54.890625 11.625 47.5625 5.09375 \nQ 40.234375 -1.421875 26.90625 -1.421875 \nQ 22.3125 -1.421875 17.546875 -0.640625 \nQ 12.796875 0.140625 7.71875 1.703125 \nL 7.71875 11.625 \nQ 12.109375 9.234375 16.796875 8.0625 \nQ 21.484375 6.890625 26.703125 6.890625 \nQ 35.15625 6.890625 40.078125 11.328125 \nQ 45.015625 15.765625 45.015625 23.390625 \nQ 45.015625 31 40.078125 35.4375 \nQ 35.15625 39.890625 26.703125 39.890625 \nQ 22.75 39.890625 18.8125 39.015625 \nQ 14.890625 38.140625 10.796875 36.28125 \nz\n\" id=\"DejaVuSans-53\"/>\n      </defs>\n      <g transform=\"translate(72.181605 239.238437)scale(0.1 -0.1)\">\n       <use xlink:href=\"#DejaVuSans-8722\"/>\n       <use x=\"83.789062\" xlink:href=\"#DejaVuSans-48\"/>\n       <use x=\"147.412109\" xlink:href=\"#DejaVuSans-46\"/>\n       <use x=\"179.199219\" xlink:href=\"#DejaVuSans-55\"/>\n       <use x=\"242.822266\" xlink:href=\"#DejaVuSans-53\"/>\n      </g>\n     </g>\n    </g>\n    <g id=\"xtick_3\">\n     <g id=\"line2d_3\">\n      <g>\n       <use style=\"stroke:#000000;stroke-width:0.8;\" x=\"125.549716\" xlink:href=\"#ma8e6ab633a\" y=\"224.64\"/>\n      </g>\n     </g>\n     <g id=\"text_3\">\n      <!-- −0.50 -->\n      <g transform=\"translate(110.22706 239.238437)scale(0.1 -0.1)\">\n       <use xlink:href=\"#DejaVuSans-8722\"/>\n       <use x=\"83.789062\" xlink:href=\"#DejaVuSans-48\"/>\n       <use x=\"147.412109\" xlink:href=\"#DejaVuSans-46\"/>\n       <use x=\"179.199219\" xlink:href=\"#DejaVuSans-53\"/>\n       <use x=\"242.822266\" xlink:href=\"#DejaVuSans-48\"/>\n      </g>\n     </g>\n    </g>\n    <g id=\"xtick_4\">\n     <g id=\"line2d_4\">\n      <g>\n       <use style=\"stroke:#000000;stroke-width:0.8;\" x=\"163.59517\" xlink:href=\"#ma8e6ab633a\" y=\"224.64\"/>\n      </g>\n     </g>\n     <g id=\"text_4\">\n      <!-- −0.25 -->\n      <defs>\n       <path d=\"M 19.1875 8.296875 \nL 53.609375 8.296875 \nL 53.609375 0 \nL 7.328125 0 \nL 7.328125 8.296875 \nQ 12.9375 14.109375 22.625 23.890625 \nQ 32.328125 33.6875 34.8125 36.53125 \nQ 39.546875 41.84375 41.421875 45.53125 \nQ 43.3125 49.21875 43.3125 52.78125 \nQ 43.3125 58.59375 39.234375 62.25 \nQ 35.15625 65.921875 28.609375 65.921875 \nQ 23.96875 65.921875 18.8125 64.3125 \nQ 13.671875 62.703125 7.8125 59.421875 \nL 7.8125 69.390625 \nQ 13.765625 71.78125 18.9375 73 \nQ 24.125 74.21875 28.421875 74.21875 \nQ 39.75 74.21875 46.484375 68.546875 \nQ 53.21875 62.890625 53.21875 53.421875 \nQ 53.21875 48.921875 51.53125 44.890625 \nQ 49.859375 40.875 45.40625 35.40625 \nQ 44.1875 33.984375 37.640625 27.21875 \nQ 31.109375 20.453125 19.1875 8.296875 \nz\n\" id=\"DejaVuSans-50\"/>\n      </defs>\n      <g transform=\"translate(148.272514 239.238437)scale(0.1 -0.1)\">\n       <use xlink:href=\"#DejaVuSans-8722\"/>\n       <use x=\"83.789062\" xlink:href=\"#DejaVuSans-48\"/>\n       <use x=\"147.412109\" xlink:href=\"#DejaVuSans-46\"/>\n       <use x=\"179.199219\" xlink:href=\"#DejaVuSans-50\"/>\n       <use x=\"242.822266\" xlink:href=\"#DejaVuSans-53\"/>\n      </g>\n     </g>\n    </g>\n    <g id=\"xtick_5\">\n     <g id=\"line2d_5\">\n      <g>\n       <use style=\"stroke:#000000;stroke-width:0.8;\" x=\"201.640625\" xlink:href=\"#ma8e6ab633a\" y=\"224.64\"/>\n      </g>\n     </g>\n     <g id=\"text_5\">\n      <!-- 0.00 -->\n      <g transform=\"translate(190.507813 239.238437)scale(0.1 -0.1)\">\n       <use xlink:href=\"#DejaVuSans-48\"/>\n       <use x=\"63.623047\" xlink:href=\"#DejaVuSans-46\"/>\n       <use x=\"95.410156\" xlink:href=\"#DejaVuSans-48\"/>\n       <use x=\"159.033203\" xlink:href=\"#DejaVuSans-48\"/>\n      </g>\n     </g>\n    </g>\n    <g id=\"xtick_6\">\n     <g id=\"line2d_6\">\n      <g>\n       <use style=\"stroke:#000000;stroke-width:0.8;\" x=\"239.68608\" xlink:href=\"#ma8e6ab633a\" y=\"224.64\"/>\n      </g>\n     </g>\n     <g id=\"text_6\">\n      <!-- 0.25 -->\n      <g transform=\"translate(228.553267 239.238437)scale(0.1 -0.1)\">\n       <use xlink:href=\"#DejaVuSans-48\"/>\n       <use x=\"63.623047\" xlink:href=\"#DejaVuSans-46\"/>\n       <use x=\"95.410156\" xlink:href=\"#DejaVuSans-50\"/>\n       <use x=\"159.033203\" xlink:href=\"#DejaVuSans-53\"/>\n      </g>\n     </g>\n    </g>\n    <g id=\"xtick_7\">\n     <g id=\"line2d_7\">\n      <g>\n       <use style=\"stroke:#000000;stroke-width:0.8;\" x=\"277.731534\" xlink:href=\"#ma8e6ab633a\" y=\"224.64\"/>\n      </g>\n     </g>\n     <g id=\"text_7\">\n      <!-- 0.50 -->\n      <g transform=\"translate(266.598722 239.238437)scale(0.1 -0.1)\">\n       <use xlink:href=\"#DejaVuSans-48\"/>\n       <use x=\"63.623047\" xlink:href=\"#DejaVuSans-46\"/>\n       <use x=\"95.410156\" xlink:href=\"#DejaVuSans-53\"/>\n       <use x=\"159.033203\" xlink:href=\"#DejaVuSans-48\"/>\n      </g>\n     </g>\n    </g>\n    <g id=\"xtick_8\">\n     <g id=\"line2d_8\">\n      <g>\n       <use style=\"stroke:#000000;stroke-width:0.8;\" x=\"315.776989\" xlink:href=\"#ma8e6ab633a\" y=\"224.64\"/>\n      </g>\n     </g>\n     <g id=\"text_8\">\n      <!-- 0.75 -->\n      <g transform=\"translate(304.644176 239.238437)scale(0.1 -0.1)\">\n       <use xlink:href=\"#DejaVuSans-48\"/>\n       <use x=\"63.623047\" xlink:href=\"#DejaVuSans-46\"/>\n       <use x=\"95.410156\" xlink:href=\"#DejaVuSans-55\"/>\n       <use x=\"159.033203\" xlink:href=\"#DejaVuSans-53\"/>\n      </g>\n     </g>\n    </g>\n    <g id=\"xtick_9\">\n     <g id=\"line2d_9\">\n      <g>\n       <use style=\"stroke:#000000;stroke-width:0.8;\" x=\"353.822443\" xlink:href=\"#ma8e6ab633a\" y=\"224.64\"/>\n      </g>\n     </g>\n     <g id=\"text_9\">\n      <!-- 1.00 -->\n      <g transform=\"translate(342.689631 239.238437)scale(0.1 -0.1)\">\n       <use xlink:href=\"#DejaVuSans-49\"/>\n       <use x=\"63.623047\" xlink:href=\"#DejaVuSans-46\"/>\n       <use x=\"95.410156\" xlink:href=\"#DejaVuSans-48\"/>\n       <use x=\"159.033203\" xlink:href=\"#DejaVuSans-48\"/>\n      </g>\n     </g>\n    </g>\n    <g id=\"text_10\">\n     <!-- Correlation -->\n     <defs>\n      <path d=\"M 64.40625 67.28125 \nL 64.40625 56.890625 \nQ 59.421875 61.53125 53.78125 63.8125 \nQ 48.140625 66.109375 41.796875 66.109375 \nQ 29.296875 66.109375 22.65625 58.46875 \nQ 16.015625 50.828125 16.015625 36.375 \nQ 16.015625 21.96875 22.65625 14.328125 \nQ 29.296875 6.6875 41.796875 6.6875 \nQ 48.140625 6.6875 53.78125 8.984375 \nQ 59.421875 11.28125 64.40625 15.921875 \nL 64.40625 5.609375 \nQ 59.234375 2.09375 53.4375 0.328125 \nQ 47.65625 -1.421875 41.21875 -1.421875 \nQ 24.65625 -1.421875 15.125 8.703125 \nQ 5.609375 18.84375 5.609375 36.375 \nQ 5.609375 53.953125 15.125 64.078125 \nQ 24.65625 74.21875 41.21875 74.21875 \nQ 47.75 74.21875 53.53125 72.484375 \nQ 59.328125 70.75 64.40625 67.28125 \nz\n\" id=\"DejaVuSans-67\"/>\n      <path d=\"M 30.609375 48.390625 \nQ 23.390625 48.390625 19.1875 42.75 \nQ 14.984375 37.109375 14.984375 27.296875 \nQ 14.984375 17.484375 19.15625 11.84375 \nQ 23.34375 6.203125 30.609375 6.203125 \nQ 37.796875 6.203125 41.984375 11.859375 \nQ 46.1875 17.53125 46.1875 27.296875 \nQ 46.1875 37.015625 41.984375 42.703125 \nQ 37.796875 48.390625 30.609375 48.390625 \nz\nM 30.609375 56 \nQ 42.328125 56 49.015625 48.375 \nQ 55.71875 40.765625 55.71875 27.296875 \nQ 55.71875 13.875 49.015625 6.21875 \nQ 42.328125 -1.421875 30.609375 -1.421875 \nQ 18.84375 -1.421875 12.171875 6.21875 \nQ 5.515625 13.875 5.515625 27.296875 \nQ 5.515625 40.765625 12.171875 48.375 \nQ 18.84375 56 30.609375 56 \nz\n\" id=\"DejaVuSans-111\"/>\n      <path d=\"M 41.109375 46.296875 \nQ 39.59375 47.171875 37.8125 47.578125 \nQ 36.03125 48 33.890625 48 \nQ 26.265625 48 22.1875 43.046875 \nQ 18.109375 38.09375 18.109375 28.8125 \nL 18.109375 0 \nL 9.078125 0 \nL 9.078125 54.6875 \nL 18.109375 54.6875 \nL 18.109375 46.1875 \nQ 20.953125 51.171875 25.484375 53.578125 \nQ 30.03125 56 36.53125 56 \nQ 37.453125 56 38.578125 55.875 \nQ 39.703125 55.765625 41.0625 55.515625 \nz\n\" id=\"DejaVuSans-114\"/>\n      <path d=\"M 56.203125 29.59375 \nL 56.203125 25.203125 \nL 14.890625 25.203125 \nQ 15.484375 15.921875 20.484375 11.0625 \nQ 25.484375 6.203125 34.421875 6.203125 \nQ 39.59375 6.203125 44.453125 7.46875 \nQ 49.3125 8.734375 54.109375 11.28125 \nL 54.109375 2.78125 \nQ 49.265625 0.734375 44.1875 -0.34375 \nQ 39.109375 -1.421875 33.890625 -1.421875 \nQ 20.796875 -1.421875 13.15625 6.1875 \nQ 5.515625 13.8125 5.515625 26.8125 \nQ 5.515625 40.234375 12.765625 48.109375 \nQ 20.015625 56 32.328125 56 \nQ 43.359375 56 49.78125 48.890625 \nQ 56.203125 41.796875 56.203125 29.59375 \nz\nM 47.21875 32.234375 \nQ 47.125 39.59375 43.09375 43.984375 \nQ 39.0625 48.390625 32.421875 48.390625 \nQ 24.90625 48.390625 20.390625 44.140625 \nQ 15.875 39.890625 15.1875 32.171875 \nz\n\" id=\"DejaVuSans-101\"/>\n      <path d=\"M 9.421875 75.984375 \nL 18.40625 75.984375 \nL 18.40625 0 \nL 9.421875 0 \nz\n\" id=\"DejaVuSans-108\"/>\n      <path d=\"M 34.28125 27.484375 \nQ 23.390625 27.484375 19.1875 25 \nQ 14.984375 22.515625 14.984375 16.5 \nQ 14.984375 11.71875 18.140625 8.90625 \nQ 21.296875 6.109375 26.703125 6.109375 \nQ 34.1875 6.109375 38.703125 11.40625 \nQ 43.21875 16.703125 43.21875 25.484375 \nL 43.21875 27.484375 \nz\nM 52.203125 31.203125 \nL 52.203125 0 \nL 43.21875 0 \nL 43.21875 8.296875 \nQ 40.140625 3.328125 35.546875 0.953125 \nQ 30.953125 -1.421875 24.3125 -1.421875 \nQ 15.921875 -1.421875 10.953125 3.296875 \nQ 6 8.015625 6 15.921875 \nQ 6 25.140625 12.171875 29.828125 \nQ 18.359375 34.515625 30.609375 34.515625 \nL 43.21875 34.515625 \nL 43.21875 35.40625 \nQ 43.21875 41.609375 39.140625 45 \nQ 35.0625 48.390625 27.6875 48.390625 \nQ 23 48.390625 18.546875 47.265625 \nQ 14.109375 46.140625 10.015625 43.890625 \nL 10.015625 52.203125 \nQ 14.9375 54.109375 19.578125 55.046875 \nQ 24.21875 56 28.609375 56 \nQ 40.484375 56 46.34375 49.84375 \nQ 52.203125 43.703125 52.203125 31.203125 \nz\n\" id=\"DejaVuSans-97\"/>\n      <path d=\"M 18.3125 70.21875 \nL 18.3125 54.6875 \nL 36.8125 54.6875 \nL 36.8125 47.703125 \nL 18.3125 47.703125 \nL 18.3125 18.015625 \nQ 18.3125 11.328125 20.140625 9.421875 \nQ 21.96875 7.515625 27.59375 7.515625 \nL 36.8125 7.515625 \nL 36.8125 0 \nL 27.59375 0 \nQ 17.1875 0 13.234375 3.875 \nQ 9.28125 7.765625 9.28125 18.015625 \nL 9.28125 47.703125 \nL 2.6875 47.703125 \nL 2.6875 54.6875 \nL 9.28125 54.6875 \nL 9.28125 70.21875 \nz\n\" id=\"DejaVuSans-116\"/>\n      <path d=\"M 9.421875 54.6875 \nL 18.40625 54.6875 \nL 18.40625 0 \nL 9.421875 0 \nz\nM 9.421875 75.984375 \nL 18.40625 75.984375 \nL 18.40625 64.59375 \nL 9.421875 64.59375 \nz\n\" id=\"DejaVuSans-105\"/>\n      <path d=\"M 54.890625 33.015625 \nL 54.890625 0 \nL 45.90625 0 \nL 45.90625 32.71875 \nQ 45.90625 40.484375 42.875 44.328125 \nQ 39.84375 48.1875 33.796875 48.1875 \nQ 26.515625 48.1875 22.3125 43.546875 \nQ 18.109375 38.921875 18.109375 30.90625 \nL 18.109375 0 \nL 9.078125 0 \nL 9.078125 54.6875 \nL 18.109375 54.6875 \nL 18.109375 46.1875 \nQ 21.34375 51.125 25.703125 53.5625 \nQ 30.078125 56 35.796875 56 \nQ 45.21875 56 50.046875 50.171875 \nQ 54.890625 44.34375 54.890625 33.015625 \nz\n\" id=\"DejaVuSans-110\"/>\n     </defs>\n     <g transform=\"translate(173.874219 252.916562)scale(0.1 -0.1)\">\n      <use xlink:href=\"#DejaVuSans-67\"/>\n      <use x=\"69.824219\" xlink:href=\"#DejaVuSans-111\"/>\n      <use x=\"131.005859\" xlink:href=\"#DejaVuSans-114\"/>\n      <use x=\"172.103516\" xlink:href=\"#DejaVuSans-114\"/>\n      <use x=\"213.185547\" xlink:href=\"#DejaVuSans-101\"/>\n      <use x=\"274.708984\" xlink:href=\"#DejaVuSans-108\"/>\n      <use x=\"302.492188\" xlink:href=\"#DejaVuSans-97\"/>\n      <use x=\"363.771484\" xlink:href=\"#DejaVuSans-116\"/>\n      <use x=\"402.980469\" xlink:href=\"#DejaVuSans-105\"/>\n      <use x=\"430.763672\" xlink:href=\"#DejaVuSans-111\"/>\n      <use x=\"491.945312\" xlink:href=\"#DejaVuSans-110\"/>\n     </g>\n    </g>\n   </g>\n   <g id=\"matplotlib.axis_2\">\n    <g id=\"ytick_1\">\n     <g id=\"line2d_10\">\n      <defs>\n       <path d=\"M 0 0 \nL -3.5 0 \n\" id=\"mcc47d01ccf\" style=\"stroke:#000000;stroke-width:0.8;\"/>\n      </defs>\n      <g>\n       <use style=\"stroke:#000000;stroke-width:0.8;\" x=\"34.240625\" xlink:href=\"#mcc47d01ccf\" y=\"214.756364\"/>\n      </g>\n     </g>\n     <g id=\"text_11\">\n      <!-- 0 -->\n      <g transform=\"translate(20.878125 218.555582)scale(0.1 -0.1)\">\n       <use xlink:href=\"#DejaVuSans-48\"/>\n      </g>\n     </g>\n    </g>\n    <g id=\"ytick_2\">\n     <g id=\"line2d_11\">\n      <g>\n       <use style=\"stroke:#000000;stroke-width:0.8;\" x=\"34.240625\" xlink:href=\"#mcc47d01ccf\" y=\"167.810108\"/>\n      </g>\n     </g>\n     <g id=\"text_12\">\n      <!-- 2 -->\n      <g transform=\"translate(20.878125 171.609327)scale(0.1 -0.1)\">\n       <use xlink:href=\"#DejaVuSans-50\"/>\n      </g>\n     </g>\n    </g>\n    <g id=\"ytick_3\">\n     <g id=\"line2d_12\">\n      <g>\n       <use style=\"stroke:#000000;stroke-width:0.8;\" x=\"34.240625\" xlink:href=\"#mcc47d01ccf\" y=\"120.863852\"/>\n      </g>\n     </g>\n     <g id=\"text_13\">\n      <!-- 4 -->\n      <defs>\n       <path d=\"M 37.796875 64.3125 \nL 12.890625 25.390625 \nL 37.796875 25.390625 \nz\nM 35.203125 72.90625 \nL 47.609375 72.90625 \nL 47.609375 25.390625 \nL 58.015625 25.390625 \nL 58.015625 17.1875 \nL 47.609375 17.1875 \nL 47.609375 0 \nL 37.796875 0 \nL 37.796875 17.1875 \nL 4.890625 17.1875 \nL 4.890625 26.703125 \nz\n\" id=\"DejaVuSans-52\"/>\n      </defs>\n      <g transform=\"translate(20.878125 124.663071)scale(0.1 -0.1)\">\n       <use xlink:href=\"#DejaVuSans-52\"/>\n      </g>\n     </g>\n    </g>\n    <g id=\"ytick_4\">\n     <g id=\"line2d_13\">\n      <g>\n       <use style=\"stroke:#000000;stroke-width:0.8;\" x=\"34.240625\" xlink:href=\"#mcc47d01ccf\" y=\"73.917596\"/>\n      </g>\n     </g>\n     <g id=\"text_14\">\n      <!-- 6 -->\n      <defs>\n       <path d=\"M 33.015625 40.375 \nQ 26.375 40.375 22.484375 35.828125 \nQ 18.609375 31.296875 18.609375 23.390625 \nQ 18.609375 15.53125 22.484375 10.953125 \nQ 26.375 6.390625 33.015625 6.390625 \nQ 39.65625 6.390625 43.53125 10.953125 \nQ 47.40625 15.53125 47.40625 23.390625 \nQ 47.40625 31.296875 43.53125 35.828125 \nQ 39.65625 40.375 33.015625 40.375 \nz\nM 52.59375 71.296875 \nL 52.59375 62.3125 \nQ 48.875 64.0625 45.09375 64.984375 \nQ 41.3125 65.921875 37.59375 65.921875 \nQ 27.828125 65.921875 22.671875 59.328125 \nQ 17.53125 52.734375 16.796875 39.40625 \nQ 19.671875 43.65625 24.015625 45.921875 \nQ 28.375 48.1875 33.59375 48.1875 \nQ 44.578125 48.1875 50.953125 41.515625 \nQ 57.328125 34.859375 57.328125 23.390625 \nQ 57.328125 12.15625 50.6875 5.359375 \nQ 44.046875 -1.421875 33.015625 -1.421875 \nQ 20.359375 -1.421875 13.671875 8.265625 \nQ 6.984375 17.96875 6.984375 36.375 \nQ 6.984375 53.65625 15.1875 63.9375 \nQ 23.390625 74.21875 37.203125 74.21875 \nQ 40.921875 74.21875 44.703125 73.484375 \nQ 48.484375 72.75 52.59375 71.296875 \nz\n\" id=\"DejaVuSans-54\"/>\n      </defs>\n      <g transform=\"translate(20.878125 77.716815)scale(0.1 -0.1)\">\n       <use xlink:href=\"#DejaVuSans-54\"/>\n      </g>\n     </g>\n    </g>\n    <g id=\"ytick_5\">\n     <g id=\"line2d_14\">\n      <g>\n       <use style=\"stroke:#000000;stroke-width:0.8;\" x=\"34.240625\" xlink:href=\"#mcc47d01ccf\" y=\"26.97134\"/>\n      </g>\n     </g>\n     <g id=\"text_15\">\n      <!-- 8 -->\n      <defs>\n       <path d=\"M 31.78125 34.625 \nQ 24.75 34.625 20.71875 30.859375 \nQ 16.703125 27.09375 16.703125 20.515625 \nQ 16.703125 13.921875 20.71875 10.15625 \nQ 24.75 6.390625 31.78125 6.390625 \nQ 38.8125 6.390625 42.859375 10.171875 \nQ 46.921875 13.96875 46.921875 20.515625 \nQ 46.921875 27.09375 42.890625 30.859375 \nQ 38.875 34.625 31.78125 34.625 \nz\nM 21.921875 38.8125 \nQ 15.578125 40.375 12.03125 44.71875 \nQ 8.5 49.078125 8.5 55.328125 \nQ 8.5 64.0625 14.71875 69.140625 \nQ 20.953125 74.21875 31.78125 74.21875 \nQ 42.671875 74.21875 48.875 69.140625 \nQ 55.078125 64.0625 55.078125 55.328125 \nQ 55.078125 49.078125 51.53125 44.71875 \nQ 48 40.375 41.703125 38.8125 \nQ 48.828125 37.15625 52.796875 32.3125 \nQ 56.78125 27.484375 56.78125 20.515625 \nQ 56.78125 9.90625 50.3125 4.234375 \nQ 43.84375 -1.421875 31.78125 -1.421875 \nQ 19.734375 -1.421875 13.25 4.234375 \nQ 6.78125 9.90625 6.78125 20.515625 \nQ 6.78125 27.484375 10.78125 32.3125 \nQ 14.796875 37.15625 21.921875 38.8125 \nz\nM 18.3125 54.390625 \nQ 18.3125 48.734375 21.84375 45.5625 \nQ 25.390625 42.390625 31.78125 42.390625 \nQ 38.140625 42.390625 41.71875 45.5625 \nQ 45.3125 48.734375 45.3125 54.390625 \nQ 45.3125 60.0625 41.71875 63.234375 \nQ 38.140625 66.40625 31.78125 66.40625 \nQ 25.390625 66.40625 21.84375 63.234375 \nQ 18.3125 60.0625 18.3125 54.390625 \nz\n\" id=\"DejaVuSans-56\"/>\n      </defs>\n      <g transform=\"translate(20.878125 30.770559)scale(0.1 -0.1)\">\n       <use xlink:href=\"#DejaVuSans-56\"/>\n      </g>\n     </g>\n    </g>\n    <g id=\"text_16\">\n     <!-- CVA -->\n     <defs>\n      <path d=\"M 28.609375 0 \nL 0.78125 72.90625 \nL 11.078125 72.90625 \nL 34.1875 11.53125 \nL 57.328125 72.90625 \nL 67.578125 72.90625 \nL 39.796875 0 \nz\n\" id=\"DejaVuSans-86\"/>\n      <path d=\"M 34.1875 63.1875 \nL 20.796875 26.90625 \nL 47.609375 26.90625 \nz\nM 28.609375 72.90625 \nL 39.796875 72.90625 \nL 67.578125 0 \nL 57.328125 0 \nL 50.6875 18.703125 \nL 17.828125 18.703125 \nL 11.1875 0 \nL 0.78125 0 \nz\n\" id=\"DejaVuSans-65\"/>\n     </defs>\n     <g transform=\"translate(14.798437 126.247344)rotate(-90)scale(0.1 -0.1)\">\n      <use xlink:href=\"#DejaVuSans-67\"/>\n      <use x=\"69.824219\" xlink:href=\"#DejaVuSans-86\"/>\n      <use x=\"138.138672\" xlink:href=\"#DejaVuSans-65\"/>\n     </g>\n    </g>\n   </g>\n   <g id=\"line2d_15\">\n    <path clip-path=\"url(#pcbfb81e0a5)\" d=\"M 49.458807 159.383026 \nL 64.676989 159.383026 \nL 79.89517 159.383026 \nL 95.113352 159.383026 \nL 110.331534 159.383026 \nL 125.549716 159.383026 \nL 140.767898 159.383026 \nL 155.98608 159.383026 \nL 171.204261 159.383026 \nL 186.422443 159.383026 \nL 201.640625 159.383026 \nL 216.858807 159.383026 \nL 232.076989 159.383026 \nL 247.29517 159.383026 \nL 262.513352 159.383026 \nL 277.731534 159.383026 \nL 292.949716 159.383026 \nL 308.167898 159.383026 \nL 323.38608 159.383026 \nL 338.604261 159.383026 \nL 353.822443 159.383026 \n\" style=\"fill:none;stroke:#1f77b4;stroke-linecap:square;stroke-width:1.5;\"/>\n   </g>\n   <g id=\"line2d_16\">\n    <defs>\n     <path d=\"M 0 1.5 \nC 0.397805 1.5 0.77937 1.341951 1.06066 1.06066 \nC 1.341951 0.77937 1.5 0.397805 1.5 0 \nC 1.5 -0.397805 1.341951 -0.77937 1.06066 -1.06066 \nC 0.77937 -1.341951 0.397805 -1.5 0 -1.5 \nC -0.397805 -1.5 -0.77937 -1.341951 -1.06066 -1.06066 \nC -1.341951 -0.77937 -1.5 -0.397805 -1.5 0 \nC -1.5 0.397805 -1.341951 0.77937 -1.06066 1.06066 \nC -0.77937 1.341951 -0.397805 1.5 0 1.5 \nz\n\" id=\"m09697f020b\" style=\"stroke:#ff7f0e;\"/>\n    </defs>\n    <g clip-path=\"url(#pcbfb81e0a5)\">\n     <use style=\"fill:#ff7f0e;stroke:#ff7f0e;\" x=\"49.458807\" xlink:href=\"#m09697f020b\" y=\"22.462877\"/>\n     <use style=\"fill:#ff7f0e;stroke:#ff7f0e;\" x=\"64.676989\" xlink:href=\"#m09697f020b\" y=\"38.939683\"/>\n     <use style=\"fill:#ff7f0e;stroke:#ff7f0e;\" x=\"79.89517\" xlink:href=\"#m09697f020b\" y=\"56.104708\"/>\n     <use style=\"fill:#ff7f0e;stroke:#ff7f0e;\" x=\"95.113352\" xlink:href=\"#m09697f020b\" y=\"70.291271\"/>\n     <use style=\"fill:#ff7f0e;stroke:#ff7f0e;\" x=\"110.331534\" xlink:href=\"#m09697f020b\" y=\"86.766248\"/>\n     <use style=\"fill:#ff7f0e;stroke:#ff7f0e;\" x=\"125.549716\" xlink:href=\"#m09697f020b\" y=\"100.681986\"/>\n     <use style=\"fill:#ff7f0e;stroke:#ff7f0e;\" x=\"140.767898\" xlink:href=\"#m09697f020b\" y=\"114.657064\"/>\n     <use style=\"fill:#ff7f0e;stroke:#ff7f0e;\" x=\"155.98608\" xlink:href=\"#m09697f020b\" y=\"127.260871\"/>\n     <use style=\"fill:#ff7f0e;stroke:#ff7f0e;\" x=\"171.204261\" xlink:href=\"#m09697f020b\" y=\"137.78826\"/>\n     <use style=\"fill:#ff7f0e;stroke:#ff7f0e;\" x=\"186.422443\" xlink:href=\"#m09697f020b\" y=\"147.819819\"/>\n     <use style=\"fill:#ff7f0e;stroke:#ff7f0e;\" x=\"201.640625\" xlink:href=\"#m09697f020b\" y=\"158.828716\"/>\n     <use style=\"fill:#ff7f0e;stroke:#ff7f0e;\" x=\"216.858807\" xlink:href=\"#m09697f020b\" y=\"169.951707\"/>\n     <use style=\"fill:#ff7f0e;stroke:#ff7f0e;\" x=\"232.076989\" xlink:href=\"#m09697f020b\" y=\"177.498568\"/>\n     <use style=\"fill:#ff7f0e;stroke:#ff7f0e;\" x=\"247.29517\" xlink:href=\"#m09697f020b\" y=\"185.000733\"/>\n     <use style=\"fill:#ff7f0e;stroke:#ff7f0e;\" x=\"262.513352\" xlink:href=\"#m09697f020b\" y=\"193.685612\"/>\n     <use style=\"fill:#ff7f0e;stroke:#ff7f0e;\" x=\"277.731534\" xlink:href=\"#m09697f020b\" y=\"199.950628\"/>\n     <use style=\"fill:#ff7f0e;stroke:#ff7f0e;\" x=\"292.949716\" xlink:href=\"#m09697f020b\" y=\"206.040035\"/>\n     <use style=\"fill:#ff7f0e;stroke:#ff7f0e;\" x=\"308.167898\" xlink:href=\"#m09697f020b\" y=\"209.753673\"/>\n     <use style=\"fill:#ff7f0e;stroke:#ff7f0e;\" x=\"323.38608\" xlink:href=\"#m09697f020b\" y=\"212.895515\"/>\n     <use style=\"fill:#ff7f0e;stroke:#ff7f0e;\" x=\"338.604261\" xlink:href=\"#m09697f020b\" y=\"214.57268\"/>\n     <use style=\"fill:#ff7f0e;stroke:#ff7f0e;\" x=\"353.822443\" xlink:href=\"#m09697f020b\" y=\"214.756364\"/>\n    </g>\n   </g>\n   <g id=\"line2d_17\">\n    <path clip-path=\"url(#pcbfb81e0a5)\" d=\"M 49.458807 17.083636 \nL 64.676989 33.609418 \nL 79.89517 50.970675 \nL 95.113352 65.284337 \nL 110.331534 82.037704 \nL 125.549716 96.234106 \nL 140.767898 110.456946 \nL 155.98608 123.385117 \nL 171.204261 134.220897 \nL 186.422443 144.540013 \nL 201.640625 155.900422 \nL 216.858807 167.39749 \nL 232.076989 175.19453 \nL 247.29517 183.029358 \nL 262.513352 192.141632 \nL 277.731534 198.708086 \nL 292.949716 205.164686 \nL 308.167898 209.162659 \nL 323.38608 212.57817 \nL 338.604261 214.499955 \nL 353.822443 214.756364 \n\" style=\"fill:none;stroke:#ff0000;stroke-linecap:square;stroke-width:1.5;\"/>\n   </g>\n   <g id=\"line2d_18\">\n    <path clip-path=\"url(#pcbfb81e0a5)\" d=\"M 49.458807 27.842119 \nL 64.676989 44.269948 \nL 79.89517 61.238742 \nL 95.113352 75.298204 \nL 110.331534 91.494793 \nL 125.549716 105.129867 \nL 140.767898 118.857183 \nL 155.98608 131.136624 \nL 171.204261 141.355623 \nL 186.422443 151.099625 \nL 201.640625 161.75701 \nL 216.858807 172.505924 \nL 232.076989 179.802606 \nL 247.29517 186.972108 \nL 262.513352 195.229591 \nL 277.731534 201.19317 \nL 292.949716 206.915383 \nL 308.167898 210.344687 \nL 323.38608 213.21286 \nL 338.604261 214.645406 \nL 353.822443 214.756364 \n\" style=\"fill:none;stroke:#ff0000;stroke-linecap:square;stroke-width:1.5;\"/>\n   </g>\n   <g id=\"patch_3\">\n    <path d=\"M 34.240625 224.64 \nL 34.240625 7.2 \n\" style=\"fill:none;stroke:#000000;stroke-linecap:square;stroke-linejoin:miter;stroke-width:0.8;\"/>\n   </g>\n   <g id=\"patch_4\">\n    <path d=\"M 369.040625 224.64 \nL 369.040625 7.2 \n\" style=\"fill:none;stroke:#000000;stroke-linecap:square;stroke-linejoin:miter;stroke-width:0.8;\"/>\n   </g>\n   <g id=\"patch_5\">\n    <path d=\"M 34.240625 224.64 \nL 369.040625 224.64 \n\" style=\"fill:none;stroke:#000000;stroke-linecap:square;stroke-linejoin:miter;stroke-width:0.8;\"/>\n   </g>\n   <g id=\"patch_6\">\n    <path d=\"M 34.240625 7.2 \nL 369.040625 7.2 \n\" style=\"fill:none;stroke:#000000;stroke-linecap:square;stroke-linejoin:miter;stroke-width:0.8;\"/>\n   </g>\n  </g>\n </g>\n <defs>\n  <clipPath id=\"pcbfb81e0a5\">\n   <rect height=\"217.44\" width=\"334.8\" x=\"34.240625\" y=\"7.2\"/>\n  </clipPath>\n </defs>\n</svg>\n",
      "image/png": "[encoded data removed]"
     },
     "metadata": {
      "needs_background": "light"
     }
    }
   ],
   "metadata": {},
   "execution_count": 30
  },
  {
   "cell_type": "markdown",
   "metadata": {},
   "source": [
    "Finally, we plot our Monte Carlo CVA estimates for different correlations, alongside three standard deviation error bounds and the 0 correlation CVA. If you have implemented your code properly, your plot should look like the one in Figure 2."
   ]
  },
  {
   "cell_type": "code",
   "execution_count": null,
   "metadata": {},
   "outputs": [],
   "source": []
  }
 ],
 "metadata": {
  "kernelspec": {
   "display_name": "Python 3",
   "language": "python",
   "name": "python3"
  },
  "language_info": {
   "codemirror_mode": {
    "name": "ipython",
    "version": 3
   },
   "file_extension": ".py",
   "mimetype": "text/x-python",
   "name": "python",
   "nbconvert_exporter": "python",
   "pygments_lexer": "ipython3",
   "version": "3.6.10-final"
  }
 },
 "nbformat": 4,
 "nbformat_minor": 4
}